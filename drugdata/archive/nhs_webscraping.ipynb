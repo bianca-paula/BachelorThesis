{
 "cells": [
  {
   "cell_type": "markdown",
   "metadata": {},
   "source": [
    "# How to webscrape drug information from the NHS Website"
   ]
  },
  {
   "cell_type": "code",
   "execution_count": 61,
   "metadata": {},
   "outputs": [],
   "source": [
    "import pandas as pd \n",
    "import numpy as np \n",
    "import seaborn as sns\n",
    "import matplotlib.pyplot as plt\n",
    "\n",
    "%matplotlib inline"
   ]
  },
  {
   "cell_type": "code",
   "execution_count": 62,
   "metadata": {},
   "outputs": [],
   "source": [
    "#import synthetic drug chart\n",
    "df = pd.read_csv('drug_chart.csv')\n",
    "df.drop(columns=['Unnamed: 0'], inplace=True)"
   ]
  },
  {
   "cell_type": "code",
   "execution_count": 63,
   "metadata": {},
   "outputs": [],
   "source": [
    "#prescription list formation \n",
    "def prescription_list(row): \n",
    "    if row['Prescriptions'] is np.nan: \n",
    "        return(np.nan)\n",
    "    else: \n",
    "        drugs = row['Prescriptions'].split(\", \")\n",
    "        \n",
    "        drugs_list = []\n",
    "        \n",
    "        for i in drugs: \n",
    "                drugs_list.append(i)      \n",
    "           \n",
    "        return(drugs_list)        \n",
    "    \n",
    "df['prescription_list'] = df.apply(prescription_list, axis=1)"
   ]
  },
  {
   "cell_type": "code",
   "execution_count": 64,
   "metadata": {},
   "outputs": [
    {
     "data": {
      "text/html": [
       "<div>\n",
       "<style scoped>\n",
       "    .dataframe tbody tr th:only-of-type {\n",
       "        vertical-align: middle;\n",
       "    }\n",
       "\n",
       "    .dataframe tbody tr th {\n",
       "        vertical-align: top;\n",
       "    }\n",
       "\n",
       "    .dataframe thead th {\n",
       "        text-align: right;\n",
       "    }\n",
       "</style>\n",
       "<table border=\"1\" class=\"dataframe\">\n",
       "  <thead>\n",
       "    <tr style=\"text-align: right;\">\n",
       "      <th></th>\n",
       "      <th>Prescriptions</th>\n",
       "      <th>prescription_count</th>\n",
       "      <th>prescription_list</th>\n",
       "    </tr>\n",
       "  </thead>\n",
       "  <tbody>\n",
       "    <tr>\n",
       "      <th>0</th>\n",
       "      <td>AMLODIPINE, LOSARTAN, SIMVASTATIN</td>\n",
       "      <td>3.0</td>\n",
       "      <td>[AMLODIPINE, LOSARTAN, SIMVASTATIN]</td>\n",
       "    </tr>\n",
       "    <tr>\n",
       "      <th>1</th>\n",
       "      <td>AMLODIPINE, NAPROXEN, SERTRALINE, TAMSULOSIN</td>\n",
       "      <td>4.0</td>\n",
       "      <td>[AMLODIPINE, NAPROXEN, SERTRALINE, TAMSULOSIN]</td>\n",
       "    </tr>\n",
       "    <tr>\n",
       "      <th>2</th>\n",
       "      <td>INDAPAMIDE, LEVOTHYROXINE, POTASSIUM CHLORIDE,...</td>\n",
       "      <td>4.0</td>\n",
       "      <td>[INDAPAMIDE, LEVOTHYROXINE, POTASSIUM CHLORIDE...</td>\n",
       "    </tr>\n",
       "    <tr>\n",
       "      <th>3</th>\n",
       "      <td>DIGOXIN, LOSARTAN, METFORMIN, METOPROLOL, PRAV...</td>\n",
       "      <td>7.0</td>\n",
       "      <td>[DIGOXIN, LOSARTAN, METFORMIN, METOPROLOL, PRA...</td>\n",
       "    </tr>\n",
       "    <tr>\n",
       "      <th>4</th>\n",
       "      <td>AMLODIPINE, ASPIRIN, ATORVASTATIN, GLIPIZIDE, ...</td>\n",
       "      <td>10.0</td>\n",
       "      <td>[AMLODIPINE, ASPIRIN, ATORVASTATIN, GLIPIZIDE,...</td>\n",
       "    </tr>\n",
       "  </tbody>\n",
       "</table>\n",
       "</div>"
      ],
      "text/plain": [
       "                                       Prescriptions  prescription_count  \\\n",
       "0                  AMLODIPINE, LOSARTAN, SIMVASTATIN                 3.0   \n",
       "1       AMLODIPINE, NAPROXEN, SERTRALINE, TAMSULOSIN                 4.0   \n",
       "2  INDAPAMIDE, LEVOTHYROXINE, POTASSIUM CHLORIDE,...                 4.0   \n",
       "3  DIGOXIN, LOSARTAN, METFORMIN, METOPROLOL, PRAV...                 7.0   \n",
       "4  AMLODIPINE, ASPIRIN, ATORVASTATIN, GLIPIZIDE, ...                10.0   \n",
       "\n",
       "                                   prescription_list  \n",
       "0                [AMLODIPINE, LOSARTAN, SIMVASTATIN]  \n",
       "1     [AMLODIPINE, NAPROXEN, SERTRALINE, TAMSULOSIN]  \n",
       "2  [INDAPAMIDE, LEVOTHYROXINE, POTASSIUM CHLORIDE...  \n",
       "3  [DIGOXIN, LOSARTAN, METFORMIN, METOPROLOL, PRA...  \n",
       "4  [AMLODIPINE, ASPIRIN, ATORVASTATIN, GLIPIZIDE,...  "
      ]
     },
     "execution_count": 64,
     "metadata": {},
     "output_type": "execute_result"
    }
   ],
   "source": [
    "#display\n",
    "df.head()"
   ]
  },
  {
   "cell_type": "code",
   "execution_count": 65,
   "metadata": {},
   "outputs": [],
   "source": [
    "from selenium import webdriver"
   ]
  },
  {
   "cell_type": "code",
   "execution_count": 68,
   "metadata": {},
   "outputs": [],
   "source": [
    "driver = webdriver.Chrome(\"/usr/local/bin/chromedriver\")"
   ]
  },
  {
   "cell_type": "code",
   "execution_count": 69,
   "metadata": {},
   "outputs": [],
   "source": [
    "#Find out how the website works for one page "
   ]
  },
  {
   "cell_type": "code",
   "execution_count": 70,
   "metadata": {},
   "outputs": [],
   "source": [
    "driver.get(\"https://www.nhs.uk/medicines/metformin/\")"
   ]
  },
  {
   "cell_type": "code",
   "execution_count": 71,
   "metadata": {},
   "outputs": [
    {
     "data": {
      "text/plain": [
       "\"Metformin is a medicine used to treat type 2 diabetes, and to help prevent type 2 diabetes if you're at high risk of developing it.\\nMetformin is used when treating polycystic ovary syndrome (PCOS), although it's not officially approved for PCOS.\\nType 2 diabetes is an illness where the body does not make enough insulin, or the insulin that it makes does not work properly. This can cause high blood sugar levels (hyperglycaemia).\\nPCOS is a condition that affects how the ovaries work.\\nMetformin lowers your blood sugar levels by improving the way your body handles insulin.\\nIt's usually prescribed for diabetes when diet and exercise alone have not been enough to control your blood sugar levels.\\nFor women with PCOS, metformin lowers insulin and blood sugar levels, and can also stimulate ovulation.\\nMetformin is available on prescription as tablets and as a liquid that you drink.\""
      ]
     },
     "execution_count": 71,
     "metadata": {},
     "output_type": "execute_result"
    }
   ],
   "source": [
    "#scrape \n",
    "metformin = driver.find_element_by_xpath(\"\"\"//*[@id=\"about-metformin\"]/div\"\"\")\n",
    "metformin.text"
   ]
  },
  {
   "cell_type": "code",
   "execution_count": 72,
   "metadata": {},
   "outputs": [
    {
     "data": {
      "text/plain": [
       "\"Metformin is a medicine used to treat type 2 diabetes, and to help prevent type 2 diabetes if you're at high risk of developing it. Metformin is used when treating polycystic ovary syndrome (PCOS), although it's not officially approved for PCOS. Type 2 diabetes is an illness where the body does not make enough insulin, or the insulin that it makes does not work properly. This can cause high blood sugar levels (hyperglycaemia). PCOS is a condition that affects how the ovaries work. Metformin lowers your blood sugar levels by improving the way your body handles insulin. It's usually prescribed for diabetes when diet and exercise alone have not been enough to control your blood sugar levels. For women with PCOS, metformin lowers insulin and blood sugar levels, and can also stimulate ovulation. Metformin is available on prescription as tablets and as a liquid that you drink.\""
      ]
     },
     "execution_count": 72,
     "metadata": {},
     "output_type": "execute_result"
    }
   ],
   "source": [
    "#remove unsightly escape characters \n",
    "metformin.text.replace(\"\\n\", \" \")"
   ]
  },
  {
   "cell_type": "code",
   "execution_count": 73,
   "metadata": {},
   "outputs": [],
   "source": [
    "#build a function to scrape text for any drug "
   ]
  },
  {
   "cell_type": "code",
   "execution_count": 74,
   "metadata": {},
   "outputs": [],
   "source": [
    "def nhs_details(drug): \n",
    "    \n",
    "    drug = drug.lower()\n",
    "    try: \n",
    "        driver.get(f\"https://www.nhs.uk/medicines/{drug}/\")\n",
    "        section_1 = driver.find_element_by_xpath(f\"\"\"//*[@id=\"about-{drug}\"]/div\"\"\")\n",
    "        section_1_text = section_1.text.replace(\"\\n\", \" \")\n",
    "        section_2 = driver.find_element_by_xpath(\"\"\"//*[@id=\"key-facts\"]/div\"\"\")\n",
    "        section_2_text = section_2.text.replace(\"\\n\", \" \")\n",
    "        try: \n",
    "            section_3 = driver.find_element_by_xpath(f\"\"\"//*[@id=\"who-can-and-cannot-take-{drug}\"]/div\"\"\")\n",
    "            section_3_text = section_3.text.replace(\"\\n\", \" \")\n",
    "        except: \n",
    "            section_3 = driver.find_element_by_xpath(f\"\"\"//*[@id=\"who-can-and-cant-take-{drug}\"]/div\"\"\")\n",
    "            section_3_text = section_3.text.replace(\"\\n\", \" \")\n",
    "        try: \n",
    "            section_4 = driver.find_element_by_xpath(f\"\"\"//*[@id=\"how-and-when-to-take-it\"]\"\"\")\n",
    "            section_4_text = section_4.text.replace(\"\\n\", \" \")\n",
    "        except: \n",
    "            section_4 = driver.find_element_by_xpath(f\"\"\"//*[@id=\"how-and-when-to-take-{drug}\"]\"\"\")\n",
    "            section_4_text = section_4.text.replace(\"\\n\", \" \")\n",
    "            \n",
    "        return(section_1_text, section_2_text, section_3_text, section_4_text)\n",
    "        \n",
    "    except: \n",
    "        driver.get(f\"https://www.nhs.uk/medicines/{drug}-for-adults/\")\n",
    "        section_1 = driver.find_element_by_xpath(f\"\"\"//*[@id=\"about-{drug}-for-adults\"]/div\"\"\")\n",
    "        section_1_text = section_1.text.replace(\"\\n\", \" \")\n",
    "        section_2 = driver.find_element_by_xpath(\"\"\"//*[@id=\"key-facts\"]/div\"\"\")\n",
    "        section_2_text = section_2.text.replace(\"\\n\", \" \")\n",
    "        section_3 = driver.find_element_by_xpath(f\"\"\"//*[@id=\"who-can-and-cannot-take-{drug}\"]/div\"\"\")\n",
    "        section_3_text = section_3.text.replace(\"\\n\", \" \")\n",
    "   \n",
    "    \n",
    "        return(section_1_text, section_2_text, section_3_text)"
   ]
  },
  {
   "cell_type": "code",
   "execution_count": 75,
   "metadata": {},
   "outputs": [
    {
     "data": {
      "text/plain": [
       "('Sitagliptin is a medicine used to treat type 2 diabetes. Type 2 diabetes is an illness where the body does not make enough insulin, or the insulin that it makes does not work properly. This can cause high blood sugar levels (hyperglycaemia). Sitagliptin is prescribed for people who still have high blood sugar, even though they have a sensible diet and exercise regularly. Sitagliptin is only available on prescription. It comes as tablets that you swallow. It also comes as tablets containing a mixture of sitagliptin and metformin. Metformin is another drug used to treat diabetes.',\n",
       " \"Sitagliptin works by increasing the amount of insulin that your body makes. Insulin is the hormone that controls sugar levels in your blood. You take sitagliptin once a day. The most common side effect of sitagliptin is headaches. This medicine does not usually make you put on weight. Sitagliptin is also called by the brand name Januvia. When combined with metformin it's called Janumet.\",\n",
       " \"Sitagliptin can be taken by adults (aged 18 years and older). Sitagliptin is not suitable for some people. To make sure it's safe for you, tell your doctor if you: have had an allergic reaction to sitagliptin or any other medicines in the past have problems with your pancreas have gallstones or very high levels of triglycerides (a type of fat) in your blood are a heavy drinker or dependent on alcohol have (or have previously had) any problems with your kidneys are pregnant or breastfeeding, or trying to get pregnant This medicine is not used to treat type 1 diabetes (when your body does not produce insulin).\",\n",
       " \"4. How and when to take it Take sitagliptin once a day. You can take it at any time - for example, in the morning or in the evening. Just try to take it at the same time every day. Take your tablet with a glass of water. Swallow the tablet whole, without breaking it. You can take sitagliptin with or without food. How much will I take? Sitagliptin comes as 25mg, 50mg and 100mg tablets. The usual dose is 100mg a day. Your doctor might give you a lower dose of 25mg or 50mg a day if you have problems with your kidneys. What if I take too much? Urgent advice: Talk to your doctor if you take too much sitagliptin and: have stomach pains are feeling or being sick (nausea or vomiting) feel dizzy are worried What if I forget to take it? Take the missed dose as soon as you remember, unless it's nearly time for your next dose. In this case, skip the missed dose and take your next dose at the usual time. Do not take a double dose to make up for a forgotten one. If you forget doses often, it may help to set an alarm to remind you. You could ask your pharmacist for advice on other ways to remember your medicines.\")"
      ]
     },
     "execution_count": 75,
     "metadata": {},
     "output_type": "execute_result"
    }
   ],
   "source": [
    "nhs_details('SITAGLIPTIN')"
   ]
  },
  {
   "cell_type": "code",
   "execution_count": 76,
   "metadata": {},
   "outputs": [],
   "source": [
    "#build a function that returns information for all medication prescribed \n",
    "def drug_information(patient_number): \n",
    "    \"\"\"webscrapes NHS website and returns drug information\"\"\"\n",
    "\n",
    "    drugs = df.loc[patient_number]['prescription_list']\n",
    "    print(drugs)\n",
    "        \n",
    "    for drug in drugs: \n",
    "            print('\\nPrescription medication:', drug)\n",
    "            print('\\nAccessing NHS drug information')\n",
    "            \n",
    "            try: \n",
    "                print(nhs_details(drug))\n",
    "                \n",
    "            except: \n",
    "                print('No NHS details available')\n",
    "                \n",
    "         \n"
   ]
  },
  {
   "cell_type": "code",
   "execution_count": 78,
   "metadata": {},
   "outputs": [
    {
     "name": "stdout",
     "output_type": "stream",
     "text": [
      "['AMLODIPINE', 'NAPROXEN', 'SERTRALINE', 'TAMSULOSIN']\n",
      "\n",
      "Prescription medication: AMLODIPINE\n",
      "\n",
      "Accessing NHS drug information\n",
      "('Amlodipine is a medicine used to treat high blood pressure (hypertension). If you have high blood pressure, taking amlodipine helps prevent future heart disease, heart attacks and strokes. Amlodipine is also used to prevent chest pain caused by heart disease (angina). This medicine is only available on prescription. It comes as tablets or as a liquid to swallow.', \"Amlodipine lowers your blood pressure and makes it easier for your heart to pump blood around your body. It's usual to take amlodipine once a day. You can take it at any time of day, but try to make sure it's around the same time each day. The most common side effects include headache, flushing, feeling tired and swollen ankles. These usually improve after a few days. Amlodipine can be called amlodipine besilate, amlodipine maleate or amlodipine mesilate. This is because the medicine contains another chemical to make it easier for your body to take up and use it. It doesn't matter what your amlodipine is called. They all work as well as each other. Amlodipine is also called by the brand names Istin and Amlostin.\", \"Amlodipine can be taken by adults and children aged 6 years and over. Amlodipine is not suitable for some people. To make sure amlodipine is safe for you, tell your doctor if you: have had an allergic reaction to amlodipine or any other medicines in the past are trying to get pregnant, are already pregnant or you're breastfeeding have liver or kidney disease have heart failure or you have recently had a heart attack\", \"4. How and when to take it Take amlodipine exactly as your doctor has told you, and follow the directions on the label. If you're not sure, check with your doctor or pharmacist. It's usual to take amlodipine once a day. You can take amlodipine at any time of day, but try to make sure it's around the same time every day. How much to take Amlodipine comes as 5mg and 10mg tablets. Depending on why you're taking amlodipine, the usual starting dose is 5mg once a day. If the starting dose isn't working well enough (your blood pressure doesn't lower enough, or your angina isn't controlled), you may need to increase your dose to 10mg. To decide the correct dose for you in the longer term, your doctor will check your blood pressure to make sure it's not too high or too low. They'll also ask if you're getting any side effects from the medicine. Doses may be lower for children. How to take it You can take amlodipine with or without food. Swallow amlodipine tablets whole with a drink of water. If it's easier, you can dissolve the tablets in a glass of water, but you must drink it all straight away if you do this. Do not eat or drink lots of grapefruit or grapefruit juice while you're taking this medicine. Grapefruit can increase the concentration of amlodipine in your body and worsen side effects. If you're taking amlodipine as a liquid, it'll come with a plastic syringe or spoon to help you measure out the right dose. If you don't have one, ask your pharmacist for one. Do not use a kitchen teaspoon as it will not give the right amount of medicine. Do not mix the liquid with food or other drinks before taking it. Important Take amlodipine even if you feel well, as you'll still be getting the benefits of the medicine. What if I forget to take it? If you forget to take a dose of amlodipine, take it as soon as you remember that day and then carry on as normal. If you forget to take the dose for the whole day, skip the missed dose and carry on as normal the next day. Do not take a double dose to make up for a forgotten one. If you forget doses often, it may help to set an alarm to remind you. You could also ask your pharmacist for advice on other ways to help you remember to take your medicine. What if I take too much? If you take too much amlodipine by accident, contact your doctor or go to your nearest hospital straight away. An overdose of amlodipine can cause dizziness and sleepiness. The amount of amlodipine that can lead to an overdose varies from person to person. Urgent advice: Call your doctor or go to A&E straight away if you take too much amlodipine If you need to go to an A&E, do not drive yourself - get someone else to drive you or call for an ambulance. Take the amlodipine packet or leaflet inside it, plus any remaining medicine, with you.\")\n",
      "\n",
      "Prescription medication: NAPROXEN\n",
      "\n",
      "Accessing NHS drug information\n",
      "(\"Naproxen is a medicine that reduces inflammation and pain in joints and muscles. It's used to treat diseases of joints, such as rheumatoid arthritis, osteoarthritis and gout. It's also used for period pain and muscle and bone disorders, such as back pain and sprains and strains. Naproxen is available on prescription as tablets or as a liquid that you drink. You can buy it without a prescription from a pharmacy for period pain. Naproxen can only be taken by children when it's prescribed for them.\", \"Take naproxen tablets with or just after a meal or snack. Take the lowest dose of naproxen for the shortest time to control your symptoms. The most common side effects of naproxen are confusion, headache, ringing in the ears, changes in vision, tiredness, drowsiness, dizziness and rashes. For strains and sprains, some doctors and pharmacists recommend waiting 48 hours before taking naproxen as it may slow down healing. If you're unsure, speak to a pharmacist. If you're taking naproxen for a long time or at risk of getting a stomach ulcer, your doctor may prescribe a medicine to protect your stomach.\", \"Most adults can be prescribed naproxen. It can also be prescribed to children to treat: muscle and bone disorders for babies from 1 month diseases of the joints for children from 2 years period pain – for children under 15 Adults and teenagers aged 15 and over can buy it from a pharmacy for period pain. Naproxen is not suitable for certain people. Tell your doctor or pharmacist if you: have had an allergic reaction to naproxen or any other medicines in the past have had an allergic reaction to aspirin or other non-steroidal anti-inflammatory medicines (NSAIDs), such as ibuprofen have or have had stomach ulcers, bleeding in the stomach or intestines, or a hole in your stomach have high blood pressure have severe liver or kidney failure have severe heart failure or other heart problems have Crohn's disease or ulcerative colitis have lupus have a blood clotting disorder are pregnant, planning to become pregnant, or breastfeeding\", \"4. How and when to take naproxen Always take your naproxen tablets with or just after a meal so you do not get an upset stomach. As a general rule in adults, the dose to treat: diseases of joints is 500mg to 1,000mg a day in 1 or 2 doses muscle, bone disorders and painful periods is 500mg at first, then 250mg every 6 to 8 hours as required attacks of gout is 750mg, then 250mg every 8 hours until the attack has passed Doses are usually lower for elderly people and people with heart, liver or kidney problems. The doctor will use your child's weight to work out the right dose. If you get naproxen on prescription, the dose depends on the reason why you're taking it, your age, how well your liver and kidneys work, and how well it helps your symptoms. If you buy naproxen from a pharmacy for painful menstrual periods: on the first day - take 2 tablets when the pain starts, then after 6 to 8 hours take 1 more tablet that day if you need to on the second and following days - take 1 tablet every 6 to 8 hours if needed Important Do not take more than 3 tablets in 24 hours for period pain. How to take it Naproxen on prescription comes as 2 different tablets: effervescent and gastro-resistant tablets. Effervescent tablets are dissolved in water before you take them. Gastro-resistant tablets have a coating to protect them from being broken down by the acid in your stomach. Instead, the medicine is released further down the gut in your intestine. If you take gastro-resistant tablets, swallow them whole with or after food. Do not crush or chew them. If you take effervescent tablets, dissolve 1 to 2 tablets in a glass (150ml) of water and drink. Doses of 3 tablets should be dissolved in 300ml. To make sure there's no medicine left, rinse the empty glass with a small amount of water and drink it. Take with or after food. What if I forget to take it? Take your forgotten dose as soon as you remember, unless it's nearly time for your next dose. Do not take a double dose to make up for a forgotten dose. If you forget doses often, it may help to set an alarm to remind you. You could also ask your pharmacist for advice on other ways to help you remember to take your medicine. What if I take too much? If you take too many naproxen tablets, you're more likely to get some of the common side effects. Contact your doctor straight away.\")\n",
      "\n",
      "Prescription medication: SERTRALINE\n",
      "\n",
      "Accessing NHS drug information\n"
     ]
    },
    {
     "name": "stdout",
     "output_type": "stream",
     "text": [
      "(\"Sertraline is a type of antidepressant known as a selective serotonin reuptake inhibitor (SSRI). It's often used to treat depression, and also sometimes panic attacks, obsessive compulsive disorder (OCD) and post-traumatic stress disorder (PTSD). Sertraline helps many people recover from depression, and has fewer unwanted side effects than older antidepressants. Sertraline comes as tablets, which are available only on prescription.\", \"It usually takes 4 to 6 weeks for sertraline to work. Side effects such as feeling sick, headaches and trouble sleeping are common. They're usually mild and go away after a couple of weeks. If you and your doctor decide to take you off sertraline, your doctor will probably recommend reducing your dose gradually to help prevent extra side effects.\", 'Sertraline can be taken by adults for depression or obsessive compulsive disorder. Sertraline can be taken by children aged 6 to 17, but only for obsessive compulsive disorder. Check with your doctor before starting sertraline if you: have had an allergic reaction to sertraline or any other medicines in the past have a heart problem - sertraline can speed up or change your heartbeat have ever taken any other medicines for depression – some rarely used antidepressants can interfere with sertraline to cause very high blood pressure, even when they have been stopped for a few weeks are trying to become pregnant, already pregnant or breastfeeding have an eye problem called glaucoma - sertraline can increase the pressure in your eye have epilepsy or are having electroconvulsive treatment - sertraline may increase your risk of having a seizure If you have diabetes, sertraline can make it more difficult to keep your blood sugar stable. Monitor your blood sugar more often for the first few weeks of treatment with sertraline and adjust your diabetes treatment if necessary.', \"4. How and when to take it Take sertraline once a day. You can take sertraline with or without food. You can choose to take sertraline at any time, as long as you stick to the same time every day. If you have trouble sleeping, it's best to take it in the morning. Dosage The usual dose of sertraline is 50mg a day in adults. But it might be started at a lower dose, then increased gradually to a maximum dose of 200mg a day. If you have liver problems, your doctor might give you a lower dose or advise you to take sertraline less often. The usual dose of sertraline in children aged 6 to 12 is 25mg a day, but this may be increased to 50mg a day after a week. The usual dose of sertraline in children aged 13 to 17 is 50mg a day. Children aged 6 to 17 might have their dose increased up to 200mg a day, if needed. What if I forget to take it? If you occasionally forget to take a dose, do not worry. Take your next dose the next day at the usual time. Never take 2 doses at the same time to make up for a forgotten one. If you forget doses often, it may help to set an alarm to remind you. You could also ask your pharmacist for advice on other ways to help you remember to take your medicine. What if I take too much? The amount of sertraline that can lead to an overdose varies from person to person. Urgent advice: Call your doctor straight away if: You have taken too much sertraline and have symptoms such as: being sick (vomiting) shaking feeling sleepy dizziness fast heart rate fits or seizures If you need to go to A&E, do not drive yourself – get someone else to drive you or call for an ambulance. Take the sertraline packet, or the leaflet inside it, plus any remaining medicine with you.\")\n",
      "\n",
      "Prescription medication: TAMSULOSIN\n",
      "\n",
      "Accessing NHS drug information\n",
      "(\"Tamsulosin belongs to a group of medicines called alpha-blockers. It's used to treat men with symptoms of an enlarged prostate (benign prostate enlargement). It's also occasionally taken to treat kidney stones. Tamsulosin is available on prescription and you can also buy it from pharmacies. It comes as tablets and capsules. If you buy tamsulosin from a pharmacy make sure you see your doctor within 6 weeks of starting your treatment to make sure it's OK for you to carry on taking this medicine. Tamsulosin is also known by brand names such as Flomax Relief and Flomaxtra XL. Tamsulosin is sometimes combined with other ingredients to treat bladder problems and enlarged prostate. Brand names include Vesomni (with solifenacin) and Combodart (with dutasteride).\", \"Tamsulosin helps reduce the symptoms of an enlarged prostate gland by relaxing the muscles in the bladder and prostate so you can pee more easily. When you first take tamsulosin, it may make you feel dizzy or lightheaded. If this happens it's best to sit or lie down until your feel better. Tamsulosin is taken once a day, usually in the morning after breakfast or the first meal of the day. The main side effects of tamsulosin are feeling dizzy and problems when men ejaculate (such as little or no semen).\", 'Tamsulosin can be taken by adults (aged 18 and over). Do not give this medicine to children, unless on the advice of a specialist. Tamsulosin is not suitable for some people. To make sure this medicine is safe for you, tell a doctor if you: have had an allergic reaction to tamsulosin or any other similar medicine in the past have orthostatic hypotension, a form of low blood pressure that can make you feel dizzy or lightheaded when you stand up have severe liver or kidney problems are having eye surgery for cataracts or glaucoma', \"4. How and when to take it Tamsulosin comes as slow-release tablets and capsules (also called modified release, prolonged release, MR or XL). This means the medicine is released into your body gradually. How much will I take? The usual dose of tamsulosin for enlarged prostate and kidney stone is 400 micrograms, once a day. The word microgram is sometimes written with the Greek symbol μ followed by the letter g (μg). A microgram is 1,000 times smaller than a milligram (mg). How to take it Swallow your tamsulosin capsules or tablets whole with a glass of water. Do not break, chew or crush them. If you can, take tamsulosin in the morning, after breakfast or the first meal or snack of the day. This is so the highest levels of medicine are in your body during the day and gives you the most benefit when you are most likely trying to pee. It's best to take it at about the same time each day. What if I forget to take it? If you miss a dose of tamsulosin, and you remember within 6 hours, take the missed dose as soon as you remember. If it's more than 6 hours, skip the missed dose and take your next dose at the usual time the next day. Do not take a double dose to make up for a forgotten dose. If you forget doses often, it may help to set an alarm to remind you. You could also ask your pharmacist for advice on other ways to help you remember to take your medicine. What if I take too much? Taking too much tamsulosin can lead to a decrease in your blood pressure and an increase in your heart rate. You may feel drowsy, faint and lightheaded. Urgent advice: Call 111 for advice now if: you take too much tamsulosin and feel unwell If you need to go to hospital, do not drive yourself – get someone else to drive you or call an ambulance. Take the tamsulosin packet, or the leaflet inside it with you plus any remaining medicine.\")\n"
     ]
    }
   ],
   "source": [
    "drug_information(1)"
   ]
  },
  {
   "cell_type": "code",
   "execution_count": null,
   "metadata": {},
   "outputs": [],
   "source": []
  }
 ],
 "metadata": {
  "kernelspec": {
   "display_name": "Python 3",
   "language": "python",
   "name": "python3"
  },
  "language_info": {
   "codemirror_mode": {
    "name": "ipython",
    "version": 3
   },
   "file_extension": ".py",
   "mimetype": "text/x-python",
   "name": "python",
   "nbconvert_exporter": "python",
   "pygments_lexer": "ipython3",
   "version": "3.7.4"
  }
 },
 "nbformat": 4,
 "nbformat_minor": 4
}
