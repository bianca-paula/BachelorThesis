{
 "cells": [
  {
   "cell_type": "markdown",
   "metadata": {
    "_uuid": "db8dfe3cf8a24964acc7d4f832e8cba1cbf8ffe8"
   },
   "source": [
    "# 💥 KModes Clustering in cardio data 💥\n",
    "\n",
    "The dataset consists of 70 000 records of patients data in 12 features, such as age, gender, systolic blood pressure, diastolic blood pressure, and etc. The target class \"cardio\" equals to 1, when patient has cardiovascular desease, and it's 0, if patient is healthy.\n",
    "\n",
    "The task is to predict the presence or absence of cardiovascular disease (CVD) using the patient examination results. \n",
    "\n",
    "#### Data description\n",
    "\n",
    "There are 3 types of input features:\n",
    "\n",
    "- *Objective*: factual information;\n",
    "- *Examination*: results of medical examination;\n",
    "- *Subjective*: information given by the patient.\n",
    "\n",
    "| Feature | Variable Type | Variable      | Value Type |\n",
    "|---------|--------------|---------------|------------|\n",
    "| Age | Objective Feature | age | int (days) |\n",
    "| Height | Objective Feature | height | int (cm) |\n",
    "| Weight | Objective Feature | weight | float (kg) |\n",
    "| Gender | Objective Feature | gender | categorical code |\n",
    "| Systolic blood pressure | Examination Feature | ap_hi | int |\n",
    "| Diastolic blood pressure | Examination Feature | ap_lo | int |\n",
    "| Cholesterol | Examination Feature | cholesterol | 1: normal, 2: above normal, 3: well above normal |\n",
    "| Glucose | Examination Feature | gluc | 1: normal, 2: above normal, 3: well above normal |\n",
    "| Smoking | Subjective Feature | smoke | binary |\n",
    "| Alcohol intake | Subjective Feature | alco | binary |\n",
    "| Physical activity | Subjective Feature | active | binary |\n",
    "| Presence or absence of cardiovascular disease | Target Variable | cardio | binary |\n",
    "\n",
    "All of the dataset values were collected at the moment of medical examination. \n"
   ]
  },
  {
   "cell_type": "markdown",
   "metadata": {},
   "source": [
    "### KModes\n",
    "\n",
    "KModes clustering is one of the unsupervised Machine Learning algorithms that is used to cluster **categorical variables**.\n",
    "\n",
    "font: https://www.analyticsvidhya.com/blog/2021/06/kmodes-clustering-algorithm-for-categorical-data/"
   ]
  },
  {
   "cell_type": "markdown",
   "metadata": {},
   "source": [
    "***"
   ]
  },
  {
   "cell_type": "markdown",
   "metadata": {},
   "source": [
    "# 1.1 Initial analysis\n",
    "Let's look at the dataset and given variables."
   ]
  },
  {
   "cell_type": "markdown",
   "metadata": {},
   "source": [
    "## 1.2 Importing Libraries"
   ]
  },
  {
   "cell_type": "code",
   "execution_count": 1,
   "metadata": {
    "_cell_guid": "b1076dfc-b9ad-4769-8c92-a6c4dae69d19",
    "_uuid": "8f2839f25d086af736a60e9eeb907d3b93b6e0e5",
    "execution": {
     "iopub.execute_input": "2022-03-17T19:50:11.418033Z",
     "iopub.status.busy": "2022-03-17T19:50:11.417541Z",
     "iopub.status.idle": "2022-03-17T19:50:13.036855Z",
     "shell.execute_reply": "2022-03-17T19:50:13.035334Z",
     "shell.execute_reply.started": "2022-03-17T19:50:11.417965Z"
    }
   },
   "outputs": [],
   "source": [
    "import numpy as np # linear algebra\n",
    "import pandas as pd # data processing, CSV file I/O (e.g. pd.read_csv)\n",
    "import seaborn as sns\n",
    "from matplotlib import pyplot as plt\n",
    "%matplotlib inline\n",
    "import os\n",
    "df = pd.read_csv(\"../input/cardio_train.csv\",sep=\";\")\n",
    "\n",
    "from kmodes.kmodes import KModes\n",
    "\n",
    "from sklearn.metrics import confusion_matrix\n",
    "from sklearn.metrics import accuracy_score\n",
    "from sklearn.metrics import classification_report\n",
    "\n",
    "# supress warnings\n",
    "import warnings\n",
    "warnings.filterwarnings('ignore')"
   ]
  },
  {
   "cell_type": "code",
   "execution_count": 2,
   "metadata": {
    "_uuid": "010df08d1394e4666a485ba4493f6ca511076cd8",
    "execution": {
     "iopub.execute_input": "2022-03-17T19:50:13.039135Z",
     "iopub.status.busy": "2022-03-17T19:50:13.038802Z",
     "iopub.status.idle": "2022-03-17T19:50:13.093830Z",
     "shell.execute_reply": "2022-03-17T19:50:13.092667Z",
     "shell.execute_reply.started": "2022-03-17T19:50:13.039083Z"
    }
   },
   "outputs": [
    {
     "data": {
      "text/html": [
       "<div>\n",
       "<style scoped>\n",
       "    .dataframe tbody tr th:only-of-type {\n",
       "        vertical-align: middle;\n",
       "    }\n",
       "\n",
       "    .dataframe tbody tr th {\n",
       "        vertical-align: top;\n",
       "    }\n",
       "\n",
       "    .dataframe thead th {\n",
       "        text-align: right;\n",
       "    }\n",
       "</style>\n",
       "<table border=\"1\" class=\"dataframe\">\n",
       "  <thead>\n",
       "    <tr style=\"text-align: right;\">\n",
       "      <th></th>\n",
       "      <th>id</th>\n",
       "      <th>age</th>\n",
       "      <th>gender</th>\n",
       "      <th>height</th>\n",
       "      <th>weight</th>\n",
       "      <th>ap_hi</th>\n",
       "      <th>ap_lo</th>\n",
       "      <th>cholesterol</th>\n",
       "      <th>gluc</th>\n",
       "      <th>smoke</th>\n",
       "      <th>alco</th>\n",
       "      <th>active</th>\n",
       "      <th>cardio</th>\n",
       "    </tr>\n",
       "  </thead>\n",
       "  <tbody>\n",
       "    <tr>\n",
       "      <th>0</th>\n",
       "      <td>0</td>\n",
       "      <td>18393</td>\n",
       "      <td>2</td>\n",
       "      <td>168</td>\n",
       "      <td>62.0</td>\n",
       "      <td>110</td>\n",
       "      <td>80</td>\n",
       "      <td>1</td>\n",
       "      <td>1</td>\n",
       "      <td>0</td>\n",
       "      <td>0</td>\n",
       "      <td>1</td>\n",
       "      <td>0</td>\n",
       "    </tr>\n",
       "    <tr>\n",
       "      <th>1</th>\n",
       "      <td>1</td>\n",
       "      <td>20228</td>\n",
       "      <td>1</td>\n",
       "      <td>156</td>\n",
       "      <td>85.0</td>\n",
       "      <td>140</td>\n",
       "      <td>90</td>\n",
       "      <td>3</td>\n",
       "      <td>1</td>\n",
       "      <td>0</td>\n",
       "      <td>0</td>\n",
       "      <td>1</td>\n",
       "      <td>1</td>\n",
       "    </tr>\n",
       "    <tr>\n",
       "      <th>2</th>\n",
       "      <td>2</td>\n",
       "      <td>18857</td>\n",
       "      <td>1</td>\n",
       "      <td>165</td>\n",
       "      <td>64.0</td>\n",
       "      <td>130</td>\n",
       "      <td>70</td>\n",
       "      <td>3</td>\n",
       "      <td>1</td>\n",
       "      <td>0</td>\n",
       "      <td>0</td>\n",
       "      <td>0</td>\n",
       "      <td>1</td>\n",
       "    </tr>\n",
       "    <tr>\n",
       "      <th>3</th>\n",
       "      <td>3</td>\n",
       "      <td>17623</td>\n",
       "      <td>2</td>\n",
       "      <td>169</td>\n",
       "      <td>82.0</td>\n",
       "      <td>150</td>\n",
       "      <td>100</td>\n",
       "      <td>1</td>\n",
       "      <td>1</td>\n",
       "      <td>0</td>\n",
       "      <td>0</td>\n",
       "      <td>1</td>\n",
       "      <td>1</td>\n",
       "    </tr>\n",
       "    <tr>\n",
       "      <th>4</th>\n",
       "      <td>4</td>\n",
       "      <td>17474</td>\n",
       "      <td>1</td>\n",
       "      <td>156</td>\n",
       "      <td>56.0</td>\n",
       "      <td>100</td>\n",
       "      <td>60</td>\n",
       "      <td>1</td>\n",
       "      <td>1</td>\n",
       "      <td>0</td>\n",
       "      <td>0</td>\n",
       "      <td>0</td>\n",
       "      <td>0</td>\n",
       "    </tr>\n",
       "  </tbody>\n",
       "</table>\n",
       "</div>"
      ],
      "text/plain": [
       "   id    age  gender  height  weight   ...    gluc  smoke  alco  active  cardio\n",
       "0   0  18393       2     168    62.0   ...       1      0     0       1       0\n",
       "1   1  20228       1     156    85.0   ...       1      0     0       1       1\n",
       "2   2  18857       1     165    64.0   ...       1      0     0       0       1\n",
       "3   3  17623       2     169    82.0   ...       1      0     0       1       1\n",
       "4   4  17474       1     156    56.0   ...       1      0     0       0       0\n",
       "\n",
       "[5 rows x 13 columns]"
      ]
     },
     "execution_count": 2,
     "metadata": {},
     "output_type": "execute_result"
    }
   ],
   "source": [
    "df.head()"
   ]
  },
  {
   "cell_type": "markdown",
   "metadata": {
    "_uuid": "5ba11ab7bcc335fd3f5ef2b52b303a8c34b1051e"
   },
   "source": [
    "## 1.2 Cleaning Data"
   ]
  },
  {
   "cell_type": "code",
   "execution_count": 3,
   "metadata": {
    "_uuid": "ec92a220aabb9596f24376fb51177fd3cd497c31",
    "execution": {
     "iopub.execute_input": "2022-03-17T19:50:13.095787Z",
     "iopub.status.busy": "2022-03-17T19:50:13.095430Z",
     "iopub.status.idle": "2022-03-17T19:50:13.143230Z",
     "shell.execute_reply": "2022-03-17T19:50:13.140131Z",
     "shell.execute_reply.started": "2022-03-17T19:50:13.095728Z"
    }
   },
   "outputs": [
    {
     "name": "stdout",
     "output_type": "stream",
     "text": [
      "<class 'pandas.core.frame.DataFrame'>\n",
      "RangeIndex: 70000 entries, 0 to 69999\n",
      "Data columns (total 13 columns):\n",
      "id             70000 non-null int64\n",
      "age            70000 non-null int64\n",
      "gender         70000 non-null int64\n",
      "height         70000 non-null int64\n",
      "weight         70000 non-null float64\n",
      "ap_hi          70000 non-null int64\n",
      "ap_lo          70000 non-null int64\n",
      "cholesterol    70000 non-null int64\n",
      "gluc           70000 non-null int64\n",
      "smoke          70000 non-null int64\n",
      "alco           70000 non-null int64\n",
      "active         70000 non-null int64\n",
      "cardio         70000 non-null int64\n",
      "dtypes: float64(1), int64(12)\n",
      "memory usage: 6.9 MB\n"
     ]
    }
   ],
   "source": [
    "# General info about data\n",
    "df.info()"
   ]
  },
  {
   "cell_type": "markdown",
   "metadata": {
    "_uuid": "6878ef95cbfd1911879df48e762d2faccc1a7bce"
   },
   "source": [
    "All features are numerical, 12 integers and 1 decimal number (weight). The second column gives us an idea how big is the dataset and how many non-null values are there for each field. We can use `describe()` to display sample statistics such as `min`, `max`, `mean`,`std` for each attribute:"
   ]
  },
  {
   "cell_type": "code",
   "execution_count": 4,
   "metadata": {
    "execution": {
     "iopub.execute_input": "2022-03-17T19:50:13.145360Z",
     "iopub.status.busy": "2022-03-17T19:50:13.145016Z",
     "iopub.status.idle": "2022-03-17T19:50:13.158107Z",
     "shell.execute_reply": "2022-03-17T19:50:13.156865Z",
     "shell.execute_reply.started": "2022-03-17T19:50:13.145302Z"
    }
   },
   "outputs": [
    {
     "data": {
      "text/plain": [
       "False"
      ]
     },
     "execution_count": 4,
     "metadata": {},
     "output_type": "execute_result"
    }
   ],
   "source": [
    "# Are there any `NA`s or missing values in a dataset?\n",
    "df.isnull().values.any()"
   ]
  },
  {
   "cell_type": "markdown",
   "metadata": {},
   "source": [
    "## 1.2.2 Removing Outliers"
   ]
  },
  {
   "cell_type": "code",
   "execution_count": 5,
   "metadata": {
    "execution": {
     "iopub.execute_input": "2022-03-17T19:50:13.161346Z",
     "iopub.status.busy": "2022-03-17T19:50:13.160460Z",
     "iopub.status.idle": "2022-03-17T19:50:13.223446Z",
     "shell.execute_reply": "2022-03-17T19:50:13.222627Z",
     "shell.execute_reply.started": "2022-03-17T19:50:13.160807Z"
    }
   },
   "outputs": [],
   "source": [
    "#removing Outliers\n",
    "# Let's remove weights and heights, that fall below 2.5% or above 97.5% of a given range.\n",
    "df.drop(df[(df['height'] > df['height'].quantile(0.975)) | (df['height'] < df['height'].quantile(0.025))].index,inplace=True)\n",
    "df.drop(df[(df['weight'] > df['weight'].quantile(0.975)) | (df['weight'] < df['weight'].quantile(0.025))].index,inplace=True)"
   ]
  },
  {
   "cell_type": "code",
   "execution_count": 6,
   "metadata": {
    "execution": {
     "iopub.execute_input": "2022-03-17T19:50:13.225287Z",
     "iopub.status.busy": "2022-03-17T19:50:13.224910Z",
     "iopub.status.idle": "2022-03-17T19:50:13.235981Z",
     "shell.execute_reply": "2022-03-17T19:50:13.234415Z",
     "shell.execute_reply.started": "2022-03-17T19:50:13.225219Z"
    }
   },
   "outputs": [
    {
     "name": "stdout",
     "output_type": "stream",
     "text": [
      "Diastilic pressure is higher than systolic one in 1082 cases\n"
     ]
    }
   ],
   "source": [
    "#In addition, in some cases diastolic pressure is higher than systolic, which is also  incorrect. How many records are inaccurate in terms of blood pressure?\n",
    "print(\"Diastilic pressure is higher than systolic one in {0} cases\".format(df[df['ap_lo']> df['ap_hi']].shape[0]))"
   ]
  },
  {
   "cell_type": "code",
   "execution_count": 7,
   "metadata": {
    "execution": {
     "iopub.execute_input": "2022-03-17T19:50:13.240584Z",
     "iopub.status.busy": "2022-03-17T19:50:13.239090Z",
     "iopub.status.idle": "2022-03-17T19:50:13.281822Z",
     "shell.execute_reply": "2022-03-17T19:50:13.280952Z",
     "shell.execute_reply.started": "2022-03-17T19:50:13.239452Z"
    }
   },
   "outputs": [],
   "source": [
    "df.drop(df[(df['ap_hi'] > df['ap_hi'].quantile(0.975)) | (df['ap_hi'] < df['ap_hi'].quantile(0.025))].index,inplace=True)\n",
    "df.drop(df[(df['ap_lo'] > df['ap_lo'].quantile(0.975)) | (df['ap_lo'] < df['ap_lo'].quantile(0.025))].index,inplace=True)"
   ]
  },
  {
   "cell_type": "code",
   "execution_count": 8,
   "metadata": {
    "_uuid": "841e5cd4156b89e3a70ce8fdd5d0f9253d4b2297",
    "execution": {
     "iopub.execute_input": "2022-03-17T19:50:13.285980Z",
     "iopub.status.busy": "2022-03-17T19:50:13.285664Z",
     "iopub.status.idle": "2022-03-17T19:50:13.407362Z",
     "shell.execute_reply": "2022-03-17T19:50:13.406313Z",
     "shell.execute_reply.started": "2022-03-17T19:50:13.285924Z"
    }
   },
   "outputs": [
    {
     "data": {
      "text/html": [
       "<div>\n",
       "<style scoped>\n",
       "    .dataframe tbody tr th:only-of-type {\n",
       "        vertical-align: middle;\n",
       "    }\n",
       "\n",
       "    .dataframe tbody tr th {\n",
       "        vertical-align: top;\n",
       "    }\n",
       "\n",
       "    .dataframe thead th {\n",
       "        text-align: right;\n",
       "    }\n",
       "</style>\n",
       "<table border=\"1\" class=\"dataframe\">\n",
       "  <thead>\n",
       "    <tr style=\"text-align: right;\">\n",
       "      <th></th>\n",
       "      <th>id</th>\n",
       "      <th>age</th>\n",
       "      <th>gender</th>\n",
       "      <th>height</th>\n",
       "      <th>weight</th>\n",
       "      <th>ap_hi</th>\n",
       "      <th>ap_lo</th>\n",
       "      <th>cholesterol</th>\n",
       "      <th>gluc</th>\n",
       "      <th>smoke</th>\n",
       "      <th>alco</th>\n",
       "      <th>active</th>\n",
       "      <th>cardio</th>\n",
       "    </tr>\n",
       "  </thead>\n",
       "  <tbody>\n",
       "    <tr>\n",
       "      <th>count</th>\n",
       "      <td>60142.000000</td>\n",
       "      <td>60142.000000</td>\n",
       "      <td>60142.000000</td>\n",
       "      <td>60142.000000</td>\n",
       "      <td>60142.000000</td>\n",
       "      <td>60142.000000</td>\n",
       "      <td>60142.000000</td>\n",
       "      <td>60142.000000</td>\n",
       "      <td>60142.000000</td>\n",
       "      <td>60142.000000</td>\n",
       "      <td>60142.000000</td>\n",
       "      <td>60142.000000</td>\n",
       "      <td>60142.000000</td>\n",
       "    </tr>\n",
       "    <tr>\n",
       "      <th>mean</th>\n",
       "      <td>49895.698065</td>\n",
       "      <td>19468.719979</td>\n",
       "      <td>1.347311</td>\n",
       "      <td>164.554854</td>\n",
       "      <td>73.426805</td>\n",
       "      <td>125.770526</td>\n",
       "      <td>81.046307</td>\n",
       "      <td>1.350953</td>\n",
       "      <td>1.220229</td>\n",
       "      <td>0.085631</td>\n",
       "      <td>0.051877</td>\n",
       "      <td>0.803648</td>\n",
       "      <td>0.488228</td>\n",
       "    </tr>\n",
       "    <tr>\n",
       "      <th>std</th>\n",
       "      <td>28840.467755</td>\n",
       "      <td>2460.510296</td>\n",
       "      <td>0.476120</td>\n",
       "      <td>6.830174</td>\n",
       "      <td>11.614806</td>\n",
       "      <td>13.761847</td>\n",
       "      <td>8.239157</td>\n",
       "      <td>0.670076</td>\n",
       "      <td>0.567607</td>\n",
       "      <td>0.279820</td>\n",
       "      <td>0.221781</td>\n",
       "      <td>0.397241</td>\n",
       "      <td>0.499866</td>\n",
       "    </tr>\n",
       "    <tr>\n",
       "      <th>min</th>\n",
       "      <td>0.000000</td>\n",
       "      <td>10798.000000</td>\n",
       "      <td>1.000000</td>\n",
       "      <td>150.000000</td>\n",
       "      <td>52.000000</td>\n",
       "      <td>100.000000</td>\n",
       "      <td>60.000000</td>\n",
       "      <td>1.000000</td>\n",
       "      <td>1.000000</td>\n",
       "      <td>0.000000</td>\n",
       "      <td>0.000000</td>\n",
       "      <td>0.000000</td>\n",
       "      <td>0.000000</td>\n",
       "    </tr>\n",
       "    <tr>\n",
       "      <th>25%</th>\n",
       "      <td>24867.500000</td>\n",
       "      <td>17677.250000</td>\n",
       "      <td>1.000000</td>\n",
       "      <td>160.000000</td>\n",
       "      <td>65.000000</td>\n",
       "      <td>120.000000</td>\n",
       "      <td>80.000000</td>\n",
       "      <td>1.000000</td>\n",
       "      <td>1.000000</td>\n",
       "      <td>0.000000</td>\n",
       "      <td>0.000000</td>\n",
       "      <td>1.000000</td>\n",
       "      <td>0.000000</td>\n",
       "    </tr>\n",
       "    <tr>\n",
       "      <th>50%</th>\n",
       "      <td>49902.500000</td>\n",
       "      <td>19705.000000</td>\n",
       "      <td>1.000000</td>\n",
       "      <td>165.000000</td>\n",
       "      <td>72.000000</td>\n",
       "      <td>120.000000</td>\n",
       "      <td>80.000000</td>\n",
       "      <td>1.000000</td>\n",
       "      <td>1.000000</td>\n",
       "      <td>0.000000</td>\n",
       "      <td>0.000000</td>\n",
       "      <td>1.000000</td>\n",
       "      <td>0.000000</td>\n",
       "    </tr>\n",
       "    <tr>\n",
       "      <th>75%</th>\n",
       "      <td>74745.750000</td>\n",
       "      <td>21321.000000</td>\n",
       "      <td>2.000000</td>\n",
       "      <td>169.000000</td>\n",
       "      <td>80.000000</td>\n",
       "      <td>135.000000</td>\n",
       "      <td>90.000000</td>\n",
       "      <td>1.000000</td>\n",
       "      <td>1.000000</td>\n",
       "      <td>0.000000</td>\n",
       "      <td>0.000000</td>\n",
       "      <td>1.000000</td>\n",
       "      <td>1.000000</td>\n",
       "    </tr>\n",
       "    <tr>\n",
       "      <th>max</th>\n",
       "      <td>99999.000000</td>\n",
       "      <td>23713.000000</td>\n",
       "      <td>2.000000</td>\n",
       "      <td>180.000000</td>\n",
       "      <td>106.000000</td>\n",
       "      <td>163.000000</td>\n",
       "      <td>100.000000</td>\n",
       "      <td>3.000000</td>\n",
       "      <td>3.000000</td>\n",
       "      <td>1.000000</td>\n",
       "      <td>1.000000</td>\n",
       "      <td>1.000000</td>\n",
       "      <td>1.000000</td>\n",
       "    </tr>\n",
       "  </tbody>\n",
       "</table>\n",
       "</div>"
      ],
      "text/plain": [
       "                 id           age      ...             active        cardio\n",
       "count  60142.000000  60142.000000      ...       60142.000000  60142.000000\n",
       "mean   49895.698065  19468.719979      ...           0.803648      0.488228\n",
       "std    28840.467755   2460.510296      ...           0.397241      0.499866\n",
       "min        0.000000  10798.000000      ...           0.000000      0.000000\n",
       "25%    24867.500000  17677.250000      ...           1.000000      0.000000\n",
       "50%    49902.500000  19705.000000      ...           1.000000      0.000000\n",
       "75%    74745.750000  21321.000000      ...           1.000000      1.000000\n",
       "max    99999.000000  23713.000000      ...           1.000000      1.000000\n",
       "\n",
       "[8 rows x 13 columns]"
      ]
     },
     "execution_count": 8,
     "metadata": {},
     "output_type": "execute_result"
    }
   ],
   "source": [
    "#after removing outliers\n",
    "df.describe()\n"
   ]
  },
  {
   "cell_type": "markdown",
   "metadata": {},
   "source": [
    "<div style=\"color:white;\n",
    "           display:fill;\n",
    "           border-radius:5px;\n",
    "           background-color:#2792a5;\n",
    "           font-size:110%;\n",
    "           font-family:Verdana;\n",
    "           letter-spacing:0.5px\">\n",
    "    <p style=\"padding: 10px;\n",
    "              color:white;\"> Outliers removed and data cleaned\n",
    "</p></div>"
   ]
  },
  {
   "cell_type": "markdown",
   "metadata": {},
   "source": [
    "***"
   ]
  },
  {
   "cell_type": "markdown",
   "metadata": {},
   "source": [
    "# 1.3 Transforming Data\n",
    "\n",
    "## 1.3.1 Transforming the column AGE(measured in days) for Age_Bin"
   ]
  },
  {
   "cell_type": "code",
   "execution_count": 9,
   "metadata": {
    "execution": {
     "iopub.execute_input": "2022-03-17T19:50:13.409468Z",
     "iopub.status.busy": "2022-03-17T19:50:13.409088Z",
     "iopub.status.idle": "2022-03-17T19:50:13.646645Z",
     "shell.execute_reply": "2022-03-17T19:50:13.645803Z",
     "shell.execute_reply.started": "2022-03-17T19:50:13.409396Z"
    }
   },
   "outputs": [],
   "source": [
    "# transforming the column AGE(measured in days) for Years\n",
    "df['years'] = (df['age'] / 365).round().astype('int')\n",
    "df.drop(['age'], axis='columns', inplace=True)\n",
    "df.drop(['id'], axis='columns', inplace=True)\n",
    "\n"
   ]
  },
  {
   "cell_type": "code",
   "execution_count": 10,
   "metadata": {
    "execution": {
     "iopub.execute_input": "2022-03-17T19:50:13.648731Z",
     "iopub.status.busy": "2022-03-17T19:50:13.648336Z",
     "iopub.status.idle": "2022-03-17T19:50:13.662117Z",
     "shell.execute_reply": "2022-03-17T19:50:13.660820Z",
     "shell.execute_reply.started": "2022-03-17T19:50:13.648643Z"
    }
   },
   "outputs": [],
   "source": [
    "# age_bin in quinquenium 5 years spam\n",
    "df['age_bin'] = pd.cut(df['years'], [0,20,30,35,40,45,50,55,60,65,70,75,80,85,90,95,100], \n",
    "                              labels=['0-20', '20-30', '30-35', '35-40','40-45','45-50','50-55','55-60','60-65','65-70','70-75','75-80','80-85','85-90','90-95','95-100'])"
   ]
  },
  {
   "cell_type": "markdown",
   "metadata": {},
   "source": [
    "## 1.3.2 Transforming the column bmi in Body Mass Index Classes (1 to 6)"
   ]
  },
  {
   "cell_type": "code",
   "execution_count": 11,
   "metadata": {
    "execution": {
     "iopub.execute_input": "2022-03-17T19:50:13.664007Z",
     "iopub.status.busy": "2022-03-17T19:50:13.663397Z",
     "iopub.status.idle": "2022-03-17T19:50:13.678533Z",
     "shell.execute_reply": "2022-03-17T19:50:13.677311Z",
     "shell.execute_reply.started": "2022-03-17T19:50:13.663944Z"
    }
   },
   "outputs": [],
   "source": [
    "# Adding Body Mass Index\n",
    "df['bmi'] = df['weight']/((df['height']/100)**2)"
   ]
  },
  {
   "cell_type": "code",
   "execution_count": 12,
   "metadata": {
    "execution": {
     "iopub.execute_input": "2022-03-17T19:50:13.680459Z",
     "iopub.status.busy": "2022-03-17T19:50:13.679858Z",
     "iopub.status.idle": "2022-03-17T19:50:13.714411Z",
     "shell.execute_reply": "2022-03-17T19:50:13.713458Z",
     "shell.execute_reply.started": "2022-03-17T19:50:13.680391Z"
    }
   },
   "outputs": [],
   "source": [
    "# transforming the column bmi in Body Mass Index Classes (1 to 6)\n",
    "rating = []\n",
    "for row in df['bmi']:\n",
    "    if row < 18.5 :    rating.append(1) #UnderWeight\n",
    "    elif row > 18.5 and row  < 24.9:   rating.append(2)#NormalWeight\n",
    "    elif row > 24.9 and row < 29.9:  rating.append(3)#OverWeight\n",
    "    elif row > 29.9 and row < 34.9:  rating.append(4)#ClassObesity_1\n",
    "    elif row > 34.9 and row < 39.9:  rating.append(5)#ClassObesity_2\n",
    "    elif row > 39.9 and row < 49.9:  rating.append(6)#ClassObesity_3\n",
    "    elif row > 49.9:  rating.append('Error')\n",
    "        \n",
    "    else:           rating.append('Not_Rated')"
   ]
  },
  {
   "cell_type": "code",
   "execution_count": 13,
   "metadata": {
    "execution": {
     "iopub.execute_input": "2022-03-17T19:50:13.716310Z",
     "iopub.status.busy": "2022-03-17T19:50:13.715868Z",
     "iopub.status.idle": "2022-03-17T19:50:13.750027Z",
     "shell.execute_reply": "2022-03-17T19:50:13.749193Z",
     "shell.execute_reply.started": "2022-03-17T19:50:13.716258Z"
    }
   },
   "outputs": [],
   "source": [
    "# inserting Column\n",
    "df['BMI_Class'] = rating\n"
   ]
  },
  {
   "cell_type": "code",
   "execution_count": 14,
   "metadata": {
    "execution": {
     "iopub.execute_input": "2022-03-17T19:50:13.751493Z",
     "iopub.status.busy": "2022-03-17T19:50:13.751096Z",
     "iopub.status.idle": "2022-03-17T19:50:13.761209Z",
     "shell.execute_reply": "2022-03-17T19:50:13.759934Z",
     "shell.execute_reply.started": "2022-03-17T19:50:13.751451Z"
    }
   },
   "outputs": [
    {
     "data": {
      "text/plain": [
       "3    0.391773\n",
       "2    0.361943\n",
       "4    0.179209\n",
       "5    0.055801\n",
       "6    0.009162\n",
       "1    0.002112\n",
       "Name: BMI_Class, dtype: float64"
      ]
     },
     "execution_count": 14,
     "metadata": {},
     "output_type": "execute_result"
    }
   ],
   "source": [
    "# general distribuition\n",
    "df[\"BMI_Class\"].value_counts(normalize=True)"
   ]
  },
  {
   "cell_type": "markdown",
   "metadata": {},
   "source": [
    "## 1.3.3 Creating the column MAP\n",
    "\n",
    "Mean Arterial Pressure (MAP) = 2 Diastollic Blood Pressure + Sistolic Blood Pressure / 3\n",
    "\n",
    "The overall blood pressure as measured in the brachial artery is maintained by the cardiac output and the total peripheral resistance (TPR) to flow. The mean arterial pressure (MAP) is calculated by the formula:\n"
   ]
  },
  {
   "cell_type": "code",
   "execution_count": 15,
   "metadata": {
    "execution": {
     "iopub.execute_input": "2022-03-17T19:50:13.763052Z",
     "iopub.status.busy": "2022-03-17T19:50:13.762798Z",
     "iopub.status.idle": "2022-03-17T19:50:13.773058Z",
     "shell.execute_reply": "2022-03-17T19:50:13.771926Z",
     "shell.execute_reply.started": "2022-03-17T19:50:13.763007Z"
    }
   },
   "outputs": [],
   "source": [
    "# creating a Column for MAP\n",
    "df['MAP'] = ((2* df['ap_lo']) + df['ap_hi']) / 3"
   ]
  },
  {
   "cell_type": "code",
   "execution_count": 16,
   "metadata": {
    "execution": {
     "iopub.execute_input": "2022-03-17T19:50:13.776202Z",
     "iopub.status.busy": "2022-03-17T19:50:13.775657Z",
     "iopub.status.idle": "2022-03-17T19:50:13.817155Z",
     "shell.execute_reply": "2022-03-17T19:50:13.815970Z",
     "shell.execute_reply.started": "2022-03-17T19:50:13.776128Z"
    }
   },
   "outputs": [],
   "source": [
    "#Creating Classes for MAP\n",
    "map_values = []\n",
    "for row in df['MAP']:\n",
    "    if row < 69.9:    map_values.append(1) #Low\n",
    "    elif row > 70 and row  < 79.9:   map_values.append(2)#Normal\n",
    "    elif row > 79.9 and row < 89.9:  map_values.append(3)#Normal\n",
    "    elif row > 89.9 and row < 99.9:  map_values.append(4)#Normal\n",
    "    elif row > 99.9 and row < 109.9:  map_values.append(5)#High\n",
    "    elif row > 109.9 and row < 119.9:  map_values.append(6)#Normal\n",
    "    elif row > 119.9:  map_values.append(7)\n",
    "        \n",
    "    else:           map_values.append('Not_Rated')"
   ]
  },
  {
   "cell_type": "code",
   "execution_count": 17,
   "metadata": {
    "execution": {
     "iopub.execute_input": "2022-03-17T19:50:13.818977Z",
     "iopub.status.busy": "2022-03-17T19:50:13.818687Z",
     "iopub.status.idle": "2022-03-17T19:50:13.851844Z",
     "shell.execute_reply": "2022-03-17T19:50:13.851063Z",
     "shell.execute_reply.started": "2022-03-17T19:50:13.818924Z"
    }
   },
   "outputs": [],
   "source": [
    "#inserting MAP_Class Column\n",
    "df['MAP_Class'] = map_values"
   ]
  },
  {
   "cell_type": "markdown",
   "metadata": {},
   "source": [
    "## 1.4 Reordering Columns"
   ]
  },
  {
   "cell_type": "code",
   "execution_count": 18,
   "metadata": {
    "execution": {
     "iopub.execute_input": "2022-03-17T19:50:13.853280Z",
     "iopub.status.busy": "2022-03-17T19:50:13.852914Z",
     "iopub.status.idle": "2022-03-17T19:50:13.913403Z",
     "shell.execute_reply": "2022-03-17T19:50:13.912685Z",
     "shell.execute_reply.started": "2022-03-17T19:50:13.853240Z"
    }
   },
   "outputs": [
    {
     "data": {
      "text/html": [
       "<div>\n",
       "<style scoped>\n",
       "    .dataframe tbody tr th:only-of-type {\n",
       "        vertical-align: middle;\n",
       "    }\n",
       "\n",
       "    .dataframe tbody tr th {\n",
       "        vertical-align: top;\n",
       "    }\n",
       "\n",
       "    .dataframe thead th {\n",
       "        text-align: right;\n",
       "    }\n",
       "</style>\n",
       "<table border=\"1\" class=\"dataframe\">\n",
       "  <thead>\n",
       "    <tr style=\"text-align: right;\">\n",
       "      <th></th>\n",
       "      <th>gender</th>\n",
       "      <th>height</th>\n",
       "      <th>weight</th>\n",
       "      <th>bmi</th>\n",
       "      <th>ap_hi</th>\n",
       "      <th>ap_lo</th>\n",
       "      <th>MAP</th>\n",
       "      <th>years</th>\n",
       "      <th>age_bin</th>\n",
       "      <th>BMI_Class</th>\n",
       "      <th>MAP_Class</th>\n",
       "      <th>cholesterol</th>\n",
       "      <th>gluc</th>\n",
       "      <th>smoke</th>\n",
       "      <th>active</th>\n",
       "      <th>cardio</th>\n",
       "    </tr>\n",
       "  </thead>\n",
       "  <tbody>\n",
       "    <tr>\n",
       "      <th>0</th>\n",
       "      <td>2</td>\n",
       "      <td>168</td>\n",
       "      <td>62.0</td>\n",
       "      <td>21.967120</td>\n",
       "      <td>110</td>\n",
       "      <td>80</td>\n",
       "      <td>90.000000</td>\n",
       "      <td>50</td>\n",
       "      <td>45-50</td>\n",
       "      <td>2</td>\n",
       "      <td>4</td>\n",
       "      <td>1</td>\n",
       "      <td>1</td>\n",
       "      <td>0</td>\n",
       "      <td>1</td>\n",
       "      <td>0</td>\n",
       "    </tr>\n",
       "    <tr>\n",
       "      <th>1</th>\n",
       "      <td>1</td>\n",
       "      <td>156</td>\n",
       "      <td>85.0</td>\n",
       "      <td>34.927679</td>\n",
       "      <td>140</td>\n",
       "      <td>90</td>\n",
       "      <td>106.666667</td>\n",
       "      <td>55</td>\n",
       "      <td>50-55</td>\n",
       "      <td>5</td>\n",
       "      <td>5</td>\n",
       "      <td>3</td>\n",
       "      <td>1</td>\n",
       "      <td>0</td>\n",
       "      <td>1</td>\n",
       "      <td>1</td>\n",
       "    </tr>\n",
       "    <tr>\n",
       "      <th>2</th>\n",
       "      <td>1</td>\n",
       "      <td>165</td>\n",
       "      <td>64.0</td>\n",
       "      <td>23.507805</td>\n",
       "      <td>130</td>\n",
       "      <td>70</td>\n",
       "      <td>90.000000</td>\n",
       "      <td>52</td>\n",
       "      <td>50-55</td>\n",
       "      <td>2</td>\n",
       "      <td>4</td>\n",
       "      <td>3</td>\n",
       "      <td>1</td>\n",
       "      <td>0</td>\n",
       "      <td>0</td>\n",
       "      <td>1</td>\n",
       "    </tr>\n",
       "    <tr>\n",
       "      <th>3</th>\n",
       "      <td>2</td>\n",
       "      <td>169</td>\n",
       "      <td>82.0</td>\n",
       "      <td>28.710479</td>\n",
       "      <td>150</td>\n",
       "      <td>100</td>\n",
       "      <td>116.666667</td>\n",
       "      <td>48</td>\n",
       "      <td>45-50</td>\n",
       "      <td>3</td>\n",
       "      <td>6</td>\n",
       "      <td>1</td>\n",
       "      <td>1</td>\n",
       "      <td>0</td>\n",
       "      <td>1</td>\n",
       "      <td>1</td>\n",
       "    </tr>\n",
       "    <tr>\n",
       "      <th>4</th>\n",
       "      <td>1</td>\n",
       "      <td>156</td>\n",
       "      <td>56.0</td>\n",
       "      <td>23.011177</td>\n",
       "      <td>100</td>\n",
       "      <td>60</td>\n",
       "      <td>73.333333</td>\n",
       "      <td>48</td>\n",
       "      <td>45-50</td>\n",
       "      <td>2</td>\n",
       "      <td>2</td>\n",
       "      <td>1</td>\n",
       "      <td>1</td>\n",
       "      <td>0</td>\n",
       "      <td>0</td>\n",
       "      <td>0</td>\n",
       "    </tr>\n",
       "  </tbody>\n",
       "</table>\n",
       "</div>"
      ],
      "text/plain": [
       "   gender  height  weight        bmi   ...    gluc  smoke  active  cardio\n",
       "0       2     168    62.0  21.967120   ...       1      0       1       0\n",
       "1       1     156    85.0  34.927679   ...       1      0       1       1\n",
       "2       1     165    64.0  23.507805   ...       1      0       0       1\n",
       "3       2     169    82.0  28.710479   ...       1      0       1       1\n",
       "4       1     156    56.0  23.011177   ...       1      0       0       0\n",
       "\n",
       "[5 rows x 16 columns]"
      ]
     },
     "execution_count": 18,
     "metadata": {},
     "output_type": "execute_result"
    }
   ],
   "source": [
    "# Reordering Columns\n",
    "df= df[[\"gender\",\"height\",\"weight\",\"bmi\",\"ap_hi\",\"ap_lo\",\"MAP\",\"years\",\"age_bin\",\"BMI_Class\",\"MAP_Class\",\"cholesterol\",\"gluc\",\"smoke\",\"active\",\"cardio\"]]\n",
    "df.head()"
   ]
  },
  {
   "cell_type": "markdown",
   "metadata": {},
   "source": [
    "<div style=\"color:white;\n",
    "           display:fill;\n",
    "           border-radius:5px;\n",
    "           background-color:#2792a5;\n",
    "           font-size:110%;\n",
    "           font-family:Verdana;\n",
    "           letter-spacing:0.5px\">\n",
    "    <p style=\"padding: 10px;\n",
    "              color:white;\"> Columns MAP_Class, BMI_Class, years and age_bin added\n",
    "</p></div>"
   ]
  },
  {
   "cell_type": "markdown",
   "metadata": {},
   "source": [
    "***"
   ]
  },
  {
   "cell_type": "markdown",
   "metadata": {},
   "source": [
    "# 2.1 Data Analize and Preparation"
   ]
  },
  {
   "cell_type": "code",
   "execution_count": 19,
   "metadata": {
    "execution": {
     "iopub.execute_input": "2022-03-17T19:50:13.914873Z",
     "iopub.status.busy": "2022-03-17T19:50:13.914497Z",
     "iopub.status.idle": "2022-03-17T19:50:13.924541Z",
     "shell.execute_reply": "2022-03-17T19:50:13.923584Z",
     "shell.execute_reply.started": "2022-03-17T19:50:13.914833Z"
    }
   },
   "outputs": [],
   "source": [
    "# only Categorical Data Columns DataFrame\n",
    "df_cat = df[[\"gender\",\"age_bin\",\"BMI_Class\",\"MAP_Class\",\"cholesterol\",\"gluc\",\"smoke\",\"active\",\"cardio\",]]"
   ]
  },
  {
   "cell_type": "code",
   "execution_count": 20,
   "metadata": {
    "execution": {
     "iopub.execute_input": "2022-03-17T19:50:13.926083Z",
     "iopub.status.busy": "2022-03-17T19:50:13.925818Z",
     "iopub.status.idle": "2022-03-17T19:50:14.014386Z",
     "shell.execute_reply": "2022-03-17T19:50:14.013471Z",
     "shell.execute_reply.started": "2022-03-17T19:50:13.926034Z"
    }
   },
   "outputs": [
    {
     "data": {
      "text/html": [
       "<div>\n",
       "<style scoped>\n",
       "    .dataframe tbody tr th:only-of-type {\n",
       "        vertical-align: middle;\n",
       "    }\n",
       "\n",
       "    .dataframe tbody tr th {\n",
       "        vertical-align: top;\n",
       "    }\n",
       "\n",
       "    .dataframe thead th {\n",
       "        text-align: right;\n",
       "    }\n",
       "</style>\n",
       "<table border=\"1\" class=\"dataframe\">\n",
       "  <thead>\n",
       "    <tr style=\"text-align: right;\">\n",
       "      <th></th>\n",
       "      <th>gender</th>\n",
       "      <th>age_bin</th>\n",
       "      <th>BMI_Class</th>\n",
       "      <th>MAP_Class</th>\n",
       "      <th>cholesterol</th>\n",
       "      <th>gluc</th>\n",
       "      <th>smoke</th>\n",
       "      <th>active</th>\n",
       "      <th>cardio</th>\n",
       "    </tr>\n",
       "  </thead>\n",
       "  <tbody>\n",
       "    <tr>\n",
       "      <th>0</th>\n",
       "      <td>1</td>\n",
       "      <td>3</td>\n",
       "      <td>1</td>\n",
       "      <td>2</td>\n",
       "      <td>0</td>\n",
       "      <td>0</td>\n",
       "      <td>0</td>\n",
       "      <td>1</td>\n",
       "      <td>0</td>\n",
       "    </tr>\n",
       "    <tr>\n",
       "      <th>1</th>\n",
       "      <td>0</td>\n",
       "      <td>4</td>\n",
       "      <td>4</td>\n",
       "      <td>3</td>\n",
       "      <td>2</td>\n",
       "      <td>0</td>\n",
       "      <td>0</td>\n",
       "      <td>1</td>\n",
       "      <td>1</td>\n",
       "    </tr>\n",
       "    <tr>\n",
       "      <th>2</th>\n",
       "      <td>0</td>\n",
       "      <td>4</td>\n",
       "      <td>1</td>\n",
       "      <td>2</td>\n",
       "      <td>2</td>\n",
       "      <td>0</td>\n",
       "      <td>0</td>\n",
       "      <td>0</td>\n",
       "      <td>1</td>\n",
       "    </tr>\n",
       "    <tr>\n",
       "      <th>3</th>\n",
       "      <td>1</td>\n",
       "      <td>3</td>\n",
       "      <td>2</td>\n",
       "      <td>4</td>\n",
       "      <td>0</td>\n",
       "      <td>0</td>\n",
       "      <td>0</td>\n",
       "      <td>1</td>\n",
       "      <td>1</td>\n",
       "    </tr>\n",
       "    <tr>\n",
       "      <th>4</th>\n",
       "      <td>0</td>\n",
       "      <td>3</td>\n",
       "      <td>1</td>\n",
       "      <td>0</td>\n",
       "      <td>0</td>\n",
       "      <td>0</td>\n",
       "      <td>0</td>\n",
       "      <td>0</td>\n",
       "      <td>0</td>\n",
       "    </tr>\n",
       "  </tbody>\n",
       "</table>\n",
       "</div>"
      ],
      "text/plain": [
       "   gender  age_bin  BMI_Class  MAP_Class   ...    gluc  smoke  active  cardio\n",
       "0       1        3          1          2   ...       0      0       1       0\n",
       "1       0        4          4          3   ...       0      0       1       1\n",
       "2       0        4          1          2   ...       0      0       0       1\n",
       "3       1        3          2          4   ...       0      0       1       1\n",
       "4       0        3          1          0   ...       0      0       0       0\n",
       "\n",
       "[5 rows x 9 columns]"
      ]
     },
     "execution_count": 20,
     "metadata": {},
     "output_type": "execute_result"
    }
   ],
   "source": [
    "from sklearn import preprocessing\n",
    "le = preprocessing.LabelEncoder()\n",
    "df_cat = df_cat.apply(le.fit_transform)\n",
    "df_cat.head()"
   ]
  },
  {
   "cell_type": "code",
   "execution_count": 21,
   "metadata": {
    "execution": {
     "iopub.execute_input": "2022-03-17T19:50:14.018097Z",
     "iopub.status.busy": "2022-03-17T19:50:14.017761Z",
     "iopub.status.idle": "2022-03-17T19:50:14.058340Z",
     "shell.execute_reply": "2022-03-17T19:50:14.056974Z",
     "shell.execute_reply.started": "2022-03-17T19:50:14.018045Z"
    }
   },
   "outputs": [
    {
     "data": {
      "text/html": [
       "<div>\n",
       "<style scoped>\n",
       "    .dataframe tbody tr th:only-of-type {\n",
       "        vertical-align: middle;\n",
       "    }\n",
       "\n",
       "    .dataframe tbody tr th {\n",
       "        vertical-align: top;\n",
       "    }\n",
       "\n",
       "    .dataframe thead th {\n",
       "        text-align: right;\n",
       "    }\n",
       "</style>\n",
       "<table border=\"1\" class=\"dataframe\">\n",
       "  <thead>\n",
       "    <tr style=\"text-align: right;\">\n",
       "      <th></th>\n",
       "      <th>gender</th>\n",
       "      <th>age_bin</th>\n",
       "      <th>BMI_Class</th>\n",
       "      <th>MAP_Class</th>\n",
       "      <th>cholesterol</th>\n",
       "      <th>gluc</th>\n",
       "      <th>smoke</th>\n",
       "      <th>active</th>\n",
       "      <th>cardio</th>\n",
       "    </tr>\n",
       "  </thead>\n",
       "  <tbody>\n",
       "    <tr>\n",
       "      <th>1</th>\n",
       "      <td>0</td>\n",
       "      <td>4</td>\n",
       "      <td>4</td>\n",
       "      <td>3</td>\n",
       "      <td>2</td>\n",
       "      <td>0</td>\n",
       "      <td>0</td>\n",
       "      <td>1</td>\n",
       "      <td>1</td>\n",
       "    </tr>\n",
       "    <tr>\n",
       "      <th>2</th>\n",
       "      <td>0</td>\n",
       "      <td>4</td>\n",
       "      <td>1</td>\n",
       "      <td>2</td>\n",
       "      <td>2</td>\n",
       "      <td>0</td>\n",
       "      <td>0</td>\n",
       "      <td>0</td>\n",
       "      <td>1</td>\n",
       "    </tr>\n",
       "    <tr>\n",
       "      <th>4</th>\n",
       "      <td>0</td>\n",
       "      <td>3</td>\n",
       "      <td>1</td>\n",
       "      <td>0</td>\n",
       "      <td>0</td>\n",
       "      <td>0</td>\n",
       "      <td>0</td>\n",
       "      <td>0</td>\n",
       "      <td>0</td>\n",
       "    </tr>\n",
       "    <tr>\n",
       "      <th>5</th>\n",
       "      <td>0</td>\n",
       "      <td>5</td>\n",
       "      <td>2</td>\n",
       "      <td>2</td>\n",
       "      <td>1</td>\n",
       "      <td>1</td>\n",
       "      <td>0</td>\n",
       "      <td>0</td>\n",
       "      <td>0</td>\n",
       "    </tr>\n",
       "    <tr>\n",
       "      <th>6</th>\n",
       "      <td>0</td>\n",
       "      <td>6</td>\n",
       "      <td>4</td>\n",
       "      <td>2</td>\n",
       "      <td>2</td>\n",
       "      <td>0</td>\n",
       "      <td>0</td>\n",
       "      <td>1</td>\n",
       "      <td>0</td>\n",
       "    </tr>\n",
       "  </tbody>\n",
       "</table>\n",
       "</div>"
      ],
      "text/plain": [
       "   gender  age_bin  BMI_Class  MAP_Class   ...    gluc  smoke  active  cardio\n",
       "1       0        4          4          3   ...       0      0       1       1\n",
       "2       0        4          1          2   ...       0      0       0       1\n",
       "4       0        3          1          0   ...       0      0       0       0\n",
       "5       0        5          2          2   ...       1      0       0       0\n",
       "6       0        6          4          2   ...       0      0       1       0\n",
       "\n",
       "[5 rows x 9 columns]"
      ]
     },
     "execution_count": 21,
     "metadata": {},
     "output_type": "execute_result"
    }
   ],
   "source": [
    "df_male = df_cat.query(\"gender == 0\")\n",
    "df_female = df_cat.query(\"gender == 1\")\n",
    "df_male.head()\n"
   ]
  },
  {
   "cell_type": "code",
   "execution_count": 22,
   "metadata": {
    "execution": {
     "iopub.execute_input": "2022-03-17T19:50:14.060704Z",
     "iopub.status.busy": "2022-03-17T19:50:14.060291Z",
     "iopub.status.idle": "2022-03-17T19:50:14.087226Z",
     "shell.execute_reply": "2022-03-17T19:50:14.086213Z",
     "shell.execute_reply.started": "2022-03-17T19:50:14.060618Z"
    }
   },
   "outputs": [
    {
     "data": {
      "text/html": [
       "<div>\n",
       "<style scoped>\n",
       "    .dataframe tbody tr th:only-of-type {\n",
       "        vertical-align: middle;\n",
       "    }\n",
       "\n",
       "    .dataframe tbody tr th {\n",
       "        vertical-align: top;\n",
       "    }\n",
       "\n",
       "    .dataframe thead th {\n",
       "        text-align: right;\n",
       "    }\n",
       "</style>\n",
       "<table border=\"1\" class=\"dataframe\">\n",
       "  <thead>\n",
       "    <tr style=\"text-align: right;\">\n",
       "      <th></th>\n",
       "      <th>gender</th>\n",
       "      <th>age_bin</th>\n",
       "      <th>BMI_Class</th>\n",
       "      <th>MAP_Class</th>\n",
       "      <th>cholesterol</th>\n",
       "      <th>gluc</th>\n",
       "      <th>smoke</th>\n",
       "      <th>active</th>\n",
       "      <th>cardio</th>\n",
       "    </tr>\n",
       "  </thead>\n",
       "  <tbody>\n",
       "    <tr>\n",
       "      <th>0</th>\n",
       "      <td>1</td>\n",
       "      <td>3</td>\n",
       "      <td>1</td>\n",
       "      <td>2</td>\n",
       "      <td>0</td>\n",
       "      <td>0</td>\n",
       "      <td>0</td>\n",
       "      <td>1</td>\n",
       "      <td>0</td>\n",
       "    </tr>\n",
       "    <tr>\n",
       "      <th>3</th>\n",
       "      <td>1</td>\n",
       "      <td>3</td>\n",
       "      <td>2</td>\n",
       "      <td>4</td>\n",
       "      <td>0</td>\n",
       "      <td>0</td>\n",
       "      <td>0</td>\n",
       "      <td>1</td>\n",
       "      <td>1</td>\n",
       "    </tr>\n",
       "    <tr>\n",
       "      <th>7</th>\n",
       "      <td>1</td>\n",
       "      <td>6</td>\n",
       "      <td>3</td>\n",
       "      <td>3</td>\n",
       "      <td>2</td>\n",
       "      <td>2</td>\n",
       "      <td>0</td>\n",
       "      <td>1</td>\n",
       "      <td>1</td>\n",
       "    </tr>\n",
       "    <tr>\n",
       "      <th>11</th>\n",
       "      <td>1</td>\n",
       "      <td>4</td>\n",
       "      <td>1</td>\n",
       "      <td>2</td>\n",
       "      <td>0</td>\n",
       "      <td>0</td>\n",
       "      <td>0</td>\n",
       "      <td>1</td>\n",
       "      <td>0</td>\n",
       "    </tr>\n",
       "    <tr>\n",
       "      <th>12</th>\n",
       "      <td>1</td>\n",
       "      <td>2</td>\n",
       "      <td>1</td>\n",
       "      <td>2</td>\n",
       "      <td>0</td>\n",
       "      <td>0</td>\n",
       "      <td>0</td>\n",
       "      <td>0</td>\n",
       "      <td>0</td>\n",
       "    </tr>\n",
       "  </tbody>\n",
       "</table>\n",
       "</div>"
      ],
      "text/plain": [
       "    gender  age_bin  BMI_Class  MAP_Class   ...    gluc  smoke  active  cardio\n",
       "0        1        3          1          2   ...       0      0       1       0\n",
       "3        1        3          2          4   ...       0      0       1       1\n",
       "7        1        6          3          3   ...       2      0       1       1\n",
       "11       1        4          1          2   ...       0      0       1       0\n",
       "12       1        2          1          2   ...       0      0       0       0\n",
       "\n",
       "[5 rows x 9 columns]"
      ]
     },
     "execution_count": 22,
     "metadata": {},
     "output_type": "execute_result"
    }
   ],
   "source": [
    "df_female.head()\n"
   ]
  },
  {
   "cell_type": "markdown",
   "metadata": {},
   "source": [
    "## 2.2 MAP Classes"
   ]
  },
  {
   "cell_type": "code",
   "execution_count": 23,
   "metadata": {
    "execution": {
     "iopub.execute_input": "2022-03-17T19:50:14.089024Z",
     "iopub.status.busy": "2022-03-17T19:50:14.088482Z",
     "iopub.status.idle": "2022-03-17T19:50:14.912431Z",
     "shell.execute_reply": "2022-03-17T19:50:14.911583Z",
     "shell.execute_reply.started": "2022-03-17T19:50:14.088964Z"
    }
   },
   "outputs": [
    {
     "data": {
      "image/png": "[encoded data removed]",
      "text/plain": [
       "<Figure size 1080x360 with 3 Axes>"
      ]
     },
     "metadata": {},
     "output_type": "display_data"
    }
   ],
   "source": [
    "f, axs = plt.subplots(1,3,figsize = (15,5))\n",
    "sns.countplot(x=df_cat['MAP_Class'],order=df_cat['MAP_Class'].value_counts().index,hue=df_cat['cardio'],ax=axs[0])\n",
    "sns.countplot(x=df_male['MAP_Class'],order=df_male['MAP_Class'].value_counts().index,hue=df_male['cardio'],ax=axs[1])\n",
    "sns.countplot(x=df_female['MAP_Class'],order=df_female['MAP_Class'].value_counts().index,hue=df_female['cardio'],ax=axs[2])\n",
    "\n",
    "axs[0].set_title('All Data')\n",
    "axs[1].set_title('Male Data')\n",
    "axs[2].set_title('Female Data')\n",
    "plt.tight_layout()\n",
    "plt.show()"
   ]
  },
  {
   "cell_type": "markdown",
   "metadata": {},
   "source": [
    "<div style=\"color:white;\n",
    "           display:fill;\n",
    "           border-radius:5px;\n",
    "           background-color:#2792a5;\n",
    "           font-size:110%;\n",
    "           font-family:Verdana;\n",
    "           letter-spacing:0.5px\">\n",
    "    <p style=\"padding: 10px;\n",
    "              color:white;\"> All the values are similar\n",
    "</p></div>"
   ]
  },
  {
   "cell_type": "markdown",
   "metadata": {},
   "source": [
    "## 2.3 BMI Classes"
   ]
  },
  {
   "cell_type": "code",
   "execution_count": 24,
   "metadata": {
    "execution": {
     "iopub.execute_input": "2022-03-17T19:50:14.913911Z",
     "iopub.status.busy": "2022-03-17T19:50:14.913658Z",
     "iopub.status.idle": "2022-03-17T19:50:15.689669Z",
     "shell.execute_reply": "2022-03-17T19:50:15.688829Z",
     "shell.execute_reply.started": "2022-03-17T19:50:14.913861Z"
    }
   },
   "outputs": [
    {
     "data": {
      "image/png": "[encoded data removed]",
      "text/plain": [
       "<Figure size 1080x360 with 3 Axes>"
      ]
     },
     "metadata": {},
     "output_type": "display_data"
    }
   ],
   "source": [
    "f, axs = plt.subplots(1,3,figsize = (15,5))\n",
    "sns.countplot(x=df_cat['BMI_Class'],order=df_cat['BMI_Class'].value_counts().index,hue=df_cat['cardio'],ax=axs[0])\n",
    "sns.countplot(x=df_male['BMI_Class'],order=df_male['BMI_Class'].value_counts().index,hue=df_male['cardio'],ax=axs[1])\n",
    "sns.countplot(x=df_female['BMI_Class'],order=df_female['BMI_Class'].value_counts().index,hue=df_female['cardio'],ax=axs[2])\n",
    "\n",
    "axs[0].set_title('All Data')\n",
    "axs[1].set_title('Male Data')\n",
    "axs[2].set_title('Female Data')\n",
    "plt.tight_layout()\n",
    "plt.show()"
   ]
  },
  {
   "cell_type": "markdown",
   "metadata": {},
   "source": [
    "<div style=\"color:white;\n",
    "           display:fill;\n",
    "           border-radius:5px;\n",
    "           background-color:#2792a5;\n",
    "           font-size:110%;\n",
    "           font-family:Verdana;\n",
    "           letter-spacing:0.5px\">\n",
    "    <p style=\"padding: 10px;\n",
    "              color:white;\"> The BMI Classes for All data, Male and Female are very similar BUT the BMI_Class = 2 for Female data is slightly different\n",
    "</p></div>"
   ]
  },
  {
   "cell_type": "markdown",
   "metadata": {},
   "source": [
    "## 2.4 Glucose"
   ]
  },
  {
   "cell_type": "code",
   "execution_count": 25,
   "metadata": {
    "execution": {
     "iopub.execute_input": "2022-03-17T19:50:15.690993Z",
     "iopub.status.busy": "2022-03-17T19:50:15.690754Z",
     "iopub.status.idle": "2022-03-17T19:50:16.371372Z",
     "shell.execute_reply": "2022-03-17T19:50:16.370558Z",
     "shell.execute_reply.started": "2022-03-17T19:50:15.690957Z"
    }
   },
   "outputs": [
    {
     "data": {
      "image/png": "[encoded data removed]",
      "text/plain": [
       "<Figure size 1080x360 with 3 Axes>"
      ]
     },
     "metadata": {},
     "output_type": "display_data"
    }
   ],
   "source": [
    "f, axs = plt.subplots(1,3,figsize = (15,5))\n",
    "sns.countplot(x=df_cat['gluc'],order=df_cat['gluc'].value_counts().index,hue=df_cat['cardio'],ax=axs[0])\n",
    "sns.countplot(x=df_male['gluc'],order=df_male['gluc'].value_counts().index,hue=df_male['cardio'],ax=axs[1])\n",
    "sns.countplot(x=df_female['gluc'],order=df_female['gluc'].value_counts().index,hue=df_female['cardio'],ax=axs[2])\n",
    "\n",
    "axs[0].set_title('All Data')\n",
    "axs[1].set_title('Male Data')\n",
    "axs[2].set_title('Female Data')\n",
    "plt.tight_layout()\n",
    "plt.show()"
   ]
  },
  {
   "cell_type": "markdown",
   "metadata": {},
   "source": [
    "<div style=\"color:white;\n",
    "           display:fill;\n",
    "           border-radius:5px;\n",
    "           background-color:#2792a5;\n",
    "           font-size:110%;\n",
    "           font-family:Verdana;\n",
    "           letter-spacing:0.5px\">\n",
    "    <p style=\"padding: 10px;\n",
    "              color:white;\"> All the values are similar\n",
    "</p></div>"
   ]
  },
  {
   "cell_type": "markdown",
   "metadata": {},
   "source": [
    "## 2.5 Cholesterol"
   ]
  },
  {
   "cell_type": "code",
   "execution_count": 26,
   "metadata": {
    "execution": {
     "iopub.execute_input": "2022-03-17T19:50:16.372957Z",
     "iopub.status.busy": "2022-03-17T19:50:16.372694Z",
     "iopub.status.idle": "2022-03-17T19:50:17.045590Z",
     "shell.execute_reply": "2022-03-17T19:50:17.044899Z",
     "shell.execute_reply.started": "2022-03-17T19:50:16.372907Z"
    }
   },
   "outputs": [
    {
     "data": {
      "image/png": "[encoded data removed]",
      "text/plain": [
       "<Figure size 1080x360 with 3 Axes>"
      ]
     },
     "metadata": {},
     "output_type": "display_data"
    }
   ],
   "source": [
    "f, axs = plt.subplots(1,3,figsize = (15,5))\n",
    "sns.countplot(x=df_cat['cholesterol'],order=df_cat['cholesterol'].value_counts().index,hue=df_cat['cardio'],ax=axs[0])\n",
    "sns.countplot(x=df_male['cholesterol'],order=df_male['cholesterol'].value_counts().index,hue=df_male['cardio'],ax=axs[1])\n",
    "sns.countplot(x=df_female['cholesterol'],order=df_female['cholesterol'].value_counts().index,hue=df_female['cardio'],ax=axs[2])\n",
    "\n",
    "axs[0].set_title('All Data')\n",
    "axs[1].set_title('Male Data')\n",
    "axs[2].set_title('Female Data')\n",
    "plt.tight_layout()\n",
    "plt.show()"
   ]
  },
  {
   "cell_type": "markdown",
   "metadata": {},
   "source": [
    "<div style=\"color:white;\n",
    "           display:fill;\n",
    "           border-radius:5px;\n",
    "           background-color:#2792a5;\n",
    "           font-size:110%;\n",
    "           font-family:Verdana;\n",
    "           letter-spacing:0.5px\">\n",
    "    <p style=\"padding: 10px;\n",
    "              color:white;\"> All the values are similar\n",
    "</p></div>"
   ]
  },
  {
   "cell_type": "markdown",
   "metadata": {},
   "source": [
    "## 2.6 Smoke"
   ]
  },
  {
   "cell_type": "code",
   "execution_count": 27,
   "metadata": {
    "execution": {
     "iopub.execute_input": "2022-03-17T19:50:17.046944Z",
     "iopub.status.busy": "2022-03-17T19:50:17.046593Z",
     "iopub.status.idle": "2022-03-17T19:50:17.788200Z",
     "shell.execute_reply": "2022-03-17T19:50:17.787571Z",
     "shell.execute_reply.started": "2022-03-17T19:50:17.046904Z"
    }
   },
   "outputs": [
    {
     "data": {
      "image/png": "[encoded data removed]",
      "text/plain": [
       "<Figure size 1080x360 with 3 Axes>"
      ]
     },
     "metadata": {},
     "output_type": "display_data"
    }
   ],
   "source": [
    "f, axs = plt.subplots(1,3,figsize = (15,5))\n",
    "sns.countplot(x=df_cat['smoke'],order=df_cat['smoke'].value_counts().index,hue=df_cat['cardio'],ax=axs[0])\n",
    "sns.countplot(x=df_male['smoke'],order=df_male['smoke'].value_counts().index,hue=df_male['cardio'],ax=axs[1])\n",
    "sns.countplot(x=df_female['smoke'],order=df_female['smoke'].value_counts().index,hue=df_female['cardio'],ax=axs[2])\n",
    "\n",
    "axs[0].set_title('All Data')\n",
    "axs[1].set_title('Male Data')\n",
    "axs[2].set_title('Female Data')\n",
    "plt.tight_layout()\n",
    "plt.show()"
   ]
  },
  {
   "cell_type": "markdown",
   "metadata": {},
   "source": [
    "<div style=\"color:white;\n",
    "           display:fill;\n",
    "           border-radius:5px;\n",
    "           background-color:#2792a5;\n",
    "           font-size:110%;\n",
    "           font-family:Verdana;\n",
    "           letter-spacing:0.5px\">\n",
    "    <p style=\"padding: 10px;\n",
    "              color:white;\"> The value is high for Female data when smoke is 1\n",
    "</p></div>"
   ]
  },
  {
   "cell_type": "markdown",
   "metadata": {},
   "source": [
    "## 2.7 Active\n",
    "\n"
   ]
  },
  {
   "cell_type": "code",
   "execution_count": 28,
   "metadata": {
    "execution": {
     "iopub.execute_input": "2022-03-17T19:50:17.789752Z",
     "iopub.status.busy": "2022-03-17T19:50:17.789516Z",
     "iopub.status.idle": "2022-03-17T19:50:18.432145Z",
     "shell.execute_reply": "2022-03-17T19:50:18.431331Z",
     "shell.execute_reply.started": "2022-03-17T19:50:17.789709Z"
    }
   },
   "outputs": [
    {
     "data": {
      "image/png": "[encoded data removed]",
      "text/plain": [
       "<Figure size 1080x360 with 3 Axes>"
      ]
     },
     "metadata": {},
     "output_type": "display_data"
    }
   ],
   "source": [
    "f, axs = plt.subplots(1,3,figsize = (15,5))\n",
    "sns.countplot(x=df_cat['active'],order=df_cat['active'].value_counts().index,hue=df_cat['cardio'],ax=axs[0])\n",
    "sns.countplot(x=df_male['active'],order=df_male['active'].value_counts().index,hue=df_male['cardio'],ax=axs[1])\n",
    "sns.countplot(x=df_female['active'],order=df_female['active'].value_counts().index,hue=df_female['cardio'],ax=axs[2])\n",
    "\n",
    "axs[0].set_title('All Data')\n",
    "axs[1].set_title('Male Data')\n",
    "axs[2].set_title('Female Data')\n",
    "plt.tight_layout()\n",
    "plt.show()"
   ]
  },
  {
   "cell_type": "markdown",
   "metadata": {},
   "source": [
    "<div style=\"color:white;\n",
    "           display:fill;\n",
    "           border-radius:5px;\n",
    "           background-color:#2792a5;\n",
    "           font-size:110%;\n",
    "           font-family:Verdana;\n",
    "           letter-spacing:0.5px\">\n",
    "    <p style=\"padding: 10px;\n",
    "              color:white;\"> All the values are similar\n",
    "</p></div>"
   ]
  },
  {
   "cell_type": "markdown",
   "metadata": {},
   "source": [
    "## 2.8 Age\n"
   ]
  },
  {
   "cell_type": "code",
   "execution_count": 29,
   "metadata": {
    "execution": {
     "iopub.execute_input": "2022-03-17T19:50:18.433740Z",
     "iopub.status.busy": "2022-03-17T19:50:18.433340Z",
     "iopub.status.idle": "2022-03-17T19:50:19.248389Z",
     "shell.execute_reply": "2022-03-17T19:50:19.247155Z",
     "shell.execute_reply.started": "2022-03-17T19:50:18.433695Z"
    }
   },
   "outputs": [
    {
     "data": {
      "image/png": "[encoded data removed]",
      "text/plain": [
       "<Figure size 1080x360 with 3 Axes>"
      ]
     },
     "metadata": {},
     "output_type": "display_data"
    }
   ],
   "source": [
    "f, axs = plt.subplots(1,3,figsize = (15,5))\n",
    "sns.countplot(x=df_cat['age_bin'],order=df_cat['age_bin'].value_counts().index,hue=df_cat['cardio'],ax=axs[0])\n",
    "sns.countplot(x=df_male['age_bin'],order=df_male['age_bin'].value_counts().index,hue=df_male['cardio'],ax=axs[1])\n",
    "sns.countplot(x=df_female['age_bin'],order=df_female['age_bin'].value_counts().index,hue=df_female['cardio'],ax=axs[2])\n",
    "\n",
    "axs[0].set_title('All Data')\n",
    "axs[1].set_title('Male Data')\n",
    "axs[2].set_title('Female Data')\n",
    "plt.tight_layout()\n",
    "plt.show()"
   ]
  },
  {
   "cell_type": "markdown",
   "metadata": {},
   "source": [
    "<div style=\"color:white;\n",
    "           display:fill;\n",
    "           border-radius:5px;\n",
    "           background-color:#2792a5;\n",
    "           font-size:110%;\n",
    "           font-family:Verdana;\n",
    "           letter-spacing:0.5px\">\n",
    "    <p style=\"padding: 10px;\n",
    "              color:white;\"> The datas are similar BUT in age_bin 6 (45-50 years) the values are very different \n",
    "    </p></div>"
   ]
  },
  {
   "cell_type": "markdown",
   "metadata": {},
   "source": [
    "***"
   ]
  },
  {
   "cell_type": "markdown",
   "metadata": {},
   "source": [
    "# 3.1 KModes Analisys\n",
    "\n",
    "Thanks to : https://www.kaggle.com/ashydv/bank-customer-clustering-k-modes-clustering"
   ]
  },
  {
   "cell_type": "code",
   "execution_count": 30,
   "metadata": {
    "execution": {
     "iopub.execute_input": "2022-03-17T19:50:19.250145Z",
     "iopub.status.busy": "2022-03-17T19:50:19.249885Z",
     "iopub.status.idle": "2022-03-17T19:50:19.270396Z",
     "shell.execute_reply": "2022-03-17T19:50:19.269355Z",
     "shell.execute_reply.started": "2022-03-17T19:50:19.250098Z"
    }
   },
   "outputs": [],
   "source": [
    "# new df to work\n",
    "df_male = df_cat.query(\"gender == 0\")\n",
    "df_female = df_cat.query(\"gender == 1\")"
   ]
  },
  {
   "cell_type": "code",
   "execution_count": 31,
   "metadata": {
    "execution": {
     "iopub.execute_input": "2022-03-17T19:50:19.272325Z",
     "iopub.status.busy": "2022-03-17T19:50:19.272036Z",
     "iopub.status.idle": "2022-03-17T19:50:19.300946Z",
     "shell.execute_reply": "2022-03-17T19:50:19.299629Z",
     "shell.execute_reply.started": "2022-03-17T19:50:19.272270Z"
    }
   },
   "outputs": [
    {
     "data": {
      "text/html": [
       "<div>\n",
       "<style scoped>\n",
       "    .dataframe tbody tr th:only-of-type {\n",
       "        vertical-align: middle;\n",
       "    }\n",
       "\n",
       "    .dataframe tbody tr th {\n",
       "        vertical-align: top;\n",
       "    }\n",
       "\n",
       "    .dataframe thead th {\n",
       "        text-align: right;\n",
       "    }\n",
       "</style>\n",
       "<table border=\"1\" class=\"dataframe\">\n",
       "  <thead>\n",
       "    <tr style=\"text-align: right;\">\n",
       "      <th></th>\n",
       "      <th>gender</th>\n",
       "      <th>age_bin</th>\n",
       "      <th>BMI_Class</th>\n",
       "      <th>MAP_Class</th>\n",
       "      <th>cholesterol</th>\n",
       "      <th>gluc</th>\n",
       "      <th>smoke</th>\n",
       "      <th>active</th>\n",
       "      <th>cardio</th>\n",
       "    </tr>\n",
       "  </thead>\n",
       "  <tbody>\n",
       "    <tr>\n",
       "      <th>1</th>\n",
       "      <td>0</td>\n",
       "      <td>4</td>\n",
       "      <td>4</td>\n",
       "      <td>3</td>\n",
       "      <td>2</td>\n",
       "      <td>0</td>\n",
       "      <td>0</td>\n",
       "      <td>1</td>\n",
       "      <td>1</td>\n",
       "    </tr>\n",
       "    <tr>\n",
       "      <th>2</th>\n",
       "      <td>0</td>\n",
       "      <td>4</td>\n",
       "      <td>1</td>\n",
       "      <td>2</td>\n",
       "      <td>2</td>\n",
       "      <td>0</td>\n",
       "      <td>0</td>\n",
       "      <td>0</td>\n",
       "      <td>1</td>\n",
       "    </tr>\n",
       "    <tr>\n",
       "      <th>4</th>\n",
       "      <td>0</td>\n",
       "      <td>3</td>\n",
       "      <td>1</td>\n",
       "      <td>0</td>\n",
       "      <td>0</td>\n",
       "      <td>0</td>\n",
       "      <td>0</td>\n",
       "      <td>0</td>\n",
       "      <td>0</td>\n",
       "    </tr>\n",
       "    <tr>\n",
       "      <th>5</th>\n",
       "      <td>0</td>\n",
       "      <td>5</td>\n",
       "      <td>2</td>\n",
       "      <td>2</td>\n",
       "      <td>1</td>\n",
       "      <td>1</td>\n",
       "      <td>0</td>\n",
       "      <td>0</td>\n",
       "      <td>0</td>\n",
       "    </tr>\n",
       "    <tr>\n",
       "      <th>6</th>\n",
       "      <td>0</td>\n",
       "      <td>6</td>\n",
       "      <td>4</td>\n",
       "      <td>2</td>\n",
       "      <td>2</td>\n",
       "      <td>0</td>\n",
       "      <td>0</td>\n",
       "      <td>1</td>\n",
       "      <td>0</td>\n",
       "    </tr>\n",
       "  </tbody>\n",
       "</table>\n",
       "</div>"
      ],
      "text/plain": [
       "   gender  age_bin  BMI_Class  MAP_Class   ...    gluc  smoke  active  cardio\n",
       "1       0        4          4          3   ...       0      0       1       1\n",
       "2       0        4          1          2   ...       0      0       0       1\n",
       "4       0        3          1          0   ...       0      0       0       0\n",
       "5       0        5          2          2   ...       1      0       0       0\n",
       "6       0        6          4          2   ...       0      0       1       0\n",
       "\n",
       "[5 rows x 9 columns]"
      ]
     },
     "execution_count": 31,
     "metadata": {},
     "output_type": "execute_result"
    }
   ],
   "source": [
    "df_male.head()"
   ]
  },
  {
   "cell_type": "code",
   "execution_count": 32,
   "metadata": {
    "execution": {
     "iopub.execute_input": "2022-03-17T19:50:19.303416Z",
     "iopub.status.busy": "2022-03-17T19:50:19.302784Z",
     "iopub.status.idle": "2022-03-17T19:50:19.330829Z",
     "shell.execute_reply": "2022-03-17T19:50:19.329480Z",
     "shell.execute_reply.started": "2022-03-17T19:50:19.303345Z"
    }
   },
   "outputs": [
    {
     "data": {
      "text/html": [
       "<div>\n",
       "<style scoped>\n",
       "    .dataframe tbody tr th:only-of-type {\n",
       "        vertical-align: middle;\n",
       "    }\n",
       "\n",
       "    .dataframe tbody tr th {\n",
       "        vertical-align: top;\n",
       "    }\n",
       "\n",
       "    .dataframe thead th {\n",
       "        text-align: right;\n",
       "    }\n",
       "</style>\n",
       "<table border=\"1\" class=\"dataframe\">\n",
       "  <thead>\n",
       "    <tr style=\"text-align: right;\">\n",
       "      <th></th>\n",
       "      <th>gender</th>\n",
       "      <th>age_bin</th>\n",
       "      <th>BMI_Class</th>\n",
       "      <th>MAP_Class</th>\n",
       "      <th>cholesterol</th>\n",
       "      <th>gluc</th>\n",
       "      <th>smoke</th>\n",
       "      <th>active</th>\n",
       "      <th>cardio</th>\n",
       "    </tr>\n",
       "  </thead>\n",
       "  <tbody>\n",
       "    <tr>\n",
       "      <th>0</th>\n",
       "      <td>1</td>\n",
       "      <td>3</td>\n",
       "      <td>1</td>\n",
       "      <td>2</td>\n",
       "      <td>0</td>\n",
       "      <td>0</td>\n",
       "      <td>0</td>\n",
       "      <td>1</td>\n",
       "      <td>0</td>\n",
       "    </tr>\n",
       "    <tr>\n",
       "      <th>3</th>\n",
       "      <td>1</td>\n",
       "      <td>3</td>\n",
       "      <td>2</td>\n",
       "      <td>4</td>\n",
       "      <td>0</td>\n",
       "      <td>0</td>\n",
       "      <td>0</td>\n",
       "      <td>1</td>\n",
       "      <td>1</td>\n",
       "    </tr>\n",
       "    <tr>\n",
       "      <th>7</th>\n",
       "      <td>1</td>\n",
       "      <td>6</td>\n",
       "      <td>3</td>\n",
       "      <td>3</td>\n",
       "      <td>2</td>\n",
       "      <td>2</td>\n",
       "      <td>0</td>\n",
       "      <td>1</td>\n",
       "      <td>1</td>\n",
       "    </tr>\n",
       "    <tr>\n",
       "      <th>11</th>\n",
       "      <td>1</td>\n",
       "      <td>4</td>\n",
       "      <td>1</td>\n",
       "      <td>2</td>\n",
       "      <td>0</td>\n",
       "      <td>0</td>\n",
       "      <td>0</td>\n",
       "      <td>1</td>\n",
       "      <td>0</td>\n",
       "    </tr>\n",
       "    <tr>\n",
       "      <th>12</th>\n",
       "      <td>1</td>\n",
       "      <td>2</td>\n",
       "      <td>1</td>\n",
       "      <td>2</td>\n",
       "      <td>0</td>\n",
       "      <td>0</td>\n",
       "      <td>0</td>\n",
       "      <td>0</td>\n",
       "      <td>0</td>\n",
       "    </tr>\n",
       "  </tbody>\n",
       "</table>\n",
       "</div>"
      ],
      "text/plain": [
       "    gender  age_bin  BMI_Class  MAP_Class   ...    gluc  smoke  active  cardio\n",
       "0        1        3          1          2   ...       0      0       1       0\n",
       "3        1        3          2          4   ...       0      0       1       1\n",
       "7        1        6          3          3   ...       2      0       1       1\n",
       "11       1        4          1          2   ...       0      0       1       0\n",
       "12       1        2          1          2   ...       0      0       0       0\n",
       "\n",
       "[5 rows x 9 columns]"
      ]
     },
     "execution_count": 32,
     "metadata": {},
     "output_type": "execute_result"
    }
   ],
   "source": [
    "df_female.head()"
   ]
  },
  {
   "cell_type": "markdown",
   "metadata": {},
   "source": [
    "## 3.2 Elbow Curve Method\n",
    "\n",
    "### 3.2.1 For All Data"
   ]
  },
  {
   "cell_type": "code",
   "execution_count": 33,
   "metadata": {
    "execution": {
     "iopub.execute_input": "2022-03-17T19:50:19.332889Z",
     "iopub.status.busy": "2022-03-17T19:50:19.332563Z",
     "iopub.status.idle": "2022-03-17T19:54:56.639201Z",
     "shell.execute_reply": "2022-03-17T19:54:56.638054Z",
     "shell.execute_reply.started": "2022-03-17T19:50:19.332838Z"
    }
   },
   "outputs": [
    {
     "data": {
      "image/png": "[encoded data removed]",
      "text/plain": [
       "<Figure size 432x288 with 1 Axes>"
      ]
     },
     "metadata": {},
     "output_type": "display_data"
    }
   ],
   "source": [
    "# Elbow curve to find optimal K in Huang init\n",
    "cost = []\n",
    "K = range(1,6)\n",
    "for num_clusters in list(K):\n",
    "    kmode = KModes(n_clusters=num_clusters, init = \"Huang\", n_init = 5, verbose=0)\n",
    "    kmode.fit_predict(df_cat)\n",
    "    cost.append(kmode.cost_)\n",
    "    \n",
    "plt.plot(K, cost, 'bx-')\n",
    "plt.xlabel('No. of clusters')\n",
    "plt.ylabel('Cost')\n",
    "plt.title('Elbow Method For Optimal k')\n",
    "plt.show()"
   ]
  },
  {
   "cell_type": "markdown",
   "metadata": {},
   "source": [
    "### 3.2.2 For Male Data"
   ]
  },
  {
   "cell_type": "code",
   "execution_count": 34,
   "metadata": {
    "execution": {
     "iopub.execute_input": "2022-03-17T19:54:56.641597Z",
     "iopub.status.busy": "2022-03-17T19:54:56.640941Z",
     "iopub.status.idle": "2022-03-17T19:58:06.715523Z",
     "shell.execute_reply": "2022-03-17T19:58:06.714381Z",
     "shell.execute_reply.started": "2022-03-17T19:54:56.641524Z"
    }
   },
   "outputs": [
    {
     "data": {
      "image/png": "[encoded data removed]",
      "text/plain": [
       "<Figure size 432x288 with 1 Axes>"
      ]
     },
     "metadata": {},
     "output_type": "display_data"
    }
   ],
   "source": [
    "# Elbow curve to find optimal K in Huang\n",
    "cost = []\n",
    "K = range(1,6)\n",
    "for num_clusters in list(K):\n",
    "    kmode = KModes(n_clusters=num_clusters, init = \"Huang\", n_init = 5, verbose=0)\n",
    "    kmode.fit_predict(df_male)\n",
    "    cost.append(kmode.cost_)\n",
    "    \n",
    "plt.plot(K, cost, 'bx-')\n",
    "plt.xlabel('No. of clusters')\n",
    "plt.ylabel('Cost')\n",
    "plt.title('Elbow Method For Optimal k')\n",
    "plt.show()"
   ]
  },
  {
   "cell_type": "markdown",
   "metadata": {},
   "source": [
    "**The best number os clusters for male Data in Huang Init is 2**"
   ]
  },
  {
   "cell_type": "markdown",
   "metadata": {},
   "source": [
    "### 3.2.3 For Female Data"
   ]
  },
  {
   "cell_type": "code",
   "execution_count": 35,
   "metadata": {
    "execution": {
     "iopub.execute_input": "2022-03-17T19:58:06.735440Z",
     "iopub.status.busy": "2022-03-17T19:58:06.734807Z",
     "iopub.status.idle": "2022-03-17T19:59:49.022552Z",
     "shell.execute_reply": "2022-03-17T19:59:49.021257Z",
     "shell.execute_reply.started": "2022-03-17T19:58:06.735372Z"
    }
   },
   "outputs": [
    {
     "data": {
      "image/png": "[encoded data removed]",
      "text/plain": [
       "<Figure size 432x288 with 1 Axes>"
      ]
     },
     "metadata": {},
     "output_type": "display_data"
    }
   ],
   "source": [
    "# Elbow curve to find optimal K\n",
    "cost = []\n",
    "K = range(1,6)\n",
    "for num_clusters in list(K):\n",
    "    kmode = KModes(n_clusters=num_clusters, init = \"Huang\", n_init = 5, verbose=0)\n",
    "    kmode.fit_predict(df_female)\n",
    "    cost.append(kmode.cost_)\n",
    "    \n",
    "plt.plot(K, cost, 'bx-')\n",
    "plt.xlabel('No. of clusters')\n",
    "plt.ylabel('Cost')\n",
    "plt.title('Elbow Method For Optimal k')\n",
    "plt.show()"
   ]
  },
  {
   "cell_type": "markdown",
   "metadata": {},
   "source": [
    "**The best number of clusters for female data is 2**"
   ]
  },
  {
   "cell_type": "markdown",
   "metadata": {},
   "source": [
    "<div style=\"color:white;\n",
    "           display:fill;\n",
    "           border-radius:5px;\n",
    "           background-color:#2792a5;\n",
    "           font-size:110%;\n",
    "           font-family:Verdana;\n",
    "           letter-spacing:0.5px\">\n",
    "    <p style=\"padding: 10px;\n",
    "              color:white;\"> The best number of Clusters for All Data, Male and Female Data is 2 Clusters\n",
    "</p></div>"
   ]
  },
  {
   "cell_type": "markdown",
   "metadata": {},
   "source": [
    "## 2.3.1 Building a KModes for Data\n",
    "\n"
   ]
  },
  {
   "cell_type": "code",
   "execution_count": 36,
   "metadata": {
    "execution": {
     "iopub.execute_input": "2022-03-17T19:59:49.025389Z",
     "iopub.status.busy": "2022-03-17T19:59:49.024459Z",
     "iopub.status.idle": "2022-03-17T20:00:09.666692Z",
     "shell.execute_reply": "2022-03-17T20:00:09.665822Z",
     "shell.execute_reply.started": "2022-03-17T19:59:49.025280Z"
    }
   },
   "outputs": [
    {
     "data": {
      "text/plain": [
       "array([1, 0, 0, ..., 0, 1, 1], dtype=uint8)"
      ]
     },
     "execution_count": 36,
     "metadata": {},
     "output_type": "execute_result"
    }
   ],
   "source": [
    "# female data\n",
    "# Building the model with using K-Mode with \"Huang\" initialization\n",
    "km_huang = KModes(n_clusters=2, init = \"Huang\", n_init = 5, verbose=0)\n",
    "clusters_huang_1 = km_huang.fit_predict(df_female)\n",
    "clusters_huang_1"
   ]
  },
  {
   "cell_type": "code",
   "execution_count": 37,
   "metadata": {
    "execution": {
     "iopub.execute_input": "2022-03-17T20:00:09.668273Z",
     "iopub.status.busy": "2022-03-17T20:00:09.668010Z",
     "iopub.status.idle": "2022-03-17T20:00:41.693381Z",
     "shell.execute_reply": "2022-03-17T20:00:41.692562Z",
     "shell.execute_reply.started": "2022-03-17T20:00:09.668225Z"
    }
   },
   "outputs": [
    {
     "data": {
      "text/plain": [
       "array([0, 1, 1, ..., 0, 0, 1], dtype=uint8)"
      ]
     },
     "execution_count": 37,
     "metadata": {},
     "output_type": "execute_result"
    }
   ],
   "source": [
    "# male data\n",
    "# Building the model with using K-Mode with \"Huang\" initialization\n",
    "km_huang = KModes(n_clusters=2, init = \"Huang\", n_init = 5, verbose=0)\n",
    "clusters_huang_2 = km_huang.fit_predict(df_male)\n",
    "clusters_huang_2"
   ]
  },
  {
   "cell_type": "markdown",
   "metadata": {},
   "source": [
    "## 2.3.2 Inserting clusters in DataFrame"
   ]
  },
  {
   "cell_type": "code",
   "execution_count": 38,
   "metadata": {
    "execution": {
     "iopub.execute_input": "2022-03-17T20:00:41.694990Z",
     "iopub.status.busy": "2022-03-17T20:00:41.694711Z",
     "iopub.status.idle": "2022-03-17T20:00:41.721862Z",
     "shell.execute_reply": "2022-03-17T20:00:41.721014Z",
     "shell.execute_reply.started": "2022-03-17T20:00:41.694937Z"
    }
   },
   "outputs": [
    {
     "data": {
      "text/html": [
       "<div>\n",
       "<style scoped>\n",
       "    .dataframe tbody tr th:only-of-type {\n",
       "        vertical-align: middle;\n",
       "    }\n",
       "\n",
       "    .dataframe tbody tr th {\n",
       "        vertical-align: top;\n",
       "    }\n",
       "\n",
       "    .dataframe thead th {\n",
       "        text-align: right;\n",
       "    }\n",
       "</style>\n",
       "<table border=\"1\" class=\"dataframe\">\n",
       "  <thead>\n",
       "    <tr style=\"text-align: right;\">\n",
       "      <th></th>\n",
       "      <th>Cluster</th>\n",
       "      <th>gender</th>\n",
       "      <th>age_bin</th>\n",
       "      <th>BMI_Class</th>\n",
       "      <th>MAP_Class</th>\n",
       "      <th>cholesterol</th>\n",
       "      <th>gluc</th>\n",
       "      <th>smoke</th>\n",
       "      <th>active</th>\n",
       "      <th>cardio</th>\n",
       "    </tr>\n",
       "  </thead>\n",
       "  <tbody>\n",
       "    <tr>\n",
       "      <th>0</th>\n",
       "      <td>1</td>\n",
       "      <td>1</td>\n",
       "      <td>3</td>\n",
       "      <td>1</td>\n",
       "      <td>2</td>\n",
       "      <td>0</td>\n",
       "      <td>0</td>\n",
       "      <td>0</td>\n",
       "      <td>1</td>\n",
       "      <td>0</td>\n",
       "    </tr>\n",
       "    <tr>\n",
       "      <th>3</th>\n",
       "      <td>0</td>\n",
       "      <td>1</td>\n",
       "      <td>3</td>\n",
       "      <td>2</td>\n",
       "      <td>4</td>\n",
       "      <td>0</td>\n",
       "      <td>0</td>\n",
       "      <td>0</td>\n",
       "      <td>1</td>\n",
       "      <td>1</td>\n",
       "    </tr>\n",
       "    <tr>\n",
       "      <th>7</th>\n",
       "      <td>0</td>\n",
       "      <td>1</td>\n",
       "      <td>6</td>\n",
       "      <td>3</td>\n",
       "      <td>3</td>\n",
       "      <td>2</td>\n",
       "      <td>2</td>\n",
       "      <td>0</td>\n",
       "      <td>1</td>\n",
       "      <td>1</td>\n",
       "    </tr>\n",
       "    <tr>\n",
       "      <th>11</th>\n",
       "      <td>1</td>\n",
       "      <td>1</td>\n",
       "      <td>4</td>\n",
       "      <td>1</td>\n",
       "      <td>2</td>\n",
       "      <td>0</td>\n",
       "      <td>0</td>\n",
       "      <td>0</td>\n",
       "      <td>1</td>\n",
       "      <td>0</td>\n",
       "    </tr>\n",
       "    <tr>\n",
       "      <th>12</th>\n",
       "      <td>1</td>\n",
       "      <td>1</td>\n",
       "      <td>2</td>\n",
       "      <td>1</td>\n",
       "      <td>2</td>\n",
       "      <td>0</td>\n",
       "      <td>0</td>\n",
       "      <td>0</td>\n",
       "      <td>0</td>\n",
       "      <td>0</td>\n",
       "    </tr>\n",
       "  </tbody>\n",
       "</table>\n",
       "</div>"
      ],
      "text/plain": [
       "    Cluster  gender  age_bin  BMI_Class   ...    gluc  smoke  active  cardio\n",
       "0         1       1        3          1   ...       0      0       1       0\n",
       "3         0       1        3          2   ...       0      0       1       1\n",
       "7         0       1        6          3   ...       2      0       1       1\n",
       "11        1       1        4          1   ...       0      0       1       0\n",
       "12        1       1        2          1   ...       0      0       0       0\n",
       "\n",
       "[5 rows x 10 columns]"
      ]
     },
     "execution_count": 38,
     "metadata": {},
     "output_type": "execute_result"
    }
   ],
   "source": [
    "df_female.insert(0,\"Cluster\", clusters_huang_1, True)\n",
    "\n",
    "# female DataFrame with Clusters\n",
    "df_female.head()"
   ]
  },
  {
   "cell_type": "code",
   "execution_count": 39,
   "metadata": {
    "execution": {
     "iopub.execute_input": "2022-03-17T20:00:41.723658Z",
     "iopub.status.busy": "2022-03-17T20:00:41.723249Z",
     "iopub.status.idle": "2022-03-17T20:00:41.762329Z",
     "shell.execute_reply": "2022-03-17T20:00:41.761428Z",
     "shell.execute_reply.started": "2022-03-17T20:00:41.723481Z"
    }
   },
   "outputs": [
    {
     "data": {
      "text/html": [
       "<div>\n",
       "<style scoped>\n",
       "    .dataframe tbody tr th:only-of-type {\n",
       "        vertical-align: middle;\n",
       "    }\n",
       "\n",
       "    .dataframe tbody tr th {\n",
       "        vertical-align: top;\n",
       "    }\n",
       "\n",
       "    .dataframe thead th {\n",
       "        text-align: right;\n",
       "    }\n",
       "</style>\n",
       "<table border=\"1\" class=\"dataframe\">\n",
       "  <thead>\n",
       "    <tr style=\"text-align: right;\">\n",
       "      <th></th>\n",
       "      <th>Cluster</th>\n",
       "      <th>gender</th>\n",
       "      <th>age_bin</th>\n",
       "      <th>BMI_Class</th>\n",
       "      <th>MAP_Class</th>\n",
       "      <th>cholesterol</th>\n",
       "      <th>gluc</th>\n",
       "      <th>smoke</th>\n",
       "      <th>active</th>\n",
       "      <th>cardio</th>\n",
       "    </tr>\n",
       "  </thead>\n",
       "  <tbody>\n",
       "    <tr>\n",
       "      <th>1</th>\n",
       "      <td>0</td>\n",
       "      <td>0</td>\n",
       "      <td>4</td>\n",
       "      <td>4</td>\n",
       "      <td>3</td>\n",
       "      <td>2</td>\n",
       "      <td>0</td>\n",
       "      <td>0</td>\n",
       "      <td>1</td>\n",
       "      <td>1</td>\n",
       "    </tr>\n",
       "    <tr>\n",
       "      <th>2</th>\n",
       "      <td>1</td>\n",
       "      <td>0</td>\n",
       "      <td>4</td>\n",
       "      <td>1</td>\n",
       "      <td>2</td>\n",
       "      <td>2</td>\n",
       "      <td>0</td>\n",
       "      <td>0</td>\n",
       "      <td>0</td>\n",
       "      <td>1</td>\n",
       "    </tr>\n",
       "    <tr>\n",
       "      <th>4</th>\n",
       "      <td>1</td>\n",
       "      <td>0</td>\n",
       "      <td>3</td>\n",
       "      <td>1</td>\n",
       "      <td>0</td>\n",
       "      <td>0</td>\n",
       "      <td>0</td>\n",
       "      <td>0</td>\n",
       "      <td>0</td>\n",
       "      <td>0</td>\n",
       "    </tr>\n",
       "    <tr>\n",
       "      <th>5</th>\n",
       "      <td>1</td>\n",
       "      <td>0</td>\n",
       "      <td>5</td>\n",
       "      <td>2</td>\n",
       "      <td>2</td>\n",
       "      <td>1</td>\n",
       "      <td>1</td>\n",
       "      <td>0</td>\n",
       "      <td>0</td>\n",
       "      <td>0</td>\n",
       "    </tr>\n",
       "    <tr>\n",
       "      <th>6</th>\n",
       "      <td>1</td>\n",
       "      <td>0</td>\n",
       "      <td>6</td>\n",
       "      <td>4</td>\n",
       "      <td>2</td>\n",
       "      <td>2</td>\n",
       "      <td>0</td>\n",
       "      <td>0</td>\n",
       "      <td>1</td>\n",
       "      <td>0</td>\n",
       "    </tr>\n",
       "  </tbody>\n",
       "</table>\n",
       "</div>"
      ],
      "text/plain": [
       "   Cluster  gender  age_bin  BMI_Class   ...    gluc  smoke  active  cardio\n",
       "1        0       0        4          4   ...       0      0       1       1\n",
       "2        1       0        4          1   ...       0      0       0       1\n",
       "4        1       0        3          1   ...       0      0       0       0\n",
       "5        1       0        5          2   ...       1      0       0       0\n",
       "6        1       0        6          4   ...       0      0       1       0\n",
       "\n",
       "[5 rows x 10 columns]"
      ]
     },
     "execution_count": 39,
     "metadata": {},
     "output_type": "execute_result"
    }
   ],
   "source": [
    "df_male.insert(0, \"Cluster\", clusters_huang_2, True)\n",
    "\n",
    "# female DataFrame with Clusters\n",
    "df_male.head()"
   ]
  },
  {
   "cell_type": "code",
   "execution_count": 40,
   "metadata": {
    "execution": {
     "iopub.execute_input": "2022-03-17T20:00:41.764364Z",
     "iopub.status.busy": "2022-03-17T20:00:41.764106Z",
     "iopub.status.idle": "2022-03-17T20:00:41.893082Z",
     "shell.execute_reply": "2022-03-17T20:00:41.891979Z",
     "shell.execute_reply.started": "2022-03-17T20:00:41.764328Z"
    }
   },
   "outputs": [
    {
     "data": {
      "text/html": [
       "<div>\n",
       "<style scoped>\n",
       "    .dataframe tbody tr th:only-of-type {\n",
       "        vertical-align: middle;\n",
       "    }\n",
       "\n",
       "    .dataframe tbody tr th {\n",
       "        vertical-align: top;\n",
       "    }\n",
       "\n",
       "    .dataframe thead th {\n",
       "        text-align: right;\n",
       "    }\n",
       "</style>\n",
       "<table border=\"1\" class=\"dataframe\">\n",
       "  <thead>\n",
       "    <tr style=\"text-align: right;\">\n",
       "      <th></th>\n",
       "      <th>Cluster</th>\n",
       "      <th>gender</th>\n",
       "      <th>age_bin</th>\n",
       "      <th>BMI_Class</th>\n",
       "      <th>MAP_Class</th>\n",
       "      <th>cholesterol</th>\n",
       "      <th>gluc</th>\n",
       "      <th>smoke</th>\n",
       "      <th>active</th>\n",
       "      <th>cardio</th>\n",
       "    </tr>\n",
       "  </thead>\n",
       "  <tbody>\n",
       "    <tr>\n",
       "      <th>1</th>\n",
       "      <td>2</td>\n",
       "      <td>0</td>\n",
       "      <td>4</td>\n",
       "      <td>4</td>\n",
       "      <td>3</td>\n",
       "      <td>2</td>\n",
       "      <td>0</td>\n",
       "      <td>0</td>\n",
       "      <td>1</td>\n",
       "      <td>1</td>\n",
       "    </tr>\n",
       "    <tr>\n",
       "      <th>2</th>\n",
       "      <td>3</td>\n",
       "      <td>0</td>\n",
       "      <td>4</td>\n",
       "      <td>1</td>\n",
       "      <td>2</td>\n",
       "      <td>2</td>\n",
       "      <td>0</td>\n",
       "      <td>0</td>\n",
       "      <td>0</td>\n",
       "      <td>1</td>\n",
       "    </tr>\n",
       "    <tr>\n",
       "      <th>4</th>\n",
       "      <td>3</td>\n",
       "      <td>0</td>\n",
       "      <td>3</td>\n",
       "      <td>1</td>\n",
       "      <td>0</td>\n",
       "      <td>0</td>\n",
       "      <td>0</td>\n",
       "      <td>0</td>\n",
       "      <td>0</td>\n",
       "      <td>0</td>\n",
       "    </tr>\n",
       "    <tr>\n",
       "      <th>5</th>\n",
       "      <td>3</td>\n",
       "      <td>0</td>\n",
       "      <td>5</td>\n",
       "      <td>2</td>\n",
       "      <td>2</td>\n",
       "      <td>1</td>\n",
       "      <td>1</td>\n",
       "      <td>0</td>\n",
       "      <td>0</td>\n",
       "      <td>0</td>\n",
       "    </tr>\n",
       "    <tr>\n",
       "      <th>6</th>\n",
       "      <td>3</td>\n",
       "      <td>0</td>\n",
       "      <td>6</td>\n",
       "      <td>4</td>\n",
       "      <td>2</td>\n",
       "      <td>2</td>\n",
       "      <td>0</td>\n",
       "      <td>0</td>\n",
       "      <td>1</td>\n",
       "      <td>0</td>\n",
       "    </tr>\n",
       "  </tbody>\n",
       "</table>\n",
       "</div>"
      ],
      "text/plain": [
       "   Cluster  gender  age_bin  BMI_Class   ...    gluc  smoke  active  cardio\n",
       "1        2       0        4          4   ...       0      0       1       1\n",
       "2        3       0        4          1   ...       0      0       0       1\n",
       "4        3       0        3          1   ...       0      0       0       0\n",
       "5        3       0        5          2   ...       1      0       0       0\n",
       "6        3       0        6          4   ...       0      0       1       0\n",
       "\n",
       "[5 rows x 10 columns]"
      ]
     },
     "execution_count": 40,
     "metadata": {},
     "output_type": "execute_result"
    }
   ],
   "source": [
    "# replacing cluster column values to merge dataframes after\n",
    "df_male[\"Cluster\"].replace({0:2, 1:3}, inplace=True)\n",
    "df_male.head()"
   ]
  },
  {
   "cell_type": "code",
   "execution_count": 41,
   "metadata": {
    "execution": {
     "iopub.execute_input": "2022-03-17T20:00:41.895229Z",
     "iopub.status.busy": "2022-03-17T20:00:41.894891Z",
     "iopub.status.idle": "2022-03-17T20:00:41.936726Z",
     "shell.execute_reply": "2022-03-17T20:00:41.935231Z",
     "shell.execute_reply.started": "2022-03-17T20:00:41.895179Z"
    }
   },
   "outputs": [
    {
     "data": {
      "text/html": [
       "<div>\n",
       "<style scoped>\n",
       "    .dataframe tbody tr th:only-of-type {\n",
       "        vertical-align: middle;\n",
       "    }\n",
       "\n",
       "    .dataframe tbody tr th {\n",
       "        vertical-align: top;\n",
       "    }\n",
       "\n",
       "    .dataframe thead th {\n",
       "        text-align: right;\n",
       "    }\n",
       "</style>\n",
       "<table border=\"1\" class=\"dataframe\">\n",
       "  <thead>\n",
       "    <tr style=\"text-align: right;\">\n",
       "      <th></th>\n",
       "      <th>Cluster</th>\n",
       "      <th>gender</th>\n",
       "      <th>age_bin</th>\n",
       "      <th>BMI_Class</th>\n",
       "      <th>MAP_Class</th>\n",
       "      <th>cholesterol</th>\n",
       "      <th>gluc</th>\n",
       "      <th>smoke</th>\n",
       "      <th>active</th>\n",
       "      <th>cardio</th>\n",
       "    </tr>\n",
       "  </thead>\n",
       "  <tbody>\n",
       "    <tr>\n",
       "      <th>0</th>\n",
       "      <td>1</td>\n",
       "      <td>1</td>\n",
       "      <td>3</td>\n",
       "      <td>1</td>\n",
       "      <td>2</td>\n",
       "      <td>0</td>\n",
       "      <td>0</td>\n",
       "      <td>0</td>\n",
       "      <td>1</td>\n",
       "      <td>0</td>\n",
       "    </tr>\n",
       "    <tr>\n",
       "      <th>1</th>\n",
       "      <td>0</td>\n",
       "      <td>1</td>\n",
       "      <td>3</td>\n",
       "      <td>2</td>\n",
       "      <td>4</td>\n",
       "      <td>0</td>\n",
       "      <td>0</td>\n",
       "      <td>0</td>\n",
       "      <td>1</td>\n",
       "      <td>1</td>\n",
       "    </tr>\n",
       "    <tr>\n",
       "      <th>2</th>\n",
       "      <td>0</td>\n",
       "      <td>1</td>\n",
       "      <td>6</td>\n",
       "      <td>3</td>\n",
       "      <td>3</td>\n",
       "      <td>2</td>\n",
       "      <td>2</td>\n",
       "      <td>0</td>\n",
       "      <td>1</td>\n",
       "      <td>1</td>\n",
       "    </tr>\n",
       "    <tr>\n",
       "      <th>3</th>\n",
       "      <td>1</td>\n",
       "      <td>1</td>\n",
       "      <td>4</td>\n",
       "      <td>1</td>\n",
       "      <td>2</td>\n",
       "      <td>0</td>\n",
       "      <td>0</td>\n",
       "      <td>0</td>\n",
       "      <td>1</td>\n",
       "      <td>0</td>\n",
       "    </tr>\n",
       "    <tr>\n",
       "      <th>4</th>\n",
       "      <td>1</td>\n",
       "      <td>1</td>\n",
       "      <td>2</td>\n",
       "      <td>1</td>\n",
       "      <td>2</td>\n",
       "      <td>0</td>\n",
       "      <td>0</td>\n",
       "      <td>0</td>\n",
       "      <td>0</td>\n",
       "      <td>0</td>\n",
       "    </tr>\n",
       "    <tr>\n",
       "      <th>5</th>\n",
       "      <td>1</td>\n",
       "      <td>1</td>\n",
       "      <td>5</td>\n",
       "      <td>1</td>\n",
       "      <td>1</td>\n",
       "      <td>0</td>\n",
       "      <td>0</td>\n",
       "      <td>1</td>\n",
       "      <td>1</td>\n",
       "      <td>0</td>\n",
       "    </tr>\n",
       "    <tr>\n",
       "      <th>6</th>\n",
       "      <td>1</td>\n",
       "      <td>1</td>\n",
       "      <td>4</td>\n",
       "      <td>3</td>\n",
       "      <td>2</td>\n",
       "      <td>0</td>\n",
       "      <td>0</td>\n",
       "      <td>0</td>\n",
       "      <td>1</td>\n",
       "      <td>0</td>\n",
       "    </tr>\n",
       "    <tr>\n",
       "      <th>7</th>\n",
       "      <td>1</td>\n",
       "      <td>1</td>\n",
       "      <td>1</td>\n",
       "      <td>1</td>\n",
       "      <td>2</td>\n",
       "      <td>0</td>\n",
       "      <td>0</td>\n",
       "      <td>0</td>\n",
       "      <td>1</td>\n",
       "      <td>0</td>\n",
       "    </tr>\n",
       "    <tr>\n",
       "      <th>8</th>\n",
       "      <td>0</td>\n",
       "      <td>1</td>\n",
       "      <td>5</td>\n",
       "      <td>2</td>\n",
       "      <td>2</td>\n",
       "      <td>0</td>\n",
       "      <td>2</td>\n",
       "      <td>0</td>\n",
       "      <td>0</td>\n",
       "      <td>0</td>\n",
       "    </tr>\n",
       "    <tr>\n",
       "      <th>9</th>\n",
       "      <td>0</td>\n",
       "      <td>1</td>\n",
       "      <td>5</td>\n",
       "      <td>2</td>\n",
       "      <td>3</td>\n",
       "      <td>2</td>\n",
       "      <td>0</td>\n",
       "      <td>0</td>\n",
       "      <td>0</td>\n",
       "      <td>1</td>\n",
       "    </tr>\n",
       "  </tbody>\n",
       "</table>\n",
       "</div>"
      ],
      "text/plain": [
       "   Cluster  gender  age_bin  BMI_Class   ...    gluc  smoke  active  cardio\n",
       "0        1       1        3          1   ...       0      0       1       0\n",
       "1        0       1        3          2   ...       0      0       1       1\n",
       "2        0       1        6          3   ...       2      0       1       1\n",
       "3        1       1        4          1   ...       0      0       1       0\n",
       "4        1       1        2          1   ...       0      0       0       0\n",
       "5        1       1        5          1   ...       0      1       1       0\n",
       "6        1       1        4          3   ...       0      0       1       0\n",
       "7        1       1        1          1   ...       0      0       1       0\n",
       "8        0       1        5          2   ...       2      0       0       0\n",
       "9        0       1        5          2   ...       0      0       0       1\n",
       "\n",
       "[10 rows x 10 columns]"
      ]
     },
     "execution_count": 41,
     "metadata": {},
     "output_type": "execute_result"
    }
   ],
   "source": [
    "# merging female and male data\n",
    "df_clusters = pd.concat([df_female, df_male], ignore_index=True, sort=False)\n",
    "df_clusters.head(10)"
   ]
  },
  {
   "cell_type": "code",
   "execution_count": 42,
   "metadata": {
    "execution": {
     "iopub.execute_input": "2022-03-17T20:00:41.938801Z",
     "iopub.status.busy": "2022-03-17T20:00:41.938475Z",
     "iopub.status.idle": "2022-03-17T20:00:42.902142Z",
     "shell.execute_reply": "2022-03-17T20:00:42.901211Z",
     "shell.execute_reply.started": "2022-03-17T20:00:41.938748Z"
    }
   },
   "outputs": [
    {
     "data": {
      "image/png": "[encoded data removed]",
      "text/plain": [
       "<Figure size 1440x720 with 2 Axes>"
      ]
     },
     "metadata": {},
     "output_type": "display_data"
    }
   ],
   "source": [
    "corr = df_clusters.corr()\n",
    "cmap = sns.diverging_palette(2, 15, as_cmap=True)\n",
    "# Generate a mask for the upper triangle\n",
    "mask = np.zeros_like(corr, dtype=np.bool)\n",
    "mask[np.triu_indices_from(mask)] = True\n",
    "\n",
    "# Set up the matplotlib figure\n",
    "f, ax = plt.subplots(figsize=(20, 10))\n",
    "# Draw the heatmap with the mask and correct aspect ratio\n",
    "sns.heatmap(corr, mask=mask, cmap=cmap, vmax=.7, center=0,annot = True,\n",
    "            square=True, linewidths=.5, cbar_kws={\"shrink\": .5});"
   ]
  },
  {
   "cell_type": "markdown",
   "metadata": {},
   "source": [
    "## 2.4 Analizing Clusters\n",
    "\n"
   ]
  },
  {
   "cell_type": "code",
   "execution_count": 43,
   "metadata": {
    "execution": {
     "iopub.execute_input": "2022-03-17T20:00:42.904368Z",
     "iopub.status.busy": "2022-03-17T20:00:42.904063Z",
     "iopub.status.idle": "2022-03-17T20:00:43.627472Z",
     "shell.execute_reply": "2022-03-17T20:00:43.626265Z",
     "shell.execute_reply.started": "2022-03-17T20:00:42.904319Z"
    }
   },
   "outputs": [
    {
     "data": {
      "image/png": "[encoded data removed]",
      "text/plain": [
       "<Figure size 1080x360 with 3 Axes>"
      ]
     },
     "metadata": {},
     "output_type": "display_data"
    }
   ],
   "source": [
    "# female\n",
    "f, axs = plt.subplots(1,3,figsize = (15,5))\n",
    "sns.countplot(x=df_female['Cluster'],order=df_female['Cluster'].value_counts().index,hue=df_female['cardio'],ax=axs[0],palette='rainbow')\n",
    "sns.countplot(x=df_female['smoke'],order=df_female['smoke'].value_counts().index,hue=df_female['cardio'],ax=axs[1],palette='rainbow')\n",
    "sns.countplot(x=df_female['BMI_Class'],order=df_female['BMI_Class'].value_counts().index,hue=df_female['cardio'],ax=axs[2],palette='rainbow')\n",
    "\n",
    "plt.tight_layout()\n",
    "plt.show()"
   ]
  },
  {
   "cell_type": "code",
   "execution_count": 44,
   "metadata": {
    "execution": {
     "iopub.execute_input": "2022-03-17T20:00:43.629049Z",
     "iopub.status.busy": "2022-03-17T20:00:43.628783Z",
     "iopub.status.idle": "2022-03-17T20:00:44.379180Z",
     "shell.execute_reply": "2022-03-17T20:00:44.377947Z",
     "shell.execute_reply.started": "2022-03-17T20:00:43.629002Z"
    }
   },
   "outputs": [
    {
     "data": {
      "image/png": "[encoded data removed]",
      "text/plain": [
       "<Figure size 1080x360 with 3 Axes>"
      ]
     },
     "metadata": {},
     "output_type": "display_data"
    }
   ],
   "source": [
    "# male\n",
    "f, axs = plt.subplots(1,3,figsize = (15,5))\n",
    "sns.countplot(x=df_male['Cluster'],order=df_male['Cluster'].value_counts().index,hue=df_male['cardio'],ax=axs[0],palette='rainbow')\n",
    "sns.countplot(x=df_male['smoke'],order=df_male['smoke'].value_counts().index,hue=df_male['cardio'],ax=axs[1],palette='rainbow')\n",
    "sns.countplot(x=df_male['BMI_Class'],order=df_male['BMI_Class'].value_counts().index,hue=df_male['cardio'],ax=axs[2],palette='rainbow')\n",
    "\n",
    "plt.tight_layout()\n",
    "plt.show()"
   ]
  },
  {
   "cell_type": "markdown",
   "metadata": {},
   "source": [
    "<div style=\"color:white;\n",
    "           display:fill;\n",
    "           border-radius:5px;\n",
    "           background-color:#2792a5;\n",
    "           font-size:110%;\n",
    "           font-family:Verdana;\n",
    "           letter-spacing:0.5px\">\n",
    "    <p style=\"padding: 10px;\n",
    "              color:white;\"> There are notably difference between clusters\n",
    "</p></div>"
   ]
  },
  {
   "cell_type": "markdown",
   "metadata": {},
   "source": [
    "### 2.4.1 For Female Data"
   ]
  },
  {
   "cell_type": "code",
   "execution_count": 45,
   "metadata": {
    "execution": {
     "iopub.execute_input": "2022-03-17T20:00:44.380799Z",
     "iopub.status.busy": "2022-03-17T20:00:44.380439Z",
     "iopub.status.idle": "2022-03-17T20:00:44.412357Z",
     "shell.execute_reply": "2022-03-17T20:00:44.411194Z",
     "shell.execute_reply.started": "2022-03-17T20:00:44.380701Z"
    }
   },
   "outputs": [
    {
     "data": {
      "text/html": [
       "<div>\n",
       "<style scoped>\n",
       "    .dataframe tbody tr th:only-of-type {\n",
       "        vertical-align: middle;\n",
       "    }\n",
       "\n",
       "    .dataframe tbody tr th {\n",
       "        vertical-align: top;\n",
       "    }\n",
       "\n",
       "    .dataframe thead th {\n",
       "        text-align: right;\n",
       "    }\n",
       "</style>\n",
       "<table border=\"1\" class=\"dataframe\">\n",
       "  <thead>\n",
       "    <tr style=\"text-align: right;\">\n",
       "      <th></th>\n",
       "      <th>Cluster</th>\n",
       "      <th>gender</th>\n",
       "      <th>age_bin</th>\n",
       "      <th>BMI_Class</th>\n",
       "      <th>MAP_Class</th>\n",
       "      <th>cholesterol</th>\n",
       "      <th>gluc</th>\n",
       "      <th>smoke</th>\n",
       "      <th>active</th>\n",
       "      <th>cardio</th>\n",
       "    </tr>\n",
       "  </thead>\n",
       "  <tbody>\n",
       "    <tr>\n",
       "      <th>3</th>\n",
       "      <td>0</td>\n",
       "      <td>1</td>\n",
       "      <td>3</td>\n",
       "      <td>2</td>\n",
       "      <td>4</td>\n",
       "      <td>0</td>\n",
       "      <td>0</td>\n",
       "      <td>0</td>\n",
       "      <td>1</td>\n",
       "      <td>1</td>\n",
       "    </tr>\n",
       "    <tr>\n",
       "      <th>7</th>\n",
       "      <td>0</td>\n",
       "      <td>1</td>\n",
       "      <td>6</td>\n",
       "      <td>3</td>\n",
       "      <td>3</td>\n",
       "      <td>2</td>\n",
       "      <td>2</td>\n",
       "      <td>0</td>\n",
       "      <td>1</td>\n",
       "      <td>1</td>\n",
       "    </tr>\n",
       "    <tr>\n",
       "      <th>29</th>\n",
       "      <td>0</td>\n",
       "      <td>1</td>\n",
       "      <td>5</td>\n",
       "      <td>2</td>\n",
       "      <td>2</td>\n",
       "      <td>0</td>\n",
       "      <td>2</td>\n",
       "      <td>0</td>\n",
       "      <td>0</td>\n",
       "      <td>0</td>\n",
       "    </tr>\n",
       "    <tr>\n",
       "      <th>34</th>\n",
       "      <td>0</td>\n",
       "      <td>1</td>\n",
       "      <td>5</td>\n",
       "      <td>2</td>\n",
       "      <td>3</td>\n",
       "      <td>2</td>\n",
       "      <td>0</td>\n",
       "      <td>0</td>\n",
       "      <td>0</td>\n",
       "      <td>1</td>\n",
       "    </tr>\n",
       "    <tr>\n",
       "      <th>38</th>\n",
       "      <td>0</td>\n",
       "      <td>1</td>\n",
       "      <td>6</td>\n",
       "      <td>2</td>\n",
       "      <td>2</td>\n",
       "      <td>0</td>\n",
       "      <td>0</td>\n",
       "      <td>1</td>\n",
       "      <td>1</td>\n",
       "      <td>1</td>\n",
       "    </tr>\n",
       "  </tbody>\n",
       "</table>\n",
       "</div>"
      ],
      "text/plain": [
       "    Cluster  gender  age_bin  BMI_Class   ...    gluc  smoke  active  cardio\n",
       "3         0       1        3          2   ...       0      0       1       1\n",
       "7         0       1        6          3   ...       2      0       1       1\n",
       "29        0       1        5          2   ...       2      0       0       0\n",
       "34        0       1        5          2   ...       0      0       0       1\n",
       "38        0       1        6          2   ...       0      1       1       1\n",
       "\n",
       "[5 rows x 10 columns]"
      ]
     },
     "execution_count": 45,
     "metadata": {},
     "output_type": "execute_result"
    }
   ],
   "source": [
    "# separating clusters\n",
    "df_female_c0 = df_female[df_female[\"Cluster\"] == 0]\n",
    "df_female_c1 = df_female[df_female[\"Cluster\"] == 1]\n",
    "\n",
    "\n",
    "df_female_c0.head()"
   ]
  },
  {
   "cell_type": "code",
   "execution_count": 46,
   "metadata": {
    "execution": {
     "iopub.execute_input": "2022-03-17T20:00:44.414453Z",
     "iopub.status.busy": "2022-03-17T20:00:44.414141Z",
     "iopub.status.idle": "2022-03-17T20:00:45.906290Z",
     "shell.execute_reply": "2022-03-17T20:00:45.905155Z",
     "shell.execute_reply.started": "2022-03-17T20:00:44.414379Z"
    }
   },
   "outputs": [
    {
     "data": {
      "image/png": "[encoded data removed]",
      "text/plain": [
       "<Figure size 1440x360 with 8 Axes>"
      ]
     },
     "metadata": {},
     "output_type": "display_data"
    }
   ],
   "source": [
    "# for df_female_c0\n",
    "f, axs = plt.subplots(2,4,figsize = (20,5))\n",
    "sns.countplot(x=df_female_c0['age_bin'],hue=df_female_c0['cardio'],ax=axs[0,0],palette='rainbow')\n",
    "sns.countplot(x=df_female_c0['BMI_Class'],order=df_female_c0['BMI_Class'].value_counts().index,hue=df_female_c0['cardio'],ax=axs[0,1],palette='rainbow')\n",
    "sns.countplot(x=df_female_c0['MAP_Class'],order=df_female_c0['MAP_Class'].value_counts().index,hue=df_female_c0['cardio'],ax=axs[0,2],palette='rainbow')\n",
    "sns.countplot(x=df_female_c0['cholesterol'],order=df_female_c0['cholesterol'].value_counts().index,hue=df_female_c0['cardio'],ax=axs[0,3],palette='rainbow')\n",
    "sns.countplot(x=df_female_c0['gluc'],order=df_female_c0['gluc'].value_counts().index,hue=df_female_c0['cardio'],ax=axs[1,0],palette='rainbow')\n",
    "sns.countplot(x=df_female_c0['smoke'],order=df_female_c0['smoke'].value_counts().index,hue=df_female_c0['cardio'],ax=axs[1,1],palette='rainbow')\n",
    "sns.countplot(x=df_female_c0['active'],order=df_female_c0['active'].value_counts().index,hue=df_female_c0['cardio'],ax=axs[1,2],palette='rainbow')\n",
    "sns.countplot(x=df_female_c0['cardio'],order=df_female_c0['cardio'].value_counts().index,ax=axs[1,3],palette='rainbow')\n",
    "\n",
    "plt.tight_layout()\n",
    "plt.show()\n"
   ]
  },
  {
   "cell_type": "code",
   "execution_count": 47,
   "metadata": {
    "execution": {
     "iopub.execute_input": "2022-03-17T20:00:45.908976Z",
     "iopub.status.busy": "2022-03-17T20:00:45.908201Z",
     "iopub.status.idle": "2022-03-17T20:00:47.589729Z",
     "shell.execute_reply": "2022-03-17T20:00:47.588864Z",
     "shell.execute_reply.started": "2022-03-17T20:00:45.908911Z"
    }
   },
   "outputs": [
    {
     "data": {
      "image/png": "[encoded data removed]",
      "text/plain": [
       "<Figure size 1440x360 with 8 Axes>"
      ]
     },
     "metadata": {},
     "output_type": "display_data"
    }
   ],
   "source": [
    "# for df_female_c1\n",
    "f, axs = plt.subplots(2,4,figsize = (20,5))\n",
    "sns.countplot(x=df_female_c1['age_bin'],hue=df_female_c1['cardio'],ax=axs[0,0],palette='rainbow')\n",
    "sns.countplot(x=df_female_c1['BMI_Class'],order=df_female_c1['BMI_Class'].value_counts().index,hue=df_female_c1['cardio'],ax=axs[0,1],palette='rainbow')\n",
    "sns.countplot(x=df_female_c1['MAP_Class'],order=df_female_c1['MAP_Class'].value_counts().index,hue=df_female_c1['cardio'],ax=axs[0,2],palette='rainbow')\n",
    "sns.countplot(x=df_female_c1['cholesterol'],order=df_female_c1['cholesterol'].value_counts().index,hue=df_female_c1['cardio'],ax=axs[0,3],palette='rainbow')\n",
    "sns.countplot(x=df_female_c1['gluc'],order=df_female_c1['gluc'].value_counts().index,hue=df_female_c1['cardio'],ax=axs[1,0],palette='rainbow')\n",
    "sns.countplot(x=df_female_c1['smoke'],order=df_female_c1['smoke'].value_counts().index,hue=df_female_c1['cardio'],ax=axs[1,1],palette='rainbow')\n",
    "sns.countplot(x=df_female_c1['active'],order=df_female_c1['active'].value_counts().index,hue=df_female_c1['cardio'],ax=axs[1,2],palette='rainbow')\n",
    "sns.countplot(x=df_female_c1['cardio'],order=df_female_c1['cardio'].value_counts().index,ax=axs[1,3],palette='rainbow')\n",
    "\n",
    "plt.tight_layout()\n",
    "plt.show()"
   ]
  },
  {
   "cell_type": "markdown",
   "metadata": {},
   "source": [
    "<div style=\"color:white;\n",
    "           display:fill;\n",
    "           border-radius:5px;\n",
    "           background-color:#2792a5;\n",
    "           font-size:110%;\n",
    "           font-family:Verdana;\n",
    "           letter-spacing:0.5px\">\n",
    "    <p style=\"padding: 10px;\n",
    "              color:white;\"> BMI_Class, Smoke and Age_Bin are very different within female clusters\n",
    "</p></div>"
   ]
  },
  {
   "cell_type": "markdown",
   "metadata": {},
   "source": [
    "### 2.4.2For Male Data"
   ]
  },
  {
   "cell_type": "code",
   "execution_count": 48,
   "metadata": {
    "execution": {
     "iopub.execute_input": "2022-03-17T20:00:47.591319Z",
     "iopub.status.busy": "2022-03-17T20:00:47.591045Z",
     "iopub.status.idle": "2022-03-17T20:00:47.668754Z",
     "shell.execute_reply": "2022-03-17T20:00:47.667789Z",
     "shell.execute_reply.started": "2022-03-17T20:00:47.591268Z"
    }
   },
   "outputs": [
    {
     "data": {
      "text/html": [
       "<div>\n",
       "<style scoped>\n",
       "    .dataframe tbody tr th:only-of-type {\n",
       "        vertical-align: middle;\n",
       "    }\n",
       "\n",
       "    .dataframe tbody tr th {\n",
       "        vertical-align: top;\n",
       "    }\n",
       "\n",
       "    .dataframe thead th {\n",
       "        text-align: right;\n",
       "    }\n",
       "</style>\n",
       "<table border=\"1\" class=\"dataframe\">\n",
       "  <thead>\n",
       "    <tr style=\"text-align: right;\">\n",
       "      <th></th>\n",
       "      <th>Cluster</th>\n",
       "      <th>gender</th>\n",
       "      <th>age_bin</th>\n",
       "      <th>BMI_Class</th>\n",
       "      <th>MAP_Class</th>\n",
       "      <th>cholesterol</th>\n",
       "      <th>gluc</th>\n",
       "      <th>smoke</th>\n",
       "      <th>active</th>\n",
       "      <th>cardio</th>\n",
       "    </tr>\n",
       "  </thead>\n",
       "  <tbody>\n",
       "    <tr>\n",
       "      <th>count</th>\n",
       "      <td>20371.0</td>\n",
       "      <td>20371.0</td>\n",
       "      <td>20371.000000</td>\n",
       "      <td>20371.000000</td>\n",
       "      <td>20371.000000</td>\n",
       "      <td>20371.000000</td>\n",
       "      <td>20371.000000</td>\n",
       "      <td>20371.000000</td>\n",
       "      <td>20371.000000</td>\n",
       "      <td>20371.000000</td>\n",
       "    </tr>\n",
       "    <tr>\n",
       "      <th>mean</th>\n",
       "      <td>2.0</td>\n",
       "      <td>0.0</td>\n",
       "      <td>4.296009</td>\n",
       "      <td>2.373227</td>\n",
       "      <td>2.529724</td>\n",
       "      <td>0.512395</td>\n",
       "      <td>0.279220</td>\n",
       "      <td>0.018261</td>\n",
       "      <td>0.796966</td>\n",
       "      <td>0.811939</td>\n",
       "    </tr>\n",
       "    <tr>\n",
       "      <th>std</th>\n",
       "      <td>0.0</td>\n",
       "      <td>0.0</td>\n",
       "      <td>1.301995</td>\n",
       "      <td>0.913096</td>\n",
       "      <td>1.083884</td>\n",
       "      <td>0.772999</td>\n",
       "      <td>0.628711</td>\n",
       "      <td>0.133898</td>\n",
       "      <td>0.402267</td>\n",
       "      <td>0.390771</td>\n",
       "    </tr>\n",
       "    <tr>\n",
       "      <th>min</th>\n",
       "      <td>2.0</td>\n",
       "      <td>0.0</td>\n",
       "      <td>1.000000</td>\n",
       "      <td>0.000000</td>\n",
       "      <td>0.000000</td>\n",
       "      <td>0.000000</td>\n",
       "      <td>0.000000</td>\n",
       "      <td>0.000000</td>\n",
       "      <td>0.000000</td>\n",
       "      <td>0.000000</td>\n",
       "    </tr>\n",
       "    <tr>\n",
       "      <th>25%</th>\n",
       "      <td>2.0</td>\n",
       "      <td>0.0</td>\n",
       "      <td>3.000000</td>\n",
       "      <td>2.000000</td>\n",
       "      <td>2.000000</td>\n",
       "      <td>0.000000</td>\n",
       "      <td>0.000000</td>\n",
       "      <td>0.000000</td>\n",
       "      <td>1.000000</td>\n",
       "      <td>1.000000</td>\n",
       "    </tr>\n",
       "    <tr>\n",
       "      <th>50%</th>\n",
       "      <td>2.0</td>\n",
       "      <td>0.0</td>\n",
       "      <td>5.000000</td>\n",
       "      <td>2.000000</td>\n",
       "      <td>3.000000</td>\n",
       "      <td>0.000000</td>\n",
       "      <td>0.000000</td>\n",
       "      <td>0.000000</td>\n",
       "      <td>1.000000</td>\n",
       "      <td>1.000000</td>\n",
       "    </tr>\n",
       "    <tr>\n",
       "      <th>75%</th>\n",
       "      <td>2.0</td>\n",
       "      <td>0.0</td>\n",
       "      <td>5.000000</td>\n",
       "      <td>3.000000</td>\n",
       "      <td>3.000000</td>\n",
       "      <td>1.000000</td>\n",
       "      <td>0.000000</td>\n",
       "      <td>0.000000</td>\n",
       "      <td>1.000000</td>\n",
       "      <td>1.000000</td>\n",
       "    </tr>\n",
       "    <tr>\n",
       "      <th>max</th>\n",
       "      <td>2.0</td>\n",
       "      <td>0.0</td>\n",
       "      <td>6.000000</td>\n",
       "      <td>5.000000</td>\n",
       "      <td>5.000000</td>\n",
       "      <td>2.000000</td>\n",
       "      <td>2.000000</td>\n",
       "      <td>1.000000</td>\n",
       "      <td>1.000000</td>\n",
       "      <td>1.000000</td>\n",
       "    </tr>\n",
       "  </tbody>\n",
       "</table>\n",
       "</div>"
      ],
      "text/plain": [
       "       Cluster   gender      ...             active        cardio\n",
       "count  20371.0  20371.0      ...       20371.000000  20371.000000\n",
       "mean       2.0      0.0      ...           0.796966      0.811939\n",
       "std        0.0      0.0      ...           0.402267      0.390771\n",
       "min        2.0      0.0      ...           0.000000      0.000000\n",
       "25%        2.0      0.0      ...           1.000000      1.000000\n",
       "50%        2.0      0.0      ...           1.000000      1.000000\n",
       "75%        2.0      0.0      ...           1.000000      1.000000\n",
       "max        2.0      0.0      ...           1.000000      1.000000\n",
       "\n",
       "[8 rows x 10 columns]"
      ]
     },
     "execution_count": 48,
     "metadata": {},
     "output_type": "execute_result"
    }
   ],
   "source": [
    "# separating clusters\n",
    "df_male_c2 = df_male[df_male[\"Cluster\"] == 2]\n",
    "df_male_c3 = df_male[df_male[\"Cluster\"] == 3]\n",
    "\n",
    "\n",
    "df_male_c2.describe()"
   ]
  },
  {
   "cell_type": "code",
   "execution_count": 49,
   "metadata": {
    "execution": {
     "iopub.execute_input": "2022-03-17T20:00:47.670333Z",
     "iopub.status.busy": "2022-03-17T20:00:47.670081Z",
     "iopub.status.idle": "2022-03-17T20:00:49.152855Z",
     "shell.execute_reply": "2022-03-17T20:00:49.151656Z",
     "shell.execute_reply.started": "2022-03-17T20:00:47.670290Z"
    }
   },
   "outputs": [
    {
     "data": {
      "image/png": "[encoded data removed]",
      "text/plain": [
       "<Figure size 1440x360 with 8 Axes>"
      ]
     },
     "metadata": {},
     "output_type": "display_data"
    }
   ],
   "source": [
    "# for df_male_c2\n",
    "f, axs = plt.subplots(2,4,figsize = (20,5))\n",
    "sns.countplot(x=df_male_c2['age_bin'],hue=df_male_c2['cardio'],ax=axs[0,0],palette='rainbow')\n",
    "sns.countplot(x=df_male_c2['BMI_Class'],order=df_male_c2['BMI_Class'].value_counts().index,hue=df_male_c2['cardio'],ax=axs[0,1],palette='rainbow')\n",
    "sns.countplot(x=df_male_c2['MAP_Class'],order=df_male_c2['MAP_Class'].value_counts().index,hue=df_male_c2['cardio'],ax=axs[0,2],palette='rainbow')\n",
    "sns.countplot(x=df_male_c2['cholesterol'],order=df_male_c2['cholesterol'].value_counts().index,hue=df_male_c2['cardio'],ax=axs[0,3],palette='rainbow')\n",
    "sns.countplot(x=df_male_c2['gluc'],order=df_male_c2['gluc'].value_counts().index,hue=df_male_c2['cardio'],ax=axs[1,0],palette='rainbow')\n",
    "sns.countplot(x=df_male_c2['smoke'],order=df_male_c2['smoke'].value_counts().index,hue=df_male_c2['cardio'],ax=axs[1,1],palette='rainbow')\n",
    "sns.countplot(x=df_male_c2['active'],order=df_male_c2['active'].value_counts().index,hue=df_male_c2['cardio'],ax=axs[1,2],palette='rainbow')\n",
    "sns.countplot(x=df_male_c2['cardio'],order=df_male_c2['cardio'].value_counts().index,ax=axs[1,3],palette='rainbow')\n",
    "\n",
    "plt.tight_layout()\n",
    "plt.show()"
   ]
  },
  {
   "cell_type": "code",
   "execution_count": 50,
   "metadata": {
    "execution": {
     "iopub.execute_input": "2022-03-17T20:00:49.154798Z",
     "iopub.status.busy": "2022-03-17T20:00:49.154414Z",
     "iopub.status.idle": "2022-03-17T20:00:50.456754Z",
     "shell.execute_reply": "2022-03-17T20:00:50.455771Z",
     "shell.execute_reply.started": "2022-03-17T20:00:49.154728Z"
    }
   },
   "outputs": [
    {
     "data": {
      "image/png": "[encoded data removed]",
      "text/plain": [
       "<Figure size 1440x360 with 8 Axes>"
      ]
     },
     "metadata": {},
     "output_type": "display_data"
    }
   ],
   "source": [
    "# for df_male_c3\n",
    "f, axs = plt.subplots(2,4,figsize = (20,5))\n",
    "sns.countplot(x=df_male_c3['age_bin'],hue=df_male_c3['cardio'],ax=axs[0,0],palette='rainbow')\n",
    "sns.countplot(x=df_male_c3['BMI_Class'],order=df_male_c3['BMI_Class'].value_counts().index,hue=df_male_c3['cardio'],ax=axs[0,1],palette='rainbow')\n",
    "sns.countplot(x=df_male_c3['MAP_Class'],order=df_male_c3['MAP_Class'].value_counts().index,hue=df_male_c3['cardio'],ax=axs[0,2],palette='rainbow')\n",
    "sns.countplot(x=df_male_c3['cholesterol'],order=df_male_c3['cholesterol'].value_counts().index,hue=df_male_c3['cardio'],ax=axs[0,3],palette='rainbow')\n",
    "sns.countplot(x=df_male_c3['gluc'],order=df_male_c3['gluc'].value_counts().index,hue=df_male_c3['cardio'],ax=axs[1,0],palette='rainbow')\n",
    "sns.countplot(x=df_male_c3['smoke'],order=df_male_c3['smoke'].value_counts().index,hue=df_male_c3['cardio'],ax=axs[1,1],palette='rainbow')\n",
    "sns.countplot(x=df_male_c3['active'],order=df_male_c3['active'].value_counts().index,hue=df_male_c3['cardio'],ax=axs[1,2],palette='rainbow')\n",
    "sns.countplot(x=df_male_c3['cardio'],order=df_male_c3['cardio'].value_counts().index,ax=axs[1,3],palette='rainbow')\n",
    "\n",
    "plt.tight_layout()\n",
    "plt.show()"
   ]
  },
  {
   "cell_type": "markdown",
   "metadata": {},
   "source": [
    "## 3.1 Dataframes from  Clusters Results"
   ]
  },
  {
   "cell_type": "code",
   "execution_count": 51,
   "metadata": {
    "execution": {
     "iopub.execute_input": "2022-03-17T20:00:50.458702Z",
     "iopub.status.busy": "2022-03-17T20:00:50.458169Z",
     "iopub.status.idle": "2022-03-17T20:00:50.465988Z",
     "shell.execute_reply": "2022-03-17T20:00:50.465002Z",
     "shell.execute_reply.started": "2022-03-17T20:00:50.458637Z"
    }
   },
   "outputs": [
    {
     "data": {
      "text/plain": [
       "['Cluster',\n",
       " 'gender',\n",
       " 'age_bin',\n",
       " 'BMI_Class',\n",
       " 'MAP_Class',\n",
       " 'cholesterol',\n",
       " 'gluc',\n",
       " 'smoke',\n",
       " 'active',\n",
       " 'cardio']"
      ]
     },
     "execution_count": 51,
     "metadata": {},
     "output_type": "execute_result"
    }
   ],
   "source": [
    "#list of columns\n",
    "my_list = df_clusters.columns.values.tolist()\n",
    "my_list"
   ]
  },
  {
   "cell_type": "code",
   "execution_count": 52,
   "metadata": {
    "execution": {
     "iopub.execute_input": "2022-03-17T20:00:50.468446Z",
     "iopub.status.busy": "2022-03-17T20:00:50.467803Z",
     "iopub.status.idle": "2022-03-17T20:00:50.477158Z",
     "shell.execute_reply": "2022-03-17T20:00:50.476093Z",
     "shell.execute_reply.started": "2022-03-17T20:00:50.468380Z"
    }
   },
   "outputs": [],
   "source": [
    "# function to calc % in column\n",
    "def function(dataframe,valor):\n",
    "    my_list = dataframe.columns.values.tolist()\n",
    "    for x in my_list[2:]:\n",
    "        for y in range(valor):\n",
    "            percentages = round(((dataframe[x]== y) & (dataframe['cardio']== 1)).sum()/ (dataframe[x]== y).sum()* 100, 2)\n",
    "            print(percentages)"
   ]
  },
  {
   "cell_type": "code",
   "execution_count": 53,
   "metadata": {
    "execution": {
     "iopub.execute_input": "2022-03-17T20:00:50.479836Z",
     "iopub.status.busy": "2022-03-17T20:00:50.479072Z",
     "iopub.status.idle": "2022-03-17T20:00:50.624486Z",
     "shell.execute_reply": "2022-03-17T20:00:50.623588Z",
     "shell.execute_reply.started": "2022-03-17T20:00:50.479769Z"
    }
   },
   "outputs": [
    {
     "name": "stdout",
     "output_type": "stream",
     "text": [
      "0.0\n",
      "3.88\n",
      "7.99\n",
      "9.82\n",
      "12.74\n",
      "19.22\n",
      "29.0\n",
      "nan\n",
      "0.0\n",
      "25.0\n",
      "0.0\n",
      "0.0\n",
      "0.0\n",
      "0.0\n",
      "nan\n",
      "nan\n",
      "0.0\n",
      "0.0\n",
      "18.58\n",
      "0.0\n",
      "0.0\n",
      "0.0\n",
      "nan\n",
      "nan\n",
      "13.35\n",
      "12.81\n",
      "29.98\n",
      "nan\n",
      "nan\n",
      "nan\n",
      "nan\n",
      "nan\n",
      "13.78\n",
      "12.49\n",
      "22.99\n",
      "nan\n",
      "nan\n",
      "nan\n",
      "nan\n",
      "nan\n",
      "14.38\n",
      "7.22\n",
      "nan\n",
      "nan\n",
      "nan\n",
      "nan\n",
      "nan\n",
      "nan\n",
      "17.25\n",
      "13.55\n",
      "nan\n",
      "nan\n",
      "nan\n",
      "nan\n",
      "nan\n",
      "nan\n",
      "0.0\n",
      "100.0\n",
      "nan\n",
      "nan\n",
      "nan\n",
      "nan\n",
      "nan\n",
      "nan\n"
     ]
    }
   ],
   "source": [
    "# applying the function\n",
    "# there must be a better way to do that though...\n",
    "function(df_male_c3,8)"
   ]
  },
  {
   "cell_type": "code",
   "execution_count": 54,
   "metadata": {
    "execution": {
     "iopub.execute_input": "2022-03-17T20:00:50.625975Z",
     "iopub.status.busy": "2022-03-17T20:00:50.625736Z",
     "iopub.status.idle": "2022-03-17T20:00:50.681630Z",
     "shell.execute_reply": "2022-03-17T20:00:50.680671Z",
     "shell.execute_reply.started": "2022-03-17T20:00:50.625933Z"
    }
   },
   "outputs": [],
   "source": [
    "# dictionary with list object in values\n",
    "# placed by hand...\n",
    "details = {\n",
    "    'age_bin_0':[0.0, 0.0, 0.0, 0.0],\n",
    "    'age_bin_1':[7.62, 92.44, 8.48, 100.0],\n",
    "    'age_bin_2':[12.94, 92.46, 13.73, 100.0],\n",
    "    'age_bin_3':[19.73, 92.21, 16.17, 100.0],\n",
    "    'age_bin_4':[36.29, 100.0, 34.82, 100.0],\n",
    "    'age_bin_5':[16.6, 84.63, 0.0, 76.59],\n",
    "    'age_bin_6':[38.56, 93.29, 38.23, 100.0],\n",
    "    \n",
    "    'BMI_Class_0':[12.07, 100.0, 9.76, 100.0],\n",
    "    'BMI_Class_1':[31.1, 100.0, 30.77, 100.0],\n",
    "    'BMI_Class_2':[8.8, 86.34, 0.0, 78.11],\n",
    "    'BMI_Class_3':[32.73, 94.86, 22.18, 100.0],\n",
    "    'BMI_Class_4':[37.62, 94.29, 27.91, 100.0],\n",
    "    'BMI_Class_5':[66.67, 100.0, 31.54, 100.0],\n",
    "    \n",
    "    'MAP_Class_0':[12.55, 85.71, 10.2, 70.29],\n",
    "    'MAP_Class_1':[11.94, 75.34, 10.1, 75.49],\n",
    "    'MAP_Class_2':[25.28, 100.0, 17.03, 82.55],\n",
    "    'MAP_Class_3':[19.89, 85.49, 46.41, 94.35],\n",
    "    'MAP_Class_4':[60.13, 97.42, 59.48, 97.17],\n",
    "    'MAP_Class_5':[61.4, 95.04, 58.67, 97.95],\n",
    "    \n",
    "    'cholesterol_0':[22.06, 89.16, 18.84, 85.04],\n",
    "    'cholesterol_1':[29.81, 92.4, 26.92, 90.33],\n",
    "    'cholesterol_2':[48.41, 92.0, 44.38, 95.2],\n",
    "    \n",
    "    'gluc_0' : [23.69, 90.18, 20.78, 86.95],\n",
    "    'gluc_1' : [28.45, 90.39, 24.72, 90.59],\n",
    "    'gluc_2' : [31.87, 89.4, 31.12, 91.51],\n",
    "    \n",
    "    'smoke_0' : [25.93, 90.48, 21.73, 87.7],\n",
    "    'smoke_1' : [18.9, 88.86, 19.49, 88.43],\n",
    "    \n",
    "    'active_0' : [29.93, 91.7, 24.19, 88.99],\n",
    "    'active_1' : [23.16, 89.73, 21.1, 87.38],\n",
    "}\n",
    "\n"
   ]
  },
  {
   "cell_type": "code",
   "execution_count": 55,
   "metadata": {
    "execution": {
     "iopub.execute_input": "2022-03-17T20:00:50.683441Z",
     "iopub.status.busy": "2022-03-17T20:00:50.683107Z",
     "iopub.status.idle": "2022-03-17T20:00:50.762069Z",
     "shell.execute_reply": "2022-03-17T20:00:50.761310Z",
     "shell.execute_reply.started": "2022-03-17T20:00:50.683382Z"
    }
   },
   "outputs": [
    {
     "data": {
      "text/html": [
       "<div>\n",
       "<style scoped>\n",
       "    .dataframe tbody tr th:only-of-type {\n",
       "        vertical-align: middle;\n",
       "    }\n",
       "\n",
       "    .dataframe tbody tr th {\n",
       "        vertical-align: top;\n",
       "    }\n",
       "\n",
       "    .dataframe thead th {\n",
       "        text-align: right;\n",
       "    }\n",
       "</style>\n",
       "<table border=\"1\" class=\"dataframe\">\n",
       "  <thead>\n",
       "    <tr style=\"text-align: right;\">\n",
       "      <th></th>\n",
       "      <th>age_bin_0</th>\n",
       "      <th>age_bin_1</th>\n",
       "      <th>age_bin_2</th>\n",
       "      <th>age_bin_3</th>\n",
       "      <th>age_bin_4</th>\n",
       "      <th>age_bin_5</th>\n",
       "      <th>age_bin_6</th>\n",
       "      <th>BMI_Class_0</th>\n",
       "      <th>BMI_Class_1</th>\n",
       "      <th>BMI_Class_2</th>\n",
       "      <th>BMI_Class_3</th>\n",
       "      <th>BMI_Class_4</th>\n",
       "      <th>BMI_Class_5</th>\n",
       "      <th>MAP_Class_0</th>\n",
       "      <th>MAP_Class_1</th>\n",
       "      <th>MAP_Class_2</th>\n",
       "      <th>MAP_Class_3</th>\n",
       "      <th>MAP_Class_4</th>\n",
       "      <th>MAP_Class_5</th>\n",
       "      <th>cholesterol_0</th>\n",
       "      <th>cholesterol_1</th>\n",
       "      <th>cholesterol_2</th>\n",
       "      <th>gluc_0</th>\n",
       "      <th>gluc_1</th>\n",
       "      <th>gluc_2</th>\n",
       "      <th>smoke_0</th>\n",
       "      <th>smoke_1</th>\n",
       "      <th>active_0</th>\n",
       "      <th>active_1</th>\n",
       "    </tr>\n",
       "  </thead>\n",
       "  <tbody>\n",
       "    <tr>\n",
       "      <th>Cluster 0</th>\n",
       "      <td>0.0</td>\n",
       "      <td>7.62</td>\n",
       "      <td>12.94</td>\n",
       "      <td>19.73</td>\n",
       "      <td>36.29</td>\n",
       "      <td>16.60</td>\n",
       "      <td>38.56</td>\n",
       "      <td>12.07</td>\n",
       "      <td>31.10</td>\n",
       "      <td>8.80</td>\n",
       "      <td>32.73</td>\n",
       "      <td>37.62</td>\n",
       "      <td>66.67</td>\n",
       "      <td>12.55</td>\n",
       "      <td>11.94</td>\n",
       "      <td>25.28</td>\n",
       "      <td>19.89</td>\n",
       "      <td>60.13</td>\n",
       "      <td>61.40</td>\n",
       "      <td>22.06</td>\n",
       "      <td>29.81</td>\n",
       "      <td>48.41</td>\n",
       "      <td>23.69</td>\n",
       "      <td>28.45</td>\n",
       "      <td>31.87</td>\n",
       "      <td>25.93</td>\n",
       "      <td>18.90</td>\n",
       "      <td>29.93</td>\n",
       "      <td>23.16</td>\n",
       "    </tr>\n",
       "    <tr>\n",
       "      <th>Cluster 1</th>\n",
       "      <td>0.0</td>\n",
       "      <td>92.44</td>\n",
       "      <td>92.46</td>\n",
       "      <td>92.21</td>\n",
       "      <td>100.00</td>\n",
       "      <td>84.63</td>\n",
       "      <td>93.29</td>\n",
       "      <td>100.00</td>\n",
       "      <td>100.00</td>\n",
       "      <td>86.34</td>\n",
       "      <td>94.86</td>\n",
       "      <td>94.29</td>\n",
       "      <td>100.00</td>\n",
       "      <td>85.71</td>\n",
       "      <td>75.34</td>\n",
       "      <td>100.00</td>\n",
       "      <td>85.49</td>\n",
       "      <td>97.42</td>\n",
       "      <td>95.04</td>\n",
       "      <td>89.16</td>\n",
       "      <td>92.40</td>\n",
       "      <td>92.00</td>\n",
       "      <td>90.18</td>\n",
       "      <td>90.39</td>\n",
       "      <td>89.40</td>\n",
       "      <td>90.48</td>\n",
       "      <td>88.86</td>\n",
       "      <td>91.70</td>\n",
       "      <td>89.73</td>\n",
       "    </tr>\n",
       "    <tr>\n",
       "      <th>Cluster 2</th>\n",
       "      <td>0.0</td>\n",
       "      <td>8.48</td>\n",
       "      <td>13.73</td>\n",
       "      <td>16.17</td>\n",
       "      <td>34.82</td>\n",
       "      <td>0.00</td>\n",
       "      <td>38.23</td>\n",
       "      <td>9.76</td>\n",
       "      <td>30.77</td>\n",
       "      <td>0.00</td>\n",
       "      <td>22.18</td>\n",
       "      <td>27.91</td>\n",
       "      <td>31.54</td>\n",
       "      <td>10.20</td>\n",
       "      <td>10.10</td>\n",
       "      <td>17.03</td>\n",
       "      <td>46.41</td>\n",
       "      <td>59.48</td>\n",
       "      <td>58.67</td>\n",
       "      <td>18.84</td>\n",
       "      <td>26.92</td>\n",
       "      <td>44.38</td>\n",
       "      <td>20.78</td>\n",
       "      <td>24.72</td>\n",
       "      <td>31.12</td>\n",
       "      <td>21.73</td>\n",
       "      <td>19.49</td>\n",
       "      <td>24.19</td>\n",
       "      <td>21.10</td>\n",
       "    </tr>\n",
       "    <tr>\n",
       "      <th>Cluster 3</th>\n",
       "      <td>0.0</td>\n",
       "      <td>100.00</td>\n",
       "      <td>100.00</td>\n",
       "      <td>100.00</td>\n",
       "      <td>100.00</td>\n",
       "      <td>76.59</td>\n",
       "      <td>100.00</td>\n",
       "      <td>100.00</td>\n",
       "      <td>100.00</td>\n",
       "      <td>78.11</td>\n",
       "      <td>100.00</td>\n",
       "      <td>100.00</td>\n",
       "      <td>100.00</td>\n",
       "      <td>70.29</td>\n",
       "      <td>75.49</td>\n",
       "      <td>82.55</td>\n",
       "      <td>94.35</td>\n",
       "      <td>97.17</td>\n",
       "      <td>97.95</td>\n",
       "      <td>85.04</td>\n",
       "      <td>90.33</td>\n",
       "      <td>95.20</td>\n",
       "      <td>86.95</td>\n",
       "      <td>90.59</td>\n",
       "      <td>91.51</td>\n",
       "      <td>87.70</td>\n",
       "      <td>88.43</td>\n",
       "      <td>88.99</td>\n",
       "      <td>87.38</td>\n",
       "    </tr>\n",
       "  </tbody>\n",
       "</table>\n",
       "</div>"
      ],
      "text/plain": [
       "           age_bin_0  age_bin_1    ...     active_0  active_1\n",
       "Cluster 0        0.0       7.62    ...        29.93     23.16\n",
       "Cluster 1        0.0      92.44    ...        91.70     89.73\n",
       "Cluster 2        0.0       8.48    ...        24.19     21.10\n",
       "Cluster 3        0.0     100.00    ...        88.99     87.38\n",
       "\n",
       "[4 rows x 29 columns]"
      ]
     },
     "execution_count": 55,
     "metadata": {},
     "output_type": "execute_result"
    }
   ],
   "source": [
    "# creating a Dataframe object from dictionary \n",
    "# with custom indexing\n",
    "df_pc = pd.DataFrame(details, index = ['Cluster 0','Cluster 1','Cluster 2','Cluster 3'])\n",
    "df_pc.head()\n"
   ]
  },
  {
   "cell_type": "code",
   "execution_count": 56,
   "metadata": {
    "execution": {
     "iopub.execute_input": "2022-03-17T20:00:50.763774Z",
     "iopub.status.busy": "2022-03-17T20:00:50.763382Z",
     "iopub.status.idle": "2022-03-17T20:00:50.771888Z",
     "shell.execute_reply": "2022-03-17T20:00:50.771077Z",
     "shell.execute_reply.started": "2022-03-17T20:00:50.763710Z"
    }
   },
   "outputs": [],
   "source": [
    "# creating separate dfs\n",
    "df_agebins = df_pc.loc[:,\"age_bin_0\":\"age_bin_6\"]\n",
    "df_bmi = df_pc.loc[:,\"BMI_Class_0\":\"BMI_Class_5\"]\n",
    "df_map = df_pc.loc[:,\"MAP_Class_0\":\"MAP_Class_5\"]\n",
    "df_chol = df_pc.loc[:,\"cholesterol_0\":\"cholesterol_2\"]\n",
    "df_gluc = df_pc.loc[:,\"gluc_0\":\"gluc_2\"]\n",
    "df_smokers = df_pc.loc[:,\"smoke_0\":\"smoke_1\"]\n",
    "df_actives = df_pc.loc[:,\"active_0\":\"active_1\"]\n"
   ]
  },
  {
   "cell_type": "markdown",
   "metadata": {},
   "source": [
    "## 4.1 Plotting Clusters"
   ]
  },
  {
   "cell_type": "markdown",
   "metadata": {},
   "source": [
    "## 4.1.2 Age Bins"
   ]
  },
  {
   "cell_type": "code",
   "execution_count": 57,
   "metadata": {
    "execution": {
     "iopub.execute_input": "2022-03-17T20:00:50.774127Z",
     "iopub.status.busy": "2022-03-17T20:00:50.773451Z",
     "iopub.status.idle": "2022-03-17T20:00:50.807348Z",
     "shell.execute_reply": "2022-03-17T20:00:50.806610Z",
     "shell.execute_reply.started": "2022-03-17T20:00:50.774075Z"
    }
   },
   "outputs": [
    {
     "data": {
      "text/html": [
       "<div>\n",
       "<style scoped>\n",
       "    .dataframe tbody tr th:only-of-type {\n",
       "        vertical-align: middle;\n",
       "    }\n",
       "\n",
       "    .dataframe tbody tr th {\n",
       "        vertical-align: top;\n",
       "    }\n",
       "\n",
       "    .dataframe thead th {\n",
       "        text-align: right;\n",
       "    }\n",
       "</style>\n",
       "<table border=\"1\" class=\"dataframe\">\n",
       "  <thead>\n",
       "    <tr style=\"text-align: right;\">\n",
       "      <th></th>\n",
       "      <th>age_bin_0</th>\n",
       "      <th>age_bin_1</th>\n",
       "      <th>age_bin_2</th>\n",
       "      <th>age_bin_3</th>\n",
       "      <th>age_bin_4</th>\n",
       "      <th>age_bin_5</th>\n",
       "      <th>age_bin_6</th>\n",
       "    </tr>\n",
       "  </thead>\n",
       "  <tbody>\n",
       "    <tr>\n",
       "      <th>Cluster 0</th>\n",
       "      <td>0.0</td>\n",
       "      <td>7.62</td>\n",
       "      <td>12.94</td>\n",
       "      <td>19.73</td>\n",
       "      <td>36.29</td>\n",
       "      <td>16.60</td>\n",
       "      <td>38.56</td>\n",
       "    </tr>\n",
       "    <tr>\n",
       "      <th>Cluster 1</th>\n",
       "      <td>0.0</td>\n",
       "      <td>92.44</td>\n",
       "      <td>92.46</td>\n",
       "      <td>92.21</td>\n",
       "      <td>100.00</td>\n",
       "      <td>84.63</td>\n",
       "      <td>93.29</td>\n",
       "    </tr>\n",
       "    <tr>\n",
       "      <th>Cluster 2</th>\n",
       "      <td>0.0</td>\n",
       "      <td>8.48</td>\n",
       "      <td>13.73</td>\n",
       "      <td>16.17</td>\n",
       "      <td>34.82</td>\n",
       "      <td>0.00</td>\n",
       "      <td>38.23</td>\n",
       "    </tr>\n",
       "    <tr>\n",
       "      <th>Cluster 3</th>\n",
       "      <td>0.0</td>\n",
       "      <td>100.00</td>\n",
       "      <td>100.00</td>\n",
       "      <td>100.00</td>\n",
       "      <td>100.00</td>\n",
       "      <td>76.59</td>\n",
       "      <td>100.00</td>\n",
       "    </tr>\n",
       "  </tbody>\n",
       "</table>\n",
       "</div>"
      ],
      "text/plain": [
       "           age_bin_0  age_bin_1    ...      age_bin_5  age_bin_6\n",
       "Cluster 0        0.0       7.62    ...          16.60      38.56\n",
       "Cluster 1        0.0      92.44    ...          84.63      93.29\n",
       "Cluster 2        0.0       8.48    ...           0.00      38.23\n",
       "Cluster 3        0.0     100.00    ...          76.59     100.00\n",
       "\n",
       "[4 rows x 7 columns]"
      ]
     },
     "execution_count": 57,
     "metadata": {},
     "output_type": "execute_result"
    }
   ],
   "source": [
    "df_agebins.head()"
   ]
  },
  {
   "cell_type": "code",
   "execution_count": 58,
   "metadata": {
    "execution": {
     "iopub.execute_input": "2022-03-17T20:00:50.808915Z",
     "iopub.status.busy": "2022-03-17T20:00:50.808459Z",
     "iopub.status.idle": "2022-03-17T20:00:51.165878Z",
     "shell.execute_reply": "2022-03-17T20:00:51.164741Z",
     "shell.execute_reply.started": "2022-03-17T20:00:50.808852Z"
    }
   },
   "outputs": [
    {
     "data": {
      "image/png": "[encoded data removed]",
      "text/plain": [
       "<Figure size 864x576 with 1 Axes>"
      ]
     },
     "metadata": {},
     "output_type": "display_data"
    }
   ],
   "source": [
    "# set width of bar\n",
    "barWidth = 0.10\n",
    "fig = plt.subplots(figsize =(12, 8))\n",
    " \n",
    "# set height of bar\n",
    "age_bin_0 = df_agebins['age_bin_0']\n",
    "age_bin_1 = df_agebins['age_bin_1']\n",
    "age_bin_2 = df_agebins['age_bin_2']\n",
    "age_bin_3 = df_agebins['age_bin_3']\n",
    "age_bin_4 = df_agebins['age_bin_4']\n",
    "age_bin_5 = df_agebins['age_bin_5']\n",
    "age_bin_6 = df_agebins['age_bin_6']\n",
    " \n",
    "# Set position of bar on X axis\n",
    "br1 = np.arange(len(age_bin_0))\n",
    "br2 = [x + barWidth for x in br1]\n",
    "br3 = [x + barWidth for x in br2]\n",
    "br4 = [x + barWidth for x in br3]\n",
    "br5 = [x + barWidth for x in br4]\n",
    "br6 = [x + barWidth for x in br5]\n",
    "br7 = [x + barWidth for x in br6]\n",
    "\n",
    "\n",
    " # Make the plot\n",
    "plt.bar(br1, age_bin_0, color ='red', width = barWidth,edgecolor ='grey', label ='age_bin_0')\n",
    "plt.bar(br2, age_bin_1, color ='orange', width = barWidth,edgecolor ='grey', label ='age_bin_1')\n",
    "plt.bar(br3, age_bin_2, color ='yellow', width = barWidth,edgecolor ='grey', label ='age_bin_2')\n",
    "plt.bar(br4, age_bin_3, color ='palegreen', width = barWidth,edgecolor ='grey', label ='age_bin_3')\n",
    "plt.bar(br5, age_bin_4, color ='limegreen', width = barWidth,edgecolor ='grey', label ='age_bin_4')\n",
    "plt.bar(br6, age_bin_5, color ='aqua', width = barWidth,edgecolor ='grey', label ='age_bin_5')\n",
    "plt.bar(br7, age_bin_6, color ='deepskyblue', width = barWidth,edgecolor ='grey', label ='age_bin_6')\n",
    "\n",
    " \n",
    "# Adding Xticks\n",
    "plt.xlabel('Age Bins', fontweight ='bold', fontsize = 15)\n",
    "plt.ylabel('Percentages', fontweight ='bold', fontsize = 15)\n",
    "plt.xticks([r + barWidth for r in range(len(age_bin_0))],\n",
    "        ['Cluster 0', 'Cluster 1', 'Cluster 2', 'Cluster 3'])\n",
    " \n",
    "plt.legend()\n",
    "plt.show()"
   ]
  },
  {
   "cell_type": "markdown",
   "metadata": {},
   "source": [
    "<div style=\"color:white;\n",
    "           display:fill;\n",
    "           border-radius:5px;\n",
    "           background-color:#2792a5;\n",
    "           font-size:110%;\n",
    "           font-family:Verdana;\n",
    "           letter-spacing:0.5px\">\n",
    "    <p style=\"padding: 10px;\n",
    "              color:white;\"> Age bin 5 = \"45-50\" years tends to have less CVD\n",
    "</p></div>"
   ]
  },
  {
   "cell_type": "markdown",
   "metadata": {},
   "source": [
    "## 4.1.2 Body Mass Indexes"
   ]
  },
  {
   "cell_type": "code",
   "execution_count": 59,
   "metadata": {
    "execution": {
     "iopub.execute_input": "2022-03-17T20:00:51.168589Z",
     "iopub.status.busy": "2022-03-17T20:00:51.167905Z",
     "iopub.status.idle": "2022-03-17T20:00:51.194248Z",
     "shell.execute_reply": "2022-03-17T20:00:51.193194Z",
     "shell.execute_reply.started": "2022-03-17T20:00:51.168497Z"
    }
   },
   "outputs": [
    {
     "data": {
      "text/html": [
       "<div>\n",
       "<style scoped>\n",
       "    .dataframe tbody tr th:only-of-type {\n",
       "        vertical-align: middle;\n",
       "    }\n",
       "\n",
       "    .dataframe tbody tr th {\n",
       "        vertical-align: top;\n",
       "    }\n",
       "\n",
       "    .dataframe thead th {\n",
       "        text-align: right;\n",
       "    }\n",
       "</style>\n",
       "<table border=\"1\" class=\"dataframe\">\n",
       "  <thead>\n",
       "    <tr style=\"text-align: right;\">\n",
       "      <th></th>\n",
       "      <th>BMI_Class_0</th>\n",
       "      <th>BMI_Class_1</th>\n",
       "      <th>BMI_Class_2</th>\n",
       "      <th>BMI_Class_3</th>\n",
       "      <th>BMI_Class_4</th>\n",
       "      <th>BMI_Class_5</th>\n",
       "    </tr>\n",
       "  </thead>\n",
       "  <tbody>\n",
       "    <tr>\n",
       "      <th>Cluster 0</th>\n",
       "      <td>12.07</td>\n",
       "      <td>31.10</td>\n",
       "      <td>8.80</td>\n",
       "      <td>32.73</td>\n",
       "      <td>37.62</td>\n",
       "      <td>66.67</td>\n",
       "    </tr>\n",
       "    <tr>\n",
       "      <th>Cluster 1</th>\n",
       "      <td>100.00</td>\n",
       "      <td>100.00</td>\n",
       "      <td>86.34</td>\n",
       "      <td>94.86</td>\n",
       "      <td>94.29</td>\n",
       "      <td>100.00</td>\n",
       "    </tr>\n",
       "    <tr>\n",
       "      <th>Cluster 2</th>\n",
       "      <td>9.76</td>\n",
       "      <td>30.77</td>\n",
       "      <td>0.00</td>\n",
       "      <td>22.18</td>\n",
       "      <td>27.91</td>\n",
       "      <td>31.54</td>\n",
       "    </tr>\n",
       "    <tr>\n",
       "      <th>Cluster 3</th>\n",
       "      <td>100.00</td>\n",
       "      <td>100.00</td>\n",
       "      <td>78.11</td>\n",
       "      <td>100.00</td>\n",
       "      <td>100.00</td>\n",
       "      <td>100.00</td>\n",
       "    </tr>\n",
       "  </tbody>\n",
       "</table>\n",
       "</div>"
      ],
      "text/plain": [
       "           BMI_Class_0  BMI_Class_1     ...       BMI_Class_4  BMI_Class_5\n",
       "Cluster 0        12.07        31.10     ...             37.62        66.67\n",
       "Cluster 1       100.00       100.00     ...             94.29       100.00\n",
       "Cluster 2         9.76        30.77     ...             27.91        31.54\n",
       "Cluster 3       100.00       100.00     ...            100.00       100.00\n",
       "\n",
       "[4 rows x 6 columns]"
      ]
     },
     "execution_count": 59,
     "metadata": {},
     "output_type": "execute_result"
    }
   ],
   "source": [
    "df_bmi.head()"
   ]
  },
  {
   "cell_type": "code",
   "execution_count": 60,
   "metadata": {
    "execution": {
     "iopub.execute_input": "2022-03-17T20:00:51.195810Z",
     "iopub.status.busy": "2022-03-17T20:00:51.195527Z",
     "iopub.status.idle": "2022-03-17T20:00:51.615530Z",
     "shell.execute_reply": "2022-03-17T20:00:51.614734Z",
     "shell.execute_reply.started": "2022-03-17T20:00:51.195757Z"
    }
   },
   "outputs": [
    {
     "data": {
      "image/png": "[encoded data removed]",
      "text/plain": [
       "<Figure size 864x576 with 1 Axes>"
      ]
     },
     "metadata": {},
     "output_type": "display_data"
    }
   ],
   "source": [
    "# set width of bar\n",
    "barWidth = 0.10\n",
    "fig = plt.subplots(figsize =(12, 8))\n",
    " \n",
    "# set height of bar\n",
    "BMI_Class_0 = df_bmi['BMI_Class_0']\n",
    "BMI_Class_1 = df_bmi['BMI_Class_1']\n",
    "BMI_Class_2 = df_bmi['BMI_Class_2']\n",
    "BMI_Class_3 = df_bmi['BMI_Class_3']\n",
    "BMI_Class_4 = df_bmi['BMI_Class_4']\n",
    "BMI_Class_5 = df_bmi['BMI_Class_5']\n",
    "\n",
    " # Set position of bar on X axis\n",
    "br1 = np.arange(len(BMI_Class_0))\n",
    "br2 = [x + barWidth for x in br1]\n",
    "br3 = [x + barWidth for x in br2]\n",
    "br4 = [x + barWidth for x in br3]\n",
    "br5 = [x + barWidth for x in br4]\n",
    "br6 = [x + barWidth for x in br5]\n",
    "\n",
    "\n",
    "# Make the plot\n",
    "plt.bar(br1, BMI_Class_0, color ='red', width = barWidth,edgecolor ='grey', label ='BMI_Class_0')\n",
    "plt.bar(br2, BMI_Class_1, color ='orange', width = barWidth,edgecolor ='grey', label ='BMI_Class_1')\n",
    "plt.bar(br3, BMI_Class_2, color ='yellow', width = barWidth,edgecolor ='grey', label ='BMI_Class_2')\n",
    "plt.bar(br4, BMI_Class_3, color ='palegreen', width = barWidth,edgecolor ='grey', label ='BMI_Class_3')\n",
    "plt.bar(br5, BMI_Class_4, color ='limegreen', width = barWidth,edgecolor ='grey', label ='BMI_Class_4')\n",
    "plt.bar(br6, BMI_Class_5, color ='aqua', width = barWidth,edgecolor ='grey', label ='BMI_Class_5')\n",
    "\n",
    " # Adding Xticks\n",
    "plt.xlabel('Body Mass Indexes', fontweight ='bold', fontsize = 15)\n",
    "plt.ylabel('Percentages', fontweight ='bold', fontsize = 15)\n",
    "plt.xticks([r + barWidth for r in range(len(BMI_Class_0))],\n",
    "        ['Cluster 0', 'Cluster 1', 'Cluster 2', 'Cluster 3'])\n",
    " \n",
    "plt.legend()\n",
    "plt.show()"
   ]
  },
  {
   "cell_type": "markdown",
   "metadata": {},
   "source": [
    "<div style=\"color:white;\n",
    "           display:fill;\n",
    "           border-radius:5px;\n",
    "           background-color:#2792a5;\n",
    "           font-size:110%;\n",
    "           font-family:Verdana;\n",
    "           letter-spacing:0.5px\">\n",
    "    <p style=\"padding: 10px;\n",
    "              color:white;\"> BMI Class 2 = Overweight tends to have less CVD\n",
    "</p></div>"
   ]
  },
  {
   "cell_type": "markdown",
   "metadata": {},
   "source": [
    "## 4.1.3 Mean Arterial Pressure"
   ]
  },
  {
   "cell_type": "code",
   "execution_count": 61,
   "metadata": {
    "execution": {
     "iopub.execute_input": "2022-03-17T20:00:51.617108Z",
     "iopub.status.busy": "2022-03-17T20:00:51.616844Z",
     "iopub.status.idle": "2022-03-17T20:00:51.640752Z",
     "shell.execute_reply": "2022-03-17T20:00:51.640029Z",
     "shell.execute_reply.started": "2022-03-17T20:00:51.617057Z"
    }
   },
   "outputs": [
    {
     "data": {
      "text/html": [
       "<div>\n",
       "<style scoped>\n",
       "    .dataframe tbody tr th:only-of-type {\n",
       "        vertical-align: middle;\n",
       "    }\n",
       "\n",
       "    .dataframe tbody tr th {\n",
       "        vertical-align: top;\n",
       "    }\n",
       "\n",
       "    .dataframe thead th {\n",
       "        text-align: right;\n",
       "    }\n",
       "</style>\n",
       "<table border=\"1\" class=\"dataframe\">\n",
       "  <thead>\n",
       "    <tr style=\"text-align: right;\">\n",
       "      <th></th>\n",
       "      <th>MAP_Class_0</th>\n",
       "      <th>MAP_Class_1</th>\n",
       "      <th>MAP_Class_2</th>\n",
       "      <th>MAP_Class_3</th>\n",
       "      <th>MAP_Class_4</th>\n",
       "      <th>MAP_Class_5</th>\n",
       "    </tr>\n",
       "  </thead>\n",
       "  <tbody>\n",
       "    <tr>\n",
       "      <th>Cluster 0</th>\n",
       "      <td>12.55</td>\n",
       "      <td>11.94</td>\n",
       "      <td>25.28</td>\n",
       "      <td>19.89</td>\n",
       "      <td>60.13</td>\n",
       "      <td>61.40</td>\n",
       "    </tr>\n",
       "    <tr>\n",
       "      <th>Cluster 1</th>\n",
       "      <td>85.71</td>\n",
       "      <td>75.34</td>\n",
       "      <td>100.00</td>\n",
       "      <td>85.49</td>\n",
       "      <td>97.42</td>\n",
       "      <td>95.04</td>\n",
       "    </tr>\n",
       "    <tr>\n",
       "      <th>Cluster 2</th>\n",
       "      <td>10.20</td>\n",
       "      <td>10.10</td>\n",
       "      <td>17.03</td>\n",
       "      <td>46.41</td>\n",
       "      <td>59.48</td>\n",
       "      <td>58.67</td>\n",
       "    </tr>\n",
       "    <tr>\n",
       "      <th>Cluster 3</th>\n",
       "      <td>70.29</td>\n",
       "      <td>75.49</td>\n",
       "      <td>82.55</td>\n",
       "      <td>94.35</td>\n",
       "      <td>97.17</td>\n",
       "      <td>97.95</td>\n",
       "    </tr>\n",
       "  </tbody>\n",
       "</table>\n",
       "</div>"
      ],
      "text/plain": [
       "           MAP_Class_0  MAP_Class_1     ...       MAP_Class_4  MAP_Class_5\n",
       "Cluster 0        12.55        11.94     ...             60.13        61.40\n",
       "Cluster 1        85.71        75.34     ...             97.42        95.04\n",
       "Cluster 2        10.20        10.10     ...             59.48        58.67\n",
       "Cluster 3        70.29        75.49     ...             97.17        97.95\n",
       "\n",
       "[4 rows x 6 columns]"
      ]
     },
     "execution_count": 61,
     "metadata": {},
     "output_type": "execute_result"
    }
   ],
   "source": [
    "df_map.head()"
   ]
  },
  {
   "cell_type": "code",
   "execution_count": 62,
   "metadata": {
    "execution": {
     "iopub.execute_input": "2022-03-17T20:00:51.642206Z",
     "iopub.status.busy": "2022-03-17T20:00:51.641830Z",
     "iopub.status.idle": "2022-03-17T20:00:52.076246Z",
     "shell.execute_reply": "2022-03-17T20:00:52.075479Z",
     "shell.execute_reply.started": "2022-03-17T20:00:51.642165Z"
    }
   },
   "outputs": [
    {
     "data": {
      "image/png": "[encoded data removed]",
      "text/plain": [
       "<Figure size 864x576 with 1 Axes>"
      ]
     },
     "metadata": {},
     "output_type": "display_data"
    }
   ],
   "source": [
    "# set width of bar\n",
    "barWidth = 0.10\n",
    "fig = plt.subplots(figsize =(12, 8))\n",
    " \n",
    "# set height of bar\n",
    "MAP_Class_0 = df_map['MAP_Class_0']\n",
    "MAP_Class_1 = df_map['MAP_Class_1']\n",
    "MAP_Class_2 = df_map['MAP_Class_2']\n",
    "MAP_Class_3 = df_map['MAP_Class_3']\n",
    "MAP_Class_4 = df_map['MAP_Class_4']\n",
    "MAP_Class_5 = df_map['MAP_Class_5']\n",
    "\n",
    " # Set position of bar on X axis\n",
    "br1 = np.arange(len(MAP_Class_0))\n",
    "br2 = [x + barWidth for x in br1]\n",
    "br3 = [x + barWidth for x in br2]\n",
    "br4 = [x + barWidth for x in br3]\n",
    "br5 = [x + barWidth for x in br4]\n",
    "br6 = [x + barWidth for x in br5]\n",
    "\n",
    "\n",
    "# Make the plot\n",
    "plt.bar(br1, MAP_Class_0, color ='red', width = barWidth,edgecolor ='grey', label ='MAP_Class_0')\n",
    "plt.bar(br2, MAP_Class_1, color ='orange', width = barWidth,edgecolor ='grey', label ='MAP_Class_1')\n",
    "plt.bar(br3, MAP_Class_2, color ='yellow', width = barWidth,edgecolor ='grey', label ='MAP_Class_2')\n",
    "plt.bar(br4, MAP_Class_3, color ='palegreen', width = barWidth,edgecolor ='grey', label ='MAP_Class_3')\n",
    "plt.bar(br5, MAP_Class_4, color ='limegreen', width = barWidth,edgecolor ='grey', label ='MAP_Class_4')\n",
    "plt.bar(br6, MAP_Class_5, color ='aqua', width = barWidth,edgecolor ='grey', label ='MAP_Class_5')\n",
    "\n",
    " # Adding Xticks\n",
    "plt.xlabel('Mean Arterial Pressure', fontweight ='bold', fontsize = 15)\n",
    "plt.ylabel('Percentages', fontweight ='bold', fontsize = 15)\n",
    "plt.xticks([r + barWidth for r in range(len(MAP_Class_0))],\n",
    "        ['Cluster 0', 'Cluster 1', 'Cluster 2', 'Cluster 3'])\n",
    "\n",
    "plt.legend()\n",
    "plt.show()"
   ]
  },
  {
   "cell_type": "markdown",
   "metadata": {},
   "source": [
    "## 4.1.4 Cholesterol"
   ]
  },
  {
   "cell_type": "code",
   "execution_count": 63,
   "metadata": {
    "execution": {
     "iopub.execute_input": "2022-03-17T20:00:52.077943Z",
     "iopub.status.busy": "2022-03-17T20:00:52.077445Z",
     "iopub.status.idle": "2022-03-17T20:00:52.097941Z",
     "shell.execute_reply": "2022-03-17T20:00:52.096988Z",
     "shell.execute_reply.started": "2022-03-17T20:00:52.077874Z"
    }
   },
   "outputs": [
    {
     "data": {
      "text/html": [
       "<div>\n",
       "<style scoped>\n",
       "    .dataframe tbody tr th:only-of-type {\n",
       "        vertical-align: middle;\n",
       "    }\n",
       "\n",
       "    .dataframe tbody tr th {\n",
       "        vertical-align: top;\n",
       "    }\n",
       "\n",
       "    .dataframe thead th {\n",
       "        text-align: right;\n",
       "    }\n",
       "</style>\n",
       "<table border=\"1\" class=\"dataframe\">\n",
       "  <thead>\n",
       "    <tr style=\"text-align: right;\">\n",
       "      <th></th>\n",
       "      <th>cholesterol_0</th>\n",
       "      <th>cholesterol_1</th>\n",
       "      <th>cholesterol_2</th>\n",
       "    </tr>\n",
       "  </thead>\n",
       "  <tbody>\n",
       "    <tr>\n",
       "      <th>Cluster 0</th>\n",
       "      <td>22.06</td>\n",
       "      <td>29.81</td>\n",
       "      <td>48.41</td>\n",
       "    </tr>\n",
       "    <tr>\n",
       "      <th>Cluster 1</th>\n",
       "      <td>89.16</td>\n",
       "      <td>92.40</td>\n",
       "      <td>92.00</td>\n",
       "    </tr>\n",
       "    <tr>\n",
       "      <th>Cluster 2</th>\n",
       "      <td>18.84</td>\n",
       "      <td>26.92</td>\n",
       "      <td>44.38</td>\n",
       "    </tr>\n",
       "    <tr>\n",
       "      <th>Cluster 3</th>\n",
       "      <td>85.04</td>\n",
       "      <td>90.33</td>\n",
       "      <td>95.20</td>\n",
       "    </tr>\n",
       "  </tbody>\n",
       "</table>\n",
       "</div>"
      ],
      "text/plain": [
       "           cholesterol_0  cholesterol_1  cholesterol_2\n",
       "Cluster 0          22.06          29.81          48.41\n",
       "Cluster 1          89.16          92.40          92.00\n",
       "Cluster 2          18.84          26.92          44.38\n",
       "Cluster 3          85.04          90.33          95.20"
      ]
     },
     "execution_count": 63,
     "metadata": {},
     "output_type": "execute_result"
    }
   ],
   "source": [
    "df_chol.head()"
   ]
  },
  {
   "cell_type": "code",
   "execution_count": 64,
   "metadata": {
    "execution": {
     "iopub.execute_input": "2022-03-17T20:00:52.099775Z",
     "iopub.status.busy": "2022-03-17T20:00:52.099402Z",
     "iopub.status.idle": "2022-03-17T20:00:52.478748Z",
     "shell.execute_reply": "2022-03-17T20:00:52.477725Z",
     "shell.execute_reply.started": "2022-03-17T20:00:52.099707Z"
    }
   },
   "outputs": [
    {
     "data": {
      "image/png": "[encoded data removed]",
      "text/plain": [
       "<Figure size 864x576 with 1 Axes>"
      ]
     },
     "metadata": {},
     "output_type": "display_data"
    }
   ],
   "source": [
    "# set width of bar\n",
    "barWidth = 0.20\n",
    "fig = plt.subplots(figsize =(12, 8))\n",
    " \n",
    "# set height of bar\n",
    "cholesterol_0 = df_chol['cholesterol_0']\n",
    "cholesterol_1 = df_chol['cholesterol_1']\n",
    "cholesterol_2 = df_chol['cholesterol_2']\n",
    " \n",
    "# Set position of bar on X axis\n",
    "br1 = np.arange(len(cholesterol_0))\n",
    "br2 = [x + barWidth for x in br1]\n",
    "br3 = [x + barWidth for x in br2]\n",
    " \n",
    "# Make the plot\n",
    "plt.bar(br1, cholesterol_0, color ='maroon', width = barWidth,edgecolor ='grey', label ='cholesterol_0')\n",
    "plt.bar(br2, cholesterol_1, color ='r', width = barWidth,edgecolor ='grey', label ='cholesterol_1')\n",
    "plt.bar(br3, cholesterol_2, color ='orange', width = barWidth,edgecolor ='grey', label ='cholesterol_2')\n",
    " \n",
    "# Adding Xticks\n",
    "plt.xlabel('Cholesterol', fontweight ='bold', fontsize = 15)\n",
    "plt.ylabel('Percentages', fontweight ='bold', fontsize = 15)\n",
    "plt.xticks([r + barWidth for r in range(len(cholesterol_0))],\n",
    "        ['Cluster 0', 'Cluster 1', 'Cluster 2', 'Cluster 3'])\n",
    " \n",
    "plt.legend()\n",
    "plt.show()"
   ]
  },
  {
   "cell_type": "markdown",
   "metadata": {},
   "source": [
    "<div style=\"color:white;\n",
    "           display:fill;\n",
    "           border-radius:5px;\n",
    "           background-color:#2792a5;\n",
    "           font-size:110%;\n",
    "           font-family:Verdana;\n",
    "           letter-spacing:0.5px\">\n",
    "    <p style=\"padding: 10px;\n",
    "              color:white;\"> These results are intuitive\n",
    "</p></div>"
   ]
  },
  {
   "cell_type": "markdown",
   "metadata": {},
   "source": [
    "## 4.1.5 Glucose"
   ]
  },
  {
   "cell_type": "code",
   "execution_count": 65,
   "metadata": {
    "execution": {
     "iopub.execute_input": "2022-03-17T20:00:52.480757Z",
     "iopub.status.busy": "2022-03-17T20:00:52.480176Z",
     "iopub.status.idle": "2022-03-17T20:00:52.504015Z",
     "shell.execute_reply": "2022-03-17T20:00:52.502921Z",
     "shell.execute_reply.started": "2022-03-17T20:00:52.480677Z"
    }
   },
   "outputs": [
    {
     "data": {
      "text/html": [
       "<div>\n",
       "<style scoped>\n",
       "    .dataframe tbody tr th:only-of-type {\n",
       "        vertical-align: middle;\n",
       "    }\n",
       "\n",
       "    .dataframe tbody tr th {\n",
       "        vertical-align: top;\n",
       "    }\n",
       "\n",
       "    .dataframe thead th {\n",
       "        text-align: right;\n",
       "    }\n",
       "</style>\n",
       "<table border=\"1\" class=\"dataframe\">\n",
       "  <thead>\n",
       "    <tr style=\"text-align: right;\">\n",
       "      <th></th>\n",
       "      <th>gluc_0</th>\n",
       "      <th>gluc_1</th>\n",
       "      <th>gluc_2</th>\n",
       "    </tr>\n",
       "  </thead>\n",
       "  <tbody>\n",
       "    <tr>\n",
       "      <th>Cluster 0</th>\n",
       "      <td>23.69</td>\n",
       "      <td>28.45</td>\n",
       "      <td>31.87</td>\n",
       "    </tr>\n",
       "    <tr>\n",
       "      <th>Cluster 1</th>\n",
       "      <td>90.18</td>\n",
       "      <td>90.39</td>\n",
       "      <td>89.40</td>\n",
       "    </tr>\n",
       "    <tr>\n",
       "      <th>Cluster 2</th>\n",
       "      <td>20.78</td>\n",
       "      <td>24.72</td>\n",
       "      <td>31.12</td>\n",
       "    </tr>\n",
       "    <tr>\n",
       "      <th>Cluster 3</th>\n",
       "      <td>86.95</td>\n",
       "      <td>90.59</td>\n",
       "      <td>91.51</td>\n",
       "    </tr>\n",
       "  </tbody>\n",
       "</table>\n",
       "</div>"
      ],
      "text/plain": [
       "           gluc_0  gluc_1  gluc_2\n",
       "Cluster 0   23.69   28.45   31.87\n",
       "Cluster 1   90.18   90.39   89.40\n",
       "Cluster 2   20.78   24.72   31.12\n",
       "Cluster 3   86.95   90.59   91.51"
      ]
     },
     "execution_count": 65,
     "metadata": {},
     "output_type": "execute_result"
    }
   ],
   "source": [
    "df_gluc.head()"
   ]
  },
  {
   "cell_type": "code",
   "execution_count": 66,
   "metadata": {
    "execution": {
     "iopub.execute_input": "2022-03-17T20:00:52.506943Z",
     "iopub.status.busy": "2022-03-17T20:00:52.506179Z",
     "iopub.status.idle": "2022-03-17T20:00:53.033738Z",
     "shell.execute_reply": "2022-03-17T20:00:53.032745Z",
     "shell.execute_reply.started": "2022-03-17T20:00:52.506484Z"
    }
   },
   "outputs": [
    {
     "data": {
      "image/png": "[encoded data removed]",
      "text/plain": [
       "<Figure size 864x576 with 1 Axes>"
      ]
     },
     "metadata": {},
     "output_type": "display_data"
    }
   ],
   "source": [
    "# set width of bar\n",
    "barWidth = 0.20\n",
    "fig = plt.subplots(figsize =(12, 8))\n",
    " \n",
    "# set height of bar\n",
    "gluc_0 = df_gluc['gluc_0']\n",
    "gluc_1 = df_gluc['gluc_1']\n",
    "gluc_2 = df_gluc['gluc_2']\n",
    " \n",
    "# Set position of bar on X axis\n",
    "br1 = np.arange(len(gluc_0))\n",
    "br2 = [x + barWidth for x in br1]\n",
    "br3 = [x + barWidth for x in br2]\n",
    " \n",
    "# Make the plot\n",
    "plt.bar(br1, gluc_0, color ='maroon', width = barWidth,edgecolor ='grey', label ='gluc_0')\n",
    "plt.bar(br2, gluc_1, color ='r', width = barWidth,edgecolor ='grey', label ='gluc_1')\n",
    "plt.bar(br3, gluc_2, color ='orange', width = barWidth,edgecolor ='grey', label ='gluc_2')\n",
    " \n",
    "# Adding Xticks\n",
    "plt.xlabel('Glucose', fontweight ='bold', fontsize = 15)\n",
    "plt.ylabel('Percentages', fontweight ='bold', fontsize = 15)\n",
    "plt.xticks([r + barWidth for r in range(len(gluc_0))],\n",
    "        ['Cluster 0', 'Cluster 1', 'Cluster 2', 'Cluster 3'])\n",
    " \n",
    "plt.legend()\n",
    "plt.show()"
   ]
  },
  {
   "cell_type": "markdown",
   "metadata": {},
   "source": [
    "<div style=\"color:white;\n",
    "           display:fill;\n",
    "           border-radius:5px;\n",
    "           background-color:#2792a5;\n",
    "           font-size:110%;\n",
    "           font-family:Verdana;\n",
    "           letter-spacing:0.5px\">\n",
    "    <p style=\"padding: 10px;\n",
    "              color:white;\"> These results are intuitive\n",
    "</p></div>"
   ]
  },
  {
   "cell_type": "markdown",
   "metadata": {},
   "source": [
    "## 4.1.6 Smokers"
   ]
  },
  {
   "cell_type": "code",
   "execution_count": 67,
   "metadata": {
    "execution": {
     "iopub.execute_input": "2022-03-17T20:00:53.035791Z",
     "iopub.status.busy": "2022-03-17T20:00:53.035219Z",
     "iopub.status.idle": "2022-03-17T20:00:53.056208Z",
     "shell.execute_reply": "2022-03-17T20:00:53.055211Z",
     "shell.execute_reply.started": "2022-03-17T20:00:53.035730Z"
    }
   },
   "outputs": [
    {
     "data": {
      "text/html": [
       "<div>\n",
       "<style scoped>\n",
       "    .dataframe tbody tr th:only-of-type {\n",
       "        vertical-align: middle;\n",
       "    }\n",
       "\n",
       "    .dataframe tbody tr th {\n",
       "        vertical-align: top;\n",
       "    }\n",
       "\n",
       "    .dataframe thead th {\n",
       "        text-align: right;\n",
       "    }\n",
       "</style>\n",
       "<table border=\"1\" class=\"dataframe\">\n",
       "  <thead>\n",
       "    <tr style=\"text-align: right;\">\n",
       "      <th></th>\n",
       "      <th>smoke_0</th>\n",
       "      <th>smoke_1</th>\n",
       "    </tr>\n",
       "  </thead>\n",
       "  <tbody>\n",
       "    <tr>\n",
       "      <th>Cluster 0</th>\n",
       "      <td>25.93</td>\n",
       "      <td>18.90</td>\n",
       "    </tr>\n",
       "    <tr>\n",
       "      <th>Cluster 1</th>\n",
       "      <td>90.48</td>\n",
       "      <td>88.86</td>\n",
       "    </tr>\n",
       "    <tr>\n",
       "      <th>Cluster 2</th>\n",
       "      <td>21.73</td>\n",
       "      <td>19.49</td>\n",
       "    </tr>\n",
       "    <tr>\n",
       "      <th>Cluster 3</th>\n",
       "      <td>87.70</td>\n",
       "      <td>88.43</td>\n",
       "    </tr>\n",
       "  </tbody>\n",
       "</table>\n",
       "</div>"
      ],
      "text/plain": [
       "           smoke_0  smoke_1\n",
       "Cluster 0    25.93    18.90\n",
       "Cluster 1    90.48    88.86\n",
       "Cluster 2    21.73    19.49\n",
       "Cluster 3    87.70    88.43"
      ]
     },
     "execution_count": 67,
     "metadata": {},
     "output_type": "execute_result"
    }
   ],
   "source": [
    "df_smokers.head()"
   ]
  },
  {
   "cell_type": "code",
   "execution_count": 68,
   "metadata": {
    "execution": {
     "iopub.execute_input": "2022-03-17T20:00:53.058462Z",
     "iopub.status.busy": "2022-03-17T20:00:53.057919Z",
     "iopub.status.idle": "2022-03-17T20:00:53.426787Z",
     "shell.execute_reply": "2022-03-17T20:00:53.426009Z",
     "shell.execute_reply.started": "2022-03-17T20:00:53.058399Z"
    }
   },
   "outputs": [
    {
     "data": {
      "image/png": "[encoded data removed]",
      "text/plain": [
       "<Figure size 864x576 with 1 Axes>"
      ]
     },
     "metadata": {},
     "output_type": "display_data"
    }
   ],
   "source": [
    "# set width of bar\n",
    "barWidth = 0.20\n",
    "fig = plt.subplots(figsize =(12, 8))\n",
    " \n",
    "# set height of bar\n",
    "smoke_0 = df_smokers['smoke_0']\n",
    "smoke_1 = df_smokers['smoke_1']\n",
    "\n",
    " # Set position of bar on X axis\n",
    "br1 = np.arange(len(gluc_0))\n",
    "br2 = [x + barWidth for x in br1]\n",
    "br3 = [x + barWidth for x in br2]\n",
    " \n",
    "# Make the plot\n",
    "plt.bar(br1, smoke_0, color ='yellow', width = barWidth,edgecolor ='grey', label ='smoke_0')\n",
    "plt.bar(br2, smoke_1, color ='orange', width = barWidth,edgecolor ='grey', label ='smoke_1')\n",
    "\n",
    "# Adding Xticks\n",
    "plt.xlabel('Smokers', fontweight ='bold', fontsize = 15)\n",
    "plt.ylabel('Percentages', fontweight ='bold', fontsize = 15)\n",
    "plt.xticks([r + barWidth for r in range(len(smoke_0))],\n",
    "        ['Cluster 0', 'Cluster 1', 'Cluster 2', 'Cluster 3'])\n",
    " \n",
    "plt.legend()\n",
    "plt.show()"
   ]
  },
  {
   "cell_type": "markdown",
   "metadata": {},
   "source": [
    "<div style=\"color:white;\n",
    "           display:fill;\n",
    "           border-radius:5px;\n",
    "           background-color:#2792a5;\n",
    "           font-size:110%;\n",
    "           font-family:Verdana;\n",
    "           letter-spacing:0.5px\">\n",
    "    <p style=\"padding: 10px;\n",
    "              color:white;\"> These results are counter-intuitive. Non-Smokers tends to have more CVD? \n",
    "</p></div>"
   ]
  },
  {
   "cell_type": "markdown",
   "metadata": {},
   "source": [
    "## 4.1.7 Actives"
   ]
  },
  {
   "cell_type": "code",
   "execution_count": 69,
   "metadata": {
    "execution": {
     "iopub.execute_input": "2022-03-17T20:00:53.429252Z",
     "iopub.status.busy": "2022-03-17T20:00:53.428359Z",
     "iopub.status.idle": "2022-03-17T20:00:53.444364Z",
     "shell.execute_reply": "2022-03-17T20:00:53.443189Z",
     "shell.execute_reply.started": "2022-03-17T20:00:53.429181Z"
    }
   },
   "outputs": [
    {
     "data": {
      "text/html": [
       "<div>\n",
       "<style scoped>\n",
       "    .dataframe tbody tr th:only-of-type {\n",
       "        vertical-align: middle;\n",
       "    }\n",
       "\n",
       "    .dataframe tbody tr th {\n",
       "        vertical-align: top;\n",
       "    }\n",
       "\n",
       "    .dataframe thead th {\n",
       "        text-align: right;\n",
       "    }\n",
       "</style>\n",
       "<table border=\"1\" class=\"dataframe\">\n",
       "  <thead>\n",
       "    <tr style=\"text-align: right;\">\n",
       "      <th></th>\n",
       "      <th>active_0</th>\n",
       "      <th>active_1</th>\n",
       "    </tr>\n",
       "  </thead>\n",
       "  <tbody>\n",
       "    <tr>\n",
       "      <th>Cluster 0</th>\n",
       "      <td>29.93</td>\n",
       "      <td>23.16</td>\n",
       "    </tr>\n",
       "    <tr>\n",
       "      <th>Cluster 1</th>\n",
       "      <td>91.70</td>\n",
       "      <td>89.73</td>\n",
       "    </tr>\n",
       "    <tr>\n",
       "      <th>Cluster 2</th>\n",
       "      <td>24.19</td>\n",
       "      <td>21.10</td>\n",
       "    </tr>\n",
       "    <tr>\n",
       "      <th>Cluster 3</th>\n",
       "      <td>88.99</td>\n",
       "      <td>87.38</td>\n",
       "    </tr>\n",
       "  </tbody>\n",
       "</table>\n",
       "</div>"
      ],
      "text/plain": [
       "           active_0  active_1\n",
       "Cluster 0     29.93     23.16\n",
       "Cluster 1     91.70     89.73\n",
       "Cluster 2     24.19     21.10\n",
       "Cluster 3     88.99     87.38"
      ]
     },
     "execution_count": 69,
     "metadata": {},
     "output_type": "execute_result"
    }
   ],
   "source": [
    "df_actives.head()"
   ]
  },
  {
   "cell_type": "code",
   "execution_count": 70,
   "metadata": {
    "execution": {
     "iopub.execute_input": "2022-03-17T20:00:53.447091Z",
     "iopub.status.busy": "2022-03-17T20:00:53.446668Z",
     "iopub.status.idle": "2022-03-17T20:00:53.815035Z",
     "shell.execute_reply": "2022-03-17T20:00:53.813643Z",
     "shell.execute_reply.started": "2022-03-17T20:00:53.447014Z"
    }
   },
   "outputs": [
    {
     "data": {
      "image/png": "[encoded data removed]",
      "text/plain": [
       "<Figure size 864x576 with 1 Axes>"
      ]
     },
     "metadata": {},
     "output_type": "display_data"
    }
   ],
   "source": [
    "# set width of bar\n",
    "barWidth = 0.20\n",
    "fig = plt.subplots(figsize =(12, 8))\n",
    " \n",
    "# set height of bar\n",
    "active_0 = df_actives['active_0']\n",
    "active_1 = df_actives['active_1']\n",
    "\n",
    " # Set position of bar on X axis\n",
    "br1 = np.arange(len(gluc_0))\n",
    "br2 = [x + barWidth for x in br1]\n",
    "br3 = [x + barWidth for x in br2]\n",
    " \n",
    "# Make the plot\n",
    "plt.bar(br1, active_0, color ='cyan', width = barWidth,edgecolor ='grey', label ='active_0')\n",
    "plt.bar(br2, active_1, color ='lime', width = barWidth,edgecolor ='grey', label ='active_1')\n",
    "\n",
    "# Adding Xticks\n",
    "plt.xlabel('Actives', fontweight ='bold', fontsize = 15)\n",
    "plt.ylabel('Percentages', fontweight ='bold', fontsize = 15)\n",
    "plt.xticks([r + barWidth for r in range(len(active_0))],\n",
    "        ['Cluster 0', 'Cluster 1', 'Cluster 2', 'Cluster 3'])\n",
    " \n",
    "plt.legend()\n",
    "plt.show()"
   ]
  },
  {
   "cell_type": "markdown",
   "metadata": {},
   "source": [
    "<div style=\"color:white;\n",
    "           display:fill;\n",
    "           border-radius:5px;\n",
    "           background-color:#2792a5;\n",
    "           font-size:110%;\n",
    "           font-family:Verdana;\n",
    "           letter-spacing:0.5px\">\n",
    "    <p style=\"padding: 10px;\n",
    "              color:white;\"> These results are counter-intuitive. Non-Active tends to have more CVD? \n",
    "</p></div>"
   ]
  },
  {
   "cell_type": "markdown",
   "metadata": {},
   "source": [
    "# 5.1 Machine Learning\n",
    "\n",
    "## 5.2 Preprocessing"
   ]
  },
  {
   "cell_type": "code",
   "execution_count": 71,
   "metadata": {
    "execution": {
     "iopub.execute_input": "2022-03-17T20:00:53.816883Z",
     "iopub.status.busy": "2022-03-17T20:00:53.816572Z",
     "iopub.status.idle": "2022-03-17T20:00:53.954446Z",
     "shell.execute_reply": "2022-03-17T20:00:53.953276Z",
     "shell.execute_reply.started": "2022-03-17T20:00:53.816821Z"
    }
   },
   "outputs": [],
   "source": [
    "# preprocessing\n",
    "from sklearn.preprocessing import LabelEncoder\n",
    "from sklearn.model_selection import train_test_split, cross_val_score, GridSearchCV\n",
    "import pandas_profiling as pp\n",
    "\n",
    "from sklearn.naive_bayes import GaussianNB"
   ]
  },
  {
   "cell_type": "code",
   "execution_count": 72,
   "metadata": {
    "execution": {
     "iopub.execute_input": "2022-03-17T20:00:53.956622Z",
     "iopub.status.busy": "2022-03-17T20:00:53.956239Z",
     "iopub.status.idle": "2022-03-17T20:00:54.103409Z",
     "shell.execute_reply": "2022-03-17T20:00:54.101961Z",
     "shell.execute_reply.started": "2022-03-17T20:00:53.956549Z"
    }
   },
   "outputs": [
    {
     "data": {
      "text/html": [
       "<div>\n",
       "<style scoped>\n",
       "    .dataframe tbody tr th:only-of-type {\n",
       "        vertical-align: middle;\n",
       "    }\n",
       "\n",
       "    .dataframe tbody tr th {\n",
       "        vertical-align: top;\n",
       "    }\n",
       "\n",
       "    .dataframe thead th {\n",
       "        text-align: right;\n",
       "    }\n",
       "</style>\n",
       "<table border=\"1\" class=\"dataframe\">\n",
       "  <thead>\n",
       "    <tr style=\"text-align: right;\">\n",
       "      <th></th>\n",
       "      <th>Cluster</th>\n",
       "      <th>gender</th>\n",
       "      <th>age_bin</th>\n",
       "      <th>BMI_Class</th>\n",
       "      <th>MAP_Class</th>\n",
       "      <th>cholesterol</th>\n",
       "      <th>gluc</th>\n",
       "      <th>smoke</th>\n",
       "      <th>active</th>\n",
       "      <th>cardio</th>\n",
       "    </tr>\n",
       "  </thead>\n",
       "  <tbody>\n",
       "    <tr>\n",
       "      <th>count</th>\n",
       "      <td>60142.000000</td>\n",
       "      <td>60142.000000</td>\n",
       "      <td>60142.000000</td>\n",
       "      <td>60142.00000</td>\n",
       "      <td>60142.000000</td>\n",
       "      <td>60142.000000</td>\n",
       "      <td>60142.000000</td>\n",
       "      <td>60142.000000</td>\n",
       "      <td>60142.000000</td>\n",
       "      <td>60142.000000</td>\n",
       "    </tr>\n",
       "    <tr>\n",
       "      <th>mean</th>\n",
       "      <td>1.780237</td>\n",
       "      <td>0.347311</td>\n",
       "      <td>4.042233</td>\n",
       "      <td>1.95213</td>\n",
       "      <td>2.237638</td>\n",
       "      <td>0.350953</td>\n",
       "      <td>0.220229</td>\n",
       "      <td>0.085631</td>\n",
       "      <td>0.803648</td>\n",
       "      <td>0.488228</td>\n",
       "    </tr>\n",
       "    <tr>\n",
       "      <th>std</th>\n",
       "      <td>1.082721</td>\n",
       "      <td>0.476120</td>\n",
       "      <td>1.377070</td>\n",
       "      <td>0.92357</td>\n",
       "      <td>0.938629</td>\n",
       "      <td>0.670076</td>\n",
       "      <td>0.567607</td>\n",
       "      <td>0.279820</td>\n",
       "      <td>0.397241</td>\n",
       "      <td>0.499866</td>\n",
       "    </tr>\n",
       "    <tr>\n",
       "      <th>min</th>\n",
       "      <td>0.000000</td>\n",
       "      <td>0.000000</td>\n",
       "      <td>0.000000</td>\n",
       "      <td>0.00000</td>\n",
       "      <td>0.000000</td>\n",
       "      <td>0.000000</td>\n",
       "      <td>0.000000</td>\n",
       "      <td>0.000000</td>\n",
       "      <td>0.000000</td>\n",
       "      <td>0.000000</td>\n",
       "    </tr>\n",
       "    <tr>\n",
       "      <th>25%</th>\n",
       "      <td>1.000000</td>\n",
       "      <td>0.000000</td>\n",
       "      <td>3.000000</td>\n",
       "      <td>1.00000</td>\n",
       "      <td>2.000000</td>\n",
       "      <td>0.000000</td>\n",
       "      <td>0.000000</td>\n",
       "      <td>0.000000</td>\n",
       "      <td>1.000000</td>\n",
       "      <td>0.000000</td>\n",
       "    </tr>\n",
       "    <tr>\n",
       "      <th>50%</th>\n",
       "      <td>2.000000</td>\n",
       "      <td>0.000000</td>\n",
       "      <td>4.000000</td>\n",
       "      <td>2.00000</td>\n",
       "      <td>2.000000</td>\n",
       "      <td>0.000000</td>\n",
       "      <td>0.000000</td>\n",
       "      <td>0.000000</td>\n",
       "      <td>1.000000</td>\n",
       "      <td>0.000000</td>\n",
       "    </tr>\n",
       "    <tr>\n",
       "      <th>75%</th>\n",
       "      <td>3.000000</td>\n",
       "      <td>1.000000</td>\n",
       "      <td>5.000000</td>\n",
       "      <td>2.00000</td>\n",
       "      <td>3.000000</td>\n",
       "      <td>0.000000</td>\n",
       "      <td>0.000000</td>\n",
       "      <td>0.000000</td>\n",
       "      <td>1.000000</td>\n",
       "      <td>1.000000</td>\n",
       "    </tr>\n",
       "    <tr>\n",
       "      <th>max</th>\n",
       "      <td>3.000000</td>\n",
       "      <td>1.000000</td>\n",
       "      <td>6.000000</td>\n",
       "      <td>5.00000</td>\n",
       "      <td>5.000000</td>\n",
       "      <td>2.000000</td>\n",
       "      <td>2.000000</td>\n",
       "      <td>1.000000</td>\n",
       "      <td>1.000000</td>\n",
       "      <td>1.000000</td>\n",
       "    </tr>\n",
       "  </tbody>\n",
       "</table>\n",
       "</div>"
      ],
      "text/plain": [
       "            Cluster        gender      ...             active        cardio\n",
       "count  60142.000000  60142.000000      ...       60142.000000  60142.000000\n",
       "mean       1.780237      0.347311      ...           0.803648      0.488228\n",
       "std        1.082721      0.476120      ...           0.397241      0.499866\n",
       "min        0.000000      0.000000      ...           0.000000      0.000000\n",
       "25%        1.000000      0.000000      ...           1.000000      0.000000\n",
       "50%        2.000000      0.000000      ...           1.000000      0.000000\n",
       "75%        3.000000      1.000000      ...           1.000000      1.000000\n",
       "max        3.000000      1.000000      ...           1.000000      1.000000\n",
       "\n",
       "[8 rows x 10 columns]"
      ]
     },
     "execution_count": 72,
     "metadata": {},
     "output_type": "execute_result"
    }
   ],
   "source": [
    "from sklearn import preprocessing\n",
    "le = preprocessing.LabelEncoder()\n",
    "df_ml = df_clusters.apply(le.fit_transform)\n",
    "df_ml.describe()"
   ]
  },
  {
   "cell_type": "code",
   "execution_count": 73,
   "metadata": {
    "execution": {
     "iopub.execute_input": "2022-03-17T20:00:54.105844Z",
     "iopub.status.busy": "2022-03-17T20:00:54.105482Z",
     "iopub.status.idle": "2022-03-17T20:00:54.115038Z",
     "shell.execute_reply": "2022-03-17T20:00:54.113668Z",
     "shell.execute_reply.started": "2022-03-17T20:00:54.105788Z"
    }
   },
   "outputs": [],
   "source": [
    "target_name = 'cardio'\n",
    "data_target = df_clusters[target_name]\n",
    "data = df_clusters.drop([target_name], axis=1)"
   ]
  },
  {
   "cell_type": "code",
   "execution_count": 74,
   "metadata": {
    "execution": {
     "iopub.execute_input": "2022-03-17T20:00:54.117294Z",
     "iopub.status.busy": "2022-03-17T20:00:54.116925Z",
     "iopub.status.idle": "2022-03-17T20:00:54.149142Z",
     "shell.execute_reply": "2022-03-17T20:00:54.148234Z",
     "shell.execute_reply.started": "2022-03-17T20:00:54.117229Z"
    }
   },
   "outputs": [],
   "source": [
    "#separate into 30/70%\n",
    "train, test, target, target_test = train_test_split(data, data_target, test_size=0.3, random_state=0)"
   ]
  },
  {
   "cell_type": "code",
   "execution_count": 75,
   "metadata": {
    "execution": {
     "iopub.execute_input": "2022-03-17T20:00:54.151479Z",
     "iopub.status.busy": "2022-03-17T20:00:54.150668Z",
     "iopub.status.idle": "2022-03-17T20:00:54.169490Z",
     "shell.execute_reply": "2022-03-17T20:00:54.168593Z",
     "shell.execute_reply.started": "2022-03-17T20:00:54.151420Z"
    }
   },
   "outputs": [],
   "source": [
    "#%% split training set to validation set\n",
    "Xtrain, Xval, Ztrain, Zval = train_test_split(train, target, test_size=0.3, random_state=0)"
   ]
  },
  {
   "cell_type": "markdown",
   "metadata": {},
   "source": [
    "## 5.3 Naive Bayes\n",
    "\n",
    "In machine learning, Naive Bayes classifiers are a family of simple probabilistic classifiers based on applying Bayes' theorem with strong (naive) independence assumptions between the features. Naive Bayes classifiers are highly scalable, requiring a number of parameters linear in the number of variables (features) in a learning problem. Reference Wikipedia.\n",
    "\n",
    "Thanks to https://www.kaggle.com/vbmokin/20-models-for-cardiovascular-disease-prediction"
   ]
  },
  {
   "cell_type": "code",
   "execution_count": 76,
   "metadata": {
    "execution": {
     "iopub.execute_input": "2022-03-17T20:00:54.171168Z",
     "iopub.status.busy": "2022-03-17T20:00:54.170880Z",
     "iopub.status.idle": "2022-03-17T20:00:54.219623Z",
     "shell.execute_reply": "2022-03-17T20:00:54.218666Z",
     "shell.execute_reply.started": "2022-03-17T20:00:54.171115Z"
    }
   },
   "outputs": [
    {
     "data": {
      "text/plain": [
       "70.46"
      ]
     },
     "execution_count": 76,
     "metadata": {},
     "output_type": "execute_result"
    }
   ],
   "source": [
    "# Gaussian Naive Bayes\n",
    "\n",
    "gaussian = GaussianNB()\n",
    "gaussian.fit(train, target)\n",
    "acc_gaussian = round(gaussian.score(train, target) * 100, 2)\n",
    "acc_gaussian"
   ]
  },
  {
   "cell_type": "code",
   "execution_count": 77,
   "metadata": {
    "execution": {
     "iopub.execute_input": "2022-03-17T20:00:54.221819Z",
     "iopub.status.busy": "2022-03-17T20:00:54.221471Z",
     "iopub.status.idle": "2022-03-17T20:00:54.235294Z",
     "shell.execute_reply": "2022-03-17T20:00:54.233801Z",
     "shell.execute_reply.started": "2022-03-17T20:00:54.221765Z"
    }
   },
   "outputs": [
    {
     "data": {
      "text/plain": [
       "70.71"
      ]
     },
     "execution_count": 77,
     "metadata": {},
     "output_type": "execute_result"
    }
   ],
   "source": [
    "acc_test_gaussian = round(gaussian.score(test, target_test) * 100, 2)\n",
    "acc_test_gaussian"
   ]
  },
  {
   "cell_type": "code",
   "execution_count": 78,
   "metadata": {
    "execution": {
     "iopub.execute_input": "2022-03-17T20:00:54.237632Z",
     "iopub.status.busy": "2022-03-17T20:00:54.237250Z",
     "iopub.status.idle": "2022-03-17T20:00:54.246755Z",
     "shell.execute_reply": "2022-03-17T20:00:54.245299Z",
     "shell.execute_reply.started": "2022-03-17T20:00:54.237542Z"
    }
   },
   "outputs": [
    {
     "data": {
      "text/plain": [
       "-0.25"
      ]
     },
     "execution_count": 78,
     "metadata": {},
     "output_type": "execute_result"
    }
   ],
   "source": [
    "diff_gaussian = acc_gaussian - acc_test_gaussian\n",
    "diff_gaussian"
   ]
  },
  {
   "cell_type": "code",
   "execution_count": 79,
   "metadata": {
    "execution": {
     "iopub.execute_input": "2022-03-17T20:00:54.249263Z",
     "iopub.status.busy": "2022-03-17T20:00:54.248865Z",
     "iopub.status.idle": "2022-03-17T20:00:54.556078Z",
     "shell.execute_reply": "2022-03-17T20:00:54.555054Z",
     "shell.execute_reply.started": "2022-03-17T20:00:54.249199Z"
    }
   },
   "outputs": [
    {
     "data": {
      "image/png": "[encoded data removed]",
      "text/plain": [
       "<Figure size 432x288 with 2 Axes>"
      ]
     },
     "metadata": {},
     "output_type": "display_data"
    }
   ],
   "source": [
    "y_pred_gauss = gaussian.predict(Xval)\n",
    "\n",
    "#Get the confusion matrix \n",
    "cf_matrix = confusion_matrix(Zval, y_pred_gauss)\n",
    "\n",
    "ax = sns.heatmap(cf_matrix/np.sum(cf_matrix), annot=True, fmt='.2%', cmap='Blues')\n",
    "\n",
    "ax.set_title('Confusion Matrix for Naive Bayes\\n');\n",
    "ax.set_xlabel('\\nPredicted Value')\n",
    "ax.set_ylabel('Actual Value ');\n",
    "\n",
    "## Display the visualization of the Confusion Matrix.\n",
    "plt.show()"
   ]
  },
  {
   "cell_type": "code",
   "execution_count": 80,
   "metadata": {
    "execution": {
     "iopub.execute_input": "2022-03-17T20:00:54.558858Z",
     "iopub.status.busy": "2022-03-17T20:00:54.557915Z",
     "iopub.status.idle": "2022-03-17T20:00:54.596152Z",
     "shell.execute_reply": "2022-03-17T20:00:54.594879Z",
     "shell.execute_reply.started": "2022-03-17T20:00:54.558618Z"
    }
   },
   "outputs": [
    {
     "name": "stdout",
     "output_type": "stream",
     "text": [
      "              precision    recall  f1-score   support\n",
      "\n",
      "           0       0.68      0.79      0.73      6450\n",
      "           1       0.74      0.61      0.66      6180\n",
      "\n",
      "   micro avg       0.70      0.70      0.70     12630\n",
      "   macro avg       0.71      0.70      0.70     12630\n",
      "weighted avg       0.71      0.70      0.70     12630\n",
      "\n"
     ]
    }
   ],
   "source": [
    "print(classification_report(Zval, y_pred_gauss))"
   ]
  },
  {
   "cell_type": "markdown",
   "metadata": {},
   "source": [
    "## 5.4 Decision Tree Classifier"
   ]
  },
  {
   "cell_type": "code",
   "execution_count": 81,
   "metadata": {
    "execution": {
     "iopub.execute_input": "2022-03-17T20:00:54.599544Z",
     "iopub.status.busy": "2022-03-17T20:00:54.598472Z",
     "iopub.status.idle": "2022-03-17T20:00:54.674153Z",
     "shell.execute_reply": "2022-03-17T20:00:54.672950Z",
     "shell.execute_reply.started": "2022-03-17T20:00:54.599440Z"
    }
   },
   "outputs": [],
   "source": [
    "from sklearn.tree import DecisionTreeClassifier\n"
   ]
  },
  {
   "cell_type": "code",
   "execution_count": 82,
   "metadata": {
    "execution": {
     "iopub.execute_input": "2022-03-17T20:00:54.676325Z",
     "iopub.status.busy": "2022-03-17T20:00:54.675631Z",
     "iopub.status.idle": "2022-03-17T20:00:54.734692Z",
     "shell.execute_reply": "2022-03-17T20:00:54.733628Z",
     "shell.execute_reply.started": "2022-03-17T20:00:54.676272Z"
    }
   },
   "outputs": [
    {
     "data": {
      "text/plain": [
       "87.42"
      ]
     },
     "execution_count": 82,
     "metadata": {},
     "output_type": "execute_result"
    }
   ],
   "source": [
    "# Decision Tree Classifier\n",
    "\n",
    "decision_tree = DecisionTreeClassifier()\n",
    "decision_tree.fit(train, target)\n",
    "acc_decision_tree = round(decision_tree.score(train, target) * 100, 2)\n",
    "acc_decision_tree"
   ]
  },
  {
   "cell_type": "code",
   "execution_count": 83,
   "metadata": {
    "execution": {
     "iopub.execute_input": "2022-03-17T20:00:54.737200Z",
     "iopub.status.busy": "2022-03-17T20:00:54.736839Z",
     "iopub.status.idle": "2022-03-17T20:00:54.749670Z",
     "shell.execute_reply": "2022-03-17T20:00:54.748375Z",
     "shell.execute_reply.started": "2022-03-17T20:00:54.737139Z"
    }
   },
   "outputs": [
    {
     "data": {
      "text/plain": [
       "86.27"
      ]
     },
     "execution_count": 83,
     "metadata": {},
     "output_type": "execute_result"
    }
   ],
   "source": [
    "acc_test_decision_tree = round(decision_tree.score(test, target_test) * 100, 2)\n",
    "acc_test_decision_tree"
   ]
  },
  {
   "cell_type": "code",
   "execution_count": 84,
   "metadata": {
    "execution": {
     "iopub.execute_input": "2022-03-17T20:00:54.752272Z",
     "iopub.status.busy": "2022-03-17T20:00:54.751623Z",
     "iopub.status.idle": "2022-03-17T20:00:54.759404Z",
     "shell.execute_reply": "2022-03-17T20:00:54.758330Z",
     "shell.execute_reply.started": "2022-03-17T20:00:54.752198Z"
    }
   },
   "outputs": [
    {
     "data": {
      "text/plain": [
       "1.1500000000000057"
      ]
     },
     "execution_count": 84,
     "metadata": {},
     "output_type": "execute_result"
    }
   ],
   "source": [
    "diff_decision_tree = acc_decision_tree - acc_test_decision_tree\n",
    "diff_decision_tree"
   ]
  },
  {
   "cell_type": "code",
   "execution_count": 85,
   "metadata": {
    "execution": {
     "iopub.execute_input": "2022-03-17T20:00:54.761458Z",
     "iopub.status.busy": "2022-03-17T20:00:54.760848Z",
     "iopub.status.idle": "2022-03-17T20:00:54.981654Z",
     "shell.execute_reply": "2022-03-17T20:00:54.980638Z",
     "shell.execute_reply.started": "2022-03-17T20:00:54.761405Z"
    }
   },
   "outputs": [
    {
     "data": {
      "image/png": "[encoded data removed]",
      "text/plain": [
       "<Figure size 432x288 with 2 Axes>"
      ]
     },
     "metadata": {},
     "output_type": "display_data"
    }
   ],
   "source": [
    "y_pred_dt = decision_tree.predict(Xval)\n",
    "\n",
    "#Get the confusion matrix \n",
    "cf_matrix = confusion_matrix(Zval, y_pred_dt)\n",
    "\n",
    "ax = sns.heatmap(cf_matrix/np.sum(cf_matrix), annot=True, fmt='.2%', cmap='Blues')\n",
    "\n",
    "ax.set_title('Confusion Matrix for Decision Tree\\n');\n",
    "ax.set_xlabel('\\nPredicted Value')\n",
    "ax.set_ylabel('Actual Value ');\n",
    "\n",
    "## Display the visualization of the Confusion Matrix.\n",
    "plt.show()"
   ]
  },
  {
   "cell_type": "code",
   "execution_count": 86,
   "metadata": {
    "execution": {
     "iopub.execute_input": "2022-03-17T20:00:54.983689Z",
     "iopub.status.busy": "2022-03-17T20:00:54.983127Z",
     "iopub.status.idle": "2022-03-17T20:00:55.013464Z",
     "shell.execute_reply": "2022-03-17T20:00:55.012464Z",
     "shell.execute_reply.started": "2022-03-17T20:00:54.983626Z"
    }
   },
   "outputs": [
    {
     "name": "stdout",
     "output_type": "stream",
     "text": [
      "              precision    recall  f1-score   support\n",
      "\n",
      "           0       0.87      0.89      0.88      6450\n",
      "           1       0.89      0.86      0.87      6180\n",
      "\n",
      "   micro avg       0.88      0.88      0.88     12630\n",
      "   macro avg       0.88      0.88      0.88     12630\n",
      "weighted avg       0.88      0.88      0.88     12630\n",
      "\n"
     ]
    }
   ],
   "source": [
    "print(classification_report(Zval, y_pred_dt))"
   ]
  },
  {
   "cell_type": "markdown",
   "metadata": {},
   "source": [
    "## 5.5 Random Forest"
   ]
  },
  {
   "cell_type": "code",
   "execution_count": 87,
   "metadata": {
    "execution": {
     "iopub.execute_input": "2022-03-17T20:00:55.015794Z",
     "iopub.status.busy": "2022-03-17T20:00:55.015039Z",
     "iopub.status.idle": "2022-03-17T20:00:55.052297Z",
     "shell.execute_reply": "2022-03-17T20:00:55.051152Z",
     "shell.execute_reply.started": "2022-03-17T20:00:55.015720Z"
    }
   },
   "outputs": [],
   "source": [
    "from sklearn.ensemble import RandomForestClassifier, GradientBoostingClassifier, ExtraTreesClassifier \n",
    "from sklearn.model_selection import train_test_split, cross_val_score, GridSearchCV"
   ]
  },
  {
   "cell_type": "code",
   "execution_count": 88,
   "metadata": {
    "execution": {
     "iopub.execute_input": "2022-03-17T20:00:55.055218Z",
     "iopub.status.busy": "2022-03-17T20:00:55.054376Z",
     "iopub.status.idle": "2022-03-17T20:02:21.080640Z",
     "shell.execute_reply": "2022-03-17T20:02:21.079610Z",
     "shell.execute_reply.started": "2022-03-17T20:00:55.055146Z"
    }
   },
   "outputs": [
    {
     "name": "stdout",
     "output_type": "stream",
     "text": [
      "87.42 {'n_estimators': 100}\n"
     ]
    }
   ],
   "source": [
    "# Random Forest\n",
    "\n",
    "random_forest = GridSearchCV(estimator=RandomForestClassifier(), param_grid={'n_estimators': [100, 300]}, cv=5).fit(train, target)\n",
    "random_forest.fit(train, target)\n",
    "acc_random_forest = round(random_forest.score(train, target) * 100, 2)\n",
    "print(acc_random_forest,random_forest.best_params_)"
   ]
  },
  {
   "cell_type": "code",
   "execution_count": 89,
   "metadata": {
    "execution": {
     "iopub.execute_input": "2022-03-17T20:02:21.082902Z",
     "iopub.status.busy": "2022-03-17T20:02:21.082488Z",
     "iopub.status.idle": "2022-03-17T20:02:21.340871Z",
     "shell.execute_reply": "2022-03-17T20:02:21.340037Z",
     "shell.execute_reply.started": "2022-03-17T20:02:21.082816Z"
    }
   },
   "outputs": [
    {
     "data": {
      "text/plain": [
       "86.58"
      ]
     },
     "execution_count": 89,
     "metadata": {},
     "output_type": "execute_result"
    }
   ],
   "source": [
    "acc_test_random_forest = round(random_forest.score(test, target_test) * 100, 2)\n",
    "acc_test_random_forest"
   ]
  },
  {
   "cell_type": "code",
   "execution_count": 90,
   "metadata": {
    "execution": {
     "iopub.execute_input": "2022-03-17T20:02:21.342516Z",
     "iopub.status.busy": "2022-03-17T20:02:21.342240Z",
     "iopub.status.idle": "2022-03-17T20:02:21.348902Z",
     "shell.execute_reply": "2022-03-17T20:02:21.347675Z",
     "shell.execute_reply.started": "2022-03-17T20:02:21.342453Z"
    }
   },
   "outputs": [
    {
     "data": {
      "text/plain": [
       "0.8400000000000034"
      ]
     },
     "execution_count": 90,
     "metadata": {},
     "output_type": "execute_result"
    }
   ],
   "source": [
    "diff_random_forest = acc_random_forest - acc_test_random_forest\n",
    "diff_random_forest"
   ]
  },
  {
   "cell_type": "markdown",
   "metadata": {},
   "source": []
  },
  {
   "cell_type": "code",
   "execution_count": 91,
   "metadata": {
    "execution": {
     "iopub.execute_input": "2022-03-17T20:02:21.350241Z",
     "iopub.status.busy": "2022-03-17T20:02:21.349998Z",
     "iopub.status.idle": "2022-03-17T20:02:21.721090Z",
     "shell.execute_reply": "2022-03-17T20:02:21.720023Z",
     "shell.execute_reply.started": "2022-03-17T20:02:21.350199Z"
    }
   },
   "outputs": [
    {
     "data": {
      "image/png": "[encoded data removed]",
      "text/plain": [
       "<Figure size 432x288 with 2 Axes>"
      ]
     },
     "metadata": {},
     "output_type": "display_data"
    }
   ],
   "source": [
    "y_pred_df = random_forest.predict(Xval)\n",
    "\n",
    "#Get the confusion matrix \n",
    "cf_matrix = confusion_matrix(Zval, y_pred_df)\n",
    "\n",
    "ax = sns.heatmap(cf_matrix/np.sum(cf_matrix), annot=True, fmt='.2%', cmap='Blues')\n",
    "\n",
    "ax.set_title('Confusion Matrix for Random Forest\\n');\n",
    "ax.set_xlabel('\\nPredicted Value')\n",
    "ax.set_ylabel('Actual Value ');\n",
    "\n",
    "## Display the visualization of the Confusion Matrix.\n",
    "plt.show()"
   ]
  },
  {
   "cell_type": "code",
   "execution_count": 92,
   "metadata": {
    "execution": {
     "iopub.execute_input": "2022-03-17T20:02:21.724115Z",
     "iopub.status.busy": "2022-03-17T20:02:21.723116Z",
     "iopub.status.idle": "2022-03-17T20:02:21.760348Z",
     "shell.execute_reply": "2022-03-17T20:02:21.759185Z",
     "shell.execute_reply.started": "2022-03-17T20:02:21.724048Z"
    }
   },
   "outputs": [
    {
     "name": "stdout",
     "output_type": "stream",
     "text": [
      "              precision    recall  f1-score   support\n",
      "\n",
      "           0       0.87      0.89      0.88      6450\n",
      "           1       0.88      0.86      0.87      6180\n",
      "\n",
      "   micro avg       0.87      0.87      0.87     12630\n",
      "   macro avg       0.88      0.87      0.87     12630\n",
      "weighted avg       0.88      0.87      0.87     12630\n",
      "\n"
     ]
    }
   ],
   "source": [
    "print(classification_report(Zval, y_pred_df))"
   ]
  },
  {
   "cell_type": "markdown",
   "metadata": {},
   "source": [
    "## 5.5 Logistic Regression"
   ]
  },
  {
   "cell_type": "code",
   "execution_count": 93,
   "metadata": {
    "execution": {
     "iopub.execute_input": "2022-03-17T20:02:21.763466Z",
     "iopub.status.busy": "2022-03-17T20:02:21.762499Z",
     "iopub.status.idle": "2022-03-17T20:02:21.857547Z",
     "shell.execute_reply": "2022-03-17T20:02:21.856847Z",
     "shell.execute_reply.started": "2022-03-17T20:02:21.763386Z"
    }
   },
   "outputs": [],
   "source": [
    "from sklearn.linear_model import LogisticRegression"
   ]
  },
  {
   "cell_type": "code",
   "execution_count": 94,
   "metadata": {
    "execution": {
     "iopub.execute_input": "2022-03-17T20:02:21.859391Z",
     "iopub.status.busy": "2022-03-17T20:02:21.858863Z",
     "iopub.status.idle": "2022-03-17T20:02:22.065702Z",
     "shell.execute_reply": "2022-03-17T20:02:22.064254Z",
     "shell.execute_reply.started": "2022-03-17T20:02:21.859347Z"
    }
   },
   "outputs": [
    {
     "data": {
      "text/plain": [
       "82.74"
      ]
     },
     "execution_count": 94,
     "metadata": {},
     "output_type": "execute_result"
    }
   ],
   "source": [
    "# Logistic Regression\n",
    "\n",
    "logreg = LogisticRegression()\n",
    "logreg.fit(train, target)\n",
    "acc_log = round(logreg.score(train, target) * 100, 2)\n",
    "acc_log"
   ]
  },
  {
   "cell_type": "code",
   "execution_count": 95,
   "metadata": {
    "execution": {
     "iopub.execute_input": "2022-03-17T20:02:22.068379Z",
     "iopub.status.busy": "2022-03-17T20:02:22.067748Z",
     "iopub.status.idle": "2022-03-17T20:02:22.088560Z",
     "shell.execute_reply": "2022-03-17T20:02:22.087363Z",
     "shell.execute_reply.started": "2022-03-17T20:02:22.068123Z"
    }
   },
   "outputs": [
    {
     "data": {
      "text/plain": [
       "83.04"
      ]
     },
     "execution_count": 95,
     "metadata": {},
     "output_type": "execute_result"
    }
   ],
   "source": [
    "acc_test_log = round(logreg.score(test, target_test) * 100, 2)\n",
    "acc_test_log"
   ]
  },
  {
   "cell_type": "code",
   "execution_count": 96,
   "metadata": {
    "execution": {
     "iopub.execute_input": "2022-03-17T20:02:22.090953Z",
     "iopub.status.busy": "2022-03-17T20:02:22.090259Z",
     "iopub.status.idle": "2022-03-17T20:02:22.098743Z",
     "shell.execute_reply": "2022-03-17T20:02:22.097671Z",
     "shell.execute_reply.started": "2022-03-17T20:02:22.090886Z"
    }
   },
   "outputs": [
    {
     "data": {
      "text/plain": [
       "-0.30000000000001137"
      ]
     },
     "execution_count": 96,
     "metadata": {},
     "output_type": "execute_result"
    }
   ],
   "source": [
    "diff_log = acc_log - acc_test_log\n",
    "diff_log"
   ]
  },
  {
   "cell_type": "code",
   "execution_count": 97,
   "metadata": {
    "execution": {
     "iopub.execute_input": "2022-03-17T20:02:22.101765Z",
     "iopub.status.busy": "2022-03-17T20:02:22.100747Z",
     "iopub.status.idle": "2022-03-17T20:02:22.423758Z",
     "shell.execute_reply": "2022-03-17T20:02:22.422664Z",
     "shell.execute_reply.started": "2022-03-17T20:02:22.101677Z"
    }
   },
   "outputs": [
    {
     "data": {
      "image/png": "[encoded data removed]",
      "text/plain": [
       "<Figure size 432x288 with 2 Axes>"
      ]
     },
     "metadata": {},
     "output_type": "display_data"
    }
   ],
   "source": [
    "y_pred_lr = logreg.predict(Xval)\n",
    "\n",
    "#Get the confusion matrix \n",
    "cf_matrix = confusion_matrix(Zval, y_pred_lr)\n",
    "\n",
    "ax = sns.heatmap(cf_matrix/np.sum(cf_matrix), annot=True, fmt='.2%', cmap='Blues')\n",
    "\n",
    "ax.set_title('Confusion Matrix for Logistic Regression\\n');\n",
    "ax.set_xlabel('\\nPredicted Value')\n",
    "ax.set_ylabel('Actual Value ');\n",
    "\n",
    "## Display the visualization of the Confusion Matrix.\n",
    "plt.show()"
   ]
  },
  {
   "cell_type": "code",
   "execution_count": 98,
   "metadata": {
    "execution": {
     "iopub.execute_input": "2022-03-17T20:02:22.426662Z",
     "iopub.status.busy": "2022-03-17T20:02:22.425790Z",
     "iopub.status.idle": "2022-03-17T20:02:22.463968Z",
     "shell.execute_reply": "2022-03-17T20:02:22.462763Z",
     "shell.execute_reply.started": "2022-03-17T20:02:22.426591Z"
    }
   },
   "outputs": [
    {
     "name": "stdout",
     "output_type": "stream",
     "text": [
      "              precision    recall  f1-score   support\n",
      "\n",
      "           0       0.85      0.80      0.82      6450\n",
      "           1       0.80      0.85      0.83      6180\n",
      "\n",
      "   micro avg       0.82      0.82      0.82     12630\n",
      "   macro avg       0.82      0.82      0.82     12630\n",
      "weighted avg       0.83      0.82      0.82     12630\n",
      "\n"
     ]
    }
   ],
   "source": [
    "print(classification_report(Zval, y_pred_lr))"
   ]
  },
  {
   "cell_type": "markdown",
   "metadata": {},
   "source": [
    "# 6. Results for Machine Learning Algorithms\n",
    "\n"
   ]
  },
  {
   "cell_type": "code",
   "execution_count": 99,
   "metadata": {
    "execution": {
     "iopub.execute_input": "2022-03-17T20:02:22.467166Z",
     "iopub.status.busy": "2022-03-17T20:02:22.466182Z",
     "iopub.status.idle": "2022-03-17T20:02:22.477537Z",
     "shell.execute_reply": "2022-03-17T20:02:22.476384Z",
     "shell.execute_reply.started": "2022-03-17T20:02:22.467086Z"
    }
   },
   "outputs": [
    {
     "name": "stdout",
     "output_type": "stream",
     "text": [
      "precision for Naive Bayes is 70.71% and difference for test and training was -0.25\n",
      "precision for Decision Tree is 86.27% and difference for test and training was 1.15\n",
      "precision for Random Forest is 86.58% and difference for test and training was 0.84\n",
      "precision for Logistic Regression is 83.04% and difference for test and training was -0.30\n"
     ]
    }
   ],
   "source": [
    "# printing the results\n",
    "print(\"precision for Naive Bayes is {0:.2f}% and difference for test and training was {1:.2f}\". format(acc_test_gaussian,diff_gaussian))\n",
    "print(\"precision for Decision Tree is {0:.2f}% and difference for test and training was {1:.2f}\". format(acc_test_decision_tree,diff_decision_tree))\n",
    "print(\"precision for Random Forest is {0:.2f}% and difference for test and training was {1:.2f}\". format(acc_test_random_forest,diff_random_forest))\n",
    "print(\"precision for Logistic Regression is {0:.2f}% and difference for test and training was {1:.2f}\". format(acc_test_log,diff_log))"
   ]
  },
  {
   "cell_type": "markdown",
   "metadata": {},
   "source": [
    "<div style=\"color:white;\n",
    "           display:fill;\n",
    "           border-radius:5px;\n",
    "           background-color:#2792a5;\n",
    "           font-size:110%;\n",
    "           font-family:Verdana;\n",
    "           letter-spacing:0.5px\">\n",
    "    <p style=\"padding: 10px;\n",
    "              color:white;\"> According to the algorithms used, the Random Forest was the most accurate to classify the data. \n",
    "</p></div>"
   ]
  },
  {
   "cell_type": "markdown",
   "metadata": {},
   "source": [
    "# 7. Final Considerations\n",
    "\n",
    "I will use a similar analysis on other datasets to see if I find similar results;\n",
    "The data reported in Smoke, Active and Gluc could have more categories, possibly improving the analysis;\n",
    "After doing other analysis I will put the links here.\n",
    "\n",
    "**PLEASE VOTE UP!** 📈\n",
    "\n"
   ]
  }
 ],
 "metadata": {
  "kernelspec": {
   "display_name": "Python 3",
   "language": "python",
   "name": "python3"
  },
  "language_info": {
   "codemirror_mode": {
    "name": "ipython",
    "version": 3
   },
   "file_extension": ".py",
   "mimetype": "text/x-python",
   "name": "python",
   "nbconvert_exporter": "python",
   "pygments_lexer": "ipython3",
   "version": "3.6.4"
  }
 },
 "nbformat": 4,
 "nbformat_minor": 4
}
